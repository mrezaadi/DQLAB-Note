{
  "nbformat": 4,
  "nbformat_minor": 0,
  "metadata": {
    "colab": {
      "name": "DQLAB - Data Manipulation with Pandas - Part 1.ipynb",
      "provenance": [],
      "collapsed_sections": [],
      "authorship_tag": "ABX9TyOcEeXQ5rExcl4mmkEwL8+T",
      "include_colab_link": true
    },
    "kernelspec": {
      "name": "python3",
      "display_name": "Python 3"
    },
    "language_info": {
      "name": "python"
    }
  },
  "cells": [
    {
      "cell_type": "markdown",
      "metadata": {
        "id": "view-in-github",
        "colab_type": "text"
      },
      "source": [
        "<a href=\"https://colab.research.google.com/github/mrezaadi/DQLAB-Note/blob/main/Google%20Colab/DQLAB_Data_Manipulation_with_Pandas_Part_1.ipynb\" target=\"_parent\"><img src=\"https://colab.research.google.com/assets/colab-badge.svg\" alt=\"Open In Colab\"/></a>"
      ]
    },
    {
      "cell_type": "code",
      "metadata": {
        "id": "aHm5s8nbKtsP"
      },
      "source": [
        "import pandas as pd\n",
        "import numpy as np"
      ],
      "execution_count": null,
      "outputs": []
    },
    {
      "cell_type": "markdown",
      "metadata": {
        "id": "9NW0n6o9J1iQ"
      },
      "source": [
        "**DASAR**"
      ]
    },
    {
      "cell_type": "markdown",
      "metadata": {
        "id": "fA0DN19THixt"
      },
      "source": [
        "**Series** : satu kolom bagian dari tabel dataframe yang merupakan 1 dimensional numpy array sebagai basis data nya, terdiri dari 1 tipe data (integer, string, float, dll).\n",
        "\n",
        "**DataFrame**: gabungan dari Series, berbentuk rectangular data yang merupakan tabel spreadsheet itu sendiri (karena dibentuk dari banyak Series, tiap Series biasanya punya 1 tipe data, yang artinya 1 dataframe bisa memiliki banyak tipe data)."
      ]
    },
    {
      "cell_type": "code",
      "metadata": {
        "colab": {
          "base_uri": "https://localhost:8080/"
        },
        "id": "vmNy5K5pHotR",
        "outputId": "377f255e-20a2-483f-ca61-1b735e751cf9"
      },
      "source": [
        "print(\"========== MEMBUAT DATA FRAME DARI LIST ==========\")\n",
        "# Creating series from list\n",
        "ex_list = ['a',1,3,5,'c','d']\n",
        "ex_series = pd.Series(ex_list)\n",
        "print(ex_series)\n",
        "\n",
        "# Creating dataframe from list of list\n",
        "ex_list_of_list = [[1 ,'a' ,'b' ,'c'],\n",
        "                   [2.5,'d','e', 'f'],\n",
        "\t\t           [5,'g', 'h', 'i'],\n",
        "\t\t           [7.5, 'j', 10.5, 'l']]\n",
        "index = ['dq', 'lab', 'kar', 'lan']\n",
        "cols = ['float', 'char', 'obj', 'char']\n",
        "ex_df = pd.DataFrame(ex_list_of_list, index=index, columns=cols)\n",
        "print(ex_df)\n",
        "\n",
        "print(\"========== MEMBUAT DATA FRAME DARI DICTIONARY ==========\")\n",
        "\n",
        "# Creating series from dictionary\n",
        "dict_series = {'1':'a',\n",
        "\t\t\t   '2':'b',\n",
        "\t\t\t   '3':'c'}\n",
        "ex_series = pd.Series(dict_series)\n",
        "print(ex_series)\n",
        "# Creating dataframe from dictionary\n",
        "df_series = {'1':['a','b','c'],\n",
        "             '2':['b','c','d'],\n",
        "             '4':[2,3,'z']}\n",
        "ex_df = pd.DataFrame(df_series)\n",
        "print(ex_df)\n",
        "\n",
        "print(\"========== MEMBUAT DATA FRAME DARI NUMPY ==========\")\n",
        "# Creating series from numpy array (1D)\n",
        "arr_series = np.array([1,2,3,4,5,6,6,7])\n",
        "ex_series = pd.Series(arr_series)\n",
        "print(ex_series)\n",
        "# Creating dataframe from numpy array (2D)\n",
        "arr_df = np.array([[1,2,3,5],\n",
        "                   [5,6,7,8],\n",
        "                   ['a', 'b', 'c', 10]])\n",
        "ex_df = pd.DataFrame(arr_df)\n",
        "print(ex_df)"
      ],
      "execution_count": null,
      "outputs": [
        {
          "output_type": "stream",
          "text": [
            "========== MEMBUAT DATA FRAME DARI LIST ==========\n",
            "0    a\n",
            "1    1\n",
            "2    3\n",
            "3    5\n",
            "4    c\n",
            "5    d\n",
            "dtype: object\n",
            "     float char   obj char\n",
            "dq     1.0    a     b    c\n",
            "lab    2.5    d     e    f\n",
            "kar    5.0    g     h    i\n",
            "lan    7.5    j  10.5    l\n",
            "========== MEMBUAT DATA FRAME DARI DICTIONARY ==========\n",
            "1    a\n",
            "2    b\n",
            "3    c\n",
            "dtype: object\n",
            "   1  2  4\n",
            "0  a  b  2\n",
            "1  b  c  3\n",
            "2  c  d  z\n",
            "========== MEMBUAT DATA FRAME DARI NUMPY ==========\n",
            "0    1\n",
            "1    2\n",
            "2    3\n",
            "3    4\n",
            "4    5\n",
            "5    6\n",
            "6    6\n",
            "7    7\n",
            "dtype: int64\n",
            "   0  1  2   3\n",
            "0  1  2  3   5\n",
            "1  5  6  7   8\n",
            "2  a  b  c  10\n"
          ],
          "name": "stdout"
        }
      ]
    },
    {
      "cell_type": "markdown",
      "metadata": {
        "id": "w_GgrwE0JxPt"
      },
      "source": [
        "**ATTRIBUTE**\n",
        "\n",
        "* Attribute .info() digunakan untuk mengecek kolom apa yang membentuk dataframe itu, data types, berapa yang non null, dll. \n",
        "Attribute ini tidak dapat digunakan pada series, hanya pada data frame saja.\n",
        "*  Attribute .shape digunakan untuk mengetahui berapa baris dan kolom, hasilnya dalam format tuple (baris, kolom).\n",
        "* Attribute .dtypes digunakan untuk mengetahui tipe data di tiap kolom. Tipe data object: kombinasi untuk berbagai tipe data (number & text, etc).\n",
        "* Attribute .astype(nama_tipe_data) untuk convert tipe data berdasarkan tipe data seperti: float, int, str, numpy.float, numpy.int ataupun numpy.datetime.\n",
        "* Attribute .copy() digunakan melakukan duplikat, untuk disimpan di variable yang berbeda mungkin supaya tidak loading data lagi.\n",
        "* Attribute .to_list() digunakan untuk mengubah series menjadi list dan tidak dapat digunakan untuk dataframe.\n",
        "* Attribute .unique() digunakan menghasilkan nilai unik dari suatu kolom, hasilnya dalam bentuk numpy array. Attribute ini hanya digunakan pada series saja.\n",
        "* Attribute .index digunakan untuk mencari index/key dari Series atau Dataframe.\n",
        "* Attribute .columns digunakan untuk mengetahui apa saja kolom yang tersedia di dataframe tersebut (hanya digunakan untuk dataframe saja). \n",
        "* Attribute .loc digunakan slice dataframe atau series berdasarkan nama kolom dan/atau nama index.\n",
        "* Attribute .iloc digunakan untuk slice dataframe atau series berdasarkan index kolom dan/atau index."
      ]
    },
    {
      "cell_type": "code",
      "metadata": {
        "colab": {
          "base_uri": "https://localhost:8080/"
        },
        "id": "RQsiiOovJDAh",
        "outputId": "289977db-011a-4055-9a49-481353d8e1df"
      },
      "source": [
        "# Series\n",
        "number_list = pd.Series([1,2,3,4,5,6])\n",
        "print(\"Series:\")\n",
        "print(number_list)\n",
        "\n",
        "# DataFrame\n",
        "matrix = [[1,2,3],\n",
        "          ['a','b','c'],\n",
        "          [3,4,5],\n",
        "          ['d', 4,6]]\n",
        "matrix_list = pd.DataFrame(matrix)\n",
        "print(\"DataFrame:\")\n",
        "print(matrix_list)\n",
        "\n",
        "print(\"========== ATTRIBUTE ==========\")\n",
        "\n",
        "# [1] attribute .info()\n",
        "print(\"\\n[1] attribute .info()\")\n",
        "print(matrix_list.info())\n",
        "\n",
        "# [2] attribute .shape\n",
        "print(\"\\n[2] attribute .shape\")\n",
        "print(\"Shape dari number_list:\", number_list.shape)\n",
        "print(\"Shape dari matrix_list:\", matrix_list.shape)\n",
        "\n",
        "# [3] attribute .dtypes\n",
        "print(\"\\n[3] attribute .dtypes\")\n",
        "print(\"Tipe data number_list:\", number_list.dtypes)\n",
        "print(\"Tipe data matrix_list:\", matrix_list.dtypes)\n",
        "\n",
        "# [4] attribute .astype()\n",
        "print(\"\\n[4] attribute .astype()\")\n",
        "print(\"Konversi number_list ke str:\", number_list.astype(\"str\"))\n",
        "print(\"Konversi matrix_list ke str:\", matrix_list.astype(\"str\"))\n",
        "\n",
        "# [5] attribute .copy()\n",
        "print(\"[5] attribute .copy()\")\n",
        "num_list = number_list.copy()\n",
        "print(\"Copy number_list ke num_list:\", num_list)\n",
        "mtr_list = matrix_list.copy()\n",
        "print(\"Copy matrix_list ke mtr_list:\", mtr_list)\t\n",
        "\n",
        "# [6] attribute .to_list()\n",
        "print(\"[6] attribute .to_list()\")\n",
        "\n",
        "print(number_list.to_list())\n",
        "# [7] attribute .unique()\n",
        "print(\"[7] attribute .unique()\")\n",
        "print(number_list.unique())"
      ],
      "execution_count": null,
      "outputs": [
        {
          "output_type": "stream",
          "text": [
            "Series:\n",
            "0    1\n",
            "1    2\n",
            "2    3\n",
            "3    4\n",
            "4    5\n",
            "5    6\n",
            "dtype: int64\n",
            "DataFrame:\n",
            "   0  1  2\n",
            "0  1  2  3\n",
            "1  a  b  c\n",
            "2  3  4  5\n",
            "3  d  4  6\n",
            "========== ATTRIBUTE ==========\n",
            "\n",
            "[1] attribute .info()\n",
            "<class 'pandas.core.frame.DataFrame'>\n",
            "RangeIndex: 4 entries, 0 to 3\n",
            "Data columns (total 3 columns):\n",
            " #   Column  Non-Null Count  Dtype \n",
            "---  ------  --------------  ----- \n",
            " 0   0       4 non-null      object\n",
            " 1   1       4 non-null      object\n",
            " 2   2       4 non-null      object\n",
            "dtypes: object(3)\n",
            "memory usage: 224.0+ bytes\n",
            "None\n",
            "\n",
            "[2] attribute .shape\n",
            "Shape dari number_list: (6,)\n",
            "Shape dari matrix_list: (4, 3)\n",
            "\n",
            "[3] attribute .dtypes\n",
            "Tipe data number_list: int64\n",
            "Tipe data matrix_list: 0    object\n",
            "1    object\n",
            "2    object\n",
            "dtype: object\n",
            "\n",
            "[4] attribute .astype()\n",
            "Konversi number_list ke str: 0    1\n",
            "1    2\n",
            "2    3\n",
            "3    4\n",
            "4    5\n",
            "5    6\n",
            "dtype: object\n",
            "Konversi matrix_list ke str:    0  1  2\n",
            "0  1  2  3\n",
            "1  a  b  c\n",
            "2  3  4  5\n",
            "3  d  4  6\n",
            "[5] attribute .copy()\n",
            "Copy number_list ke num_list: 0    1\n",
            "1    2\n",
            "2    3\n",
            "3    4\n",
            "4    5\n",
            "5    6\n",
            "dtype: int64\n",
            "Copy matrix_list ke mtr_list:    0  1  2\n",
            "0  1  2  3\n",
            "1  a  b  c\n",
            "2  3  4  5\n",
            "3  d  4  6\n",
            "[6] attribute .to_list()\n",
            "[1, 2, 3, 4, 5, 6]\n",
            "[7] attribute .unique()\n",
            "[1 2 3 4 5 6]\n"
          ],
          "name": "stdout"
        }
      ]
    },
    {
      "cell_type": "code",
      "metadata": {
        "colab": {
          "base_uri": "https://localhost:8080/"
        },
        "id": "KonmZKaXRyMm",
        "outputId": "07d43ec9-1ff7-4aae-d4bf-5d7c998f29d4"
      },
      "source": [
        "# [8] attribute .index\n",
        "print(\"[8] attribute .index\")\n",
        "print(\"Index number_list:\", number_list.index)\n",
        "print(\"Index matrix_list:\", matrix_list.index)\n",
        "\n",
        "# [9] attribute .columns\n",
        "print(\"[9] attribute .columns\")\n",
        "print(\"Column matrix_list:\", matrix_list.columns)\n",
        "\n",
        "# [10] attribute .loc\n",
        "print(\"[10] attribute .loc\")\n",
        "print(\".loc[0:3] pada number_list:\")\n",
        "print(number_list.loc[0:3]) #Data diambil dari index ke 0 sampai ke 3 (Kiri)\n",
        "print(\".loc[0:1] pada matrix_list:\")\n",
        "print(matrix_list.loc[0:1])\n",
        "\n",
        "# [11] attribute .iloc\n",
        "print(\"[11] attribute .iloc\")\n",
        "print(\".iloc[0:3] pada number_list:\")\n",
        "print(number_list.iloc[0:3]) #Data diambil dari index ke 0 sampai ke 3-1 (Kiri)\n",
        "print(\".iloc[0:1] pada matrix_list:\")\n",
        "print(matrix_list.iloc[0:1])\t\n",
        "print(\".iloc[0:2, 1] pada matrix_list:\")\n",
        "print(matrix_list.iloc[0:3, 1])\t#Data diambil dari index ke 0 sampai ke 3-1 (Kiri) dan ada pada index ke 1 (Atas)\n",
        "\n",
        "print(\"\\n\", number_list)\n",
        "print(matrix_list)"
      ],
      "execution_count": null,
      "outputs": [
        {
          "output_type": "stream",
          "text": [
            "[8] attribute .index\n",
            "Index number_list: RangeIndex(start=0, stop=6, step=1)\n",
            "Index matrix_list: RangeIndex(start=0, stop=4, step=1)\n",
            "[9] attribute .columns\n",
            "Column matrix_list: RangeIndex(start=0, stop=3, step=1)\n",
            "[10] attribute .loc\n",
            ".loc[0:3] pada number_list:\n",
            "0    1\n",
            "1    2\n",
            "2    3\n",
            "3    4\n",
            "dtype: int64\n",
            ".loc[0:1] pada matrix_list:\n",
            "   0  1  2\n",
            "0  1  2  3\n",
            "1  a  b  c\n",
            "[11] attribute .iloc\n",
            ".iloc[0:3] pada number_list:\n",
            "0    1\n",
            "1    2\n",
            "2    3\n",
            "dtype: int64\n",
            ".iloc[0:1] pada matrix_list:\n",
            "   0  1  2\n",
            "0  1  2  3\n",
            ".iloc[0:2, 1] pada matrix_list:\n",
            "0    2\n",
            "1    b\n",
            "2    4\n",
            "Name: 1, dtype: object\n",
            "\n",
            " 0    1\n",
            "1    2\n",
            "2    3\n",
            "3    4\n",
            "4    5\n",
            "5    6\n",
            "dtype: int64\n",
            "   0  1  2\n",
            "0  1  2  3\n",
            "1  a  b  c\n",
            "2  3  4  5\n",
            "3  d  4  6\n"
          ],
          "name": "stdout"
        }
      ]
    },
    {
      "cell_type": "markdown",
      "metadata": {
        "id": "InMRDO5PmvEV"
      },
      "source": [
        "**MEMBACA DATASET**"
      ]
    },
    {
      "cell_type": "code",
      "metadata": {
        "colab": {
          "base_uri": "https://localhost:8080/"
        },
        "id": "EBZWeTPOL76m",
        "outputId": "d1833225-76b6-45e5-cc78-74e4d033ccfd"
      },
      "source": [
        "# File CSV\n",
        "df_csv = pd.read_csv(\"https://storage.googleapis.com/dqlab-dataset/sample_csv.csv\")\n",
        "print(df_csv.head(3)) # Menampilkan 3 data teratas\n",
        "# File TSV\n",
        "df_tsv = pd.read_csv(\"https://storage.googleapis.com/dqlab-dataset/sample_tsv.tsv\", sep='\\t')\n",
        "print(df_tsv.head(3)) # Menampilkan 3 data teratas\n",
        "# File xlsx dengan data di sheet \"test\"\n",
        "df_excel = pd.read_excel(\"https://storage.googleapis.com/dqlab-dataset/sample_excel.xlsx\", sheet_name=\"test\")\n",
        "print(df_excel.head(4)) # Menampilkan 4 data teratas\n",
        "# File JSON\n",
        "url = \"https://storage.googleapis.com/dqlab-dataset/covid2019-api-herokuapp-v2.json\"\n",
        "df_json = pd.read_json(url)\n",
        "print(df_json.head(10)) # Menampilkan 10 data teratas"
      ],
      "execution_count": null,
      "outputs": [
        {
          "output_type": "stream",
          "text": [
            "   order_id  order_date  customer_id  ...    brand quantity item_price\n",
            "0   1612339  2019-01-01        18055  ...  BRAND_C        4    1934000\n",
            "1   1612339  2019-01-01        18055  ...  BRAND_V        8     604000\n",
            "2   1612339  2019-01-01        18055  ...  BRAND_G       12     747000\n",
            "\n",
            "[3 rows x 9 columns]\n",
            "   order_id  order_date  customer_id  ...    brand quantity item_price\n",
            "0   1612339  2019-01-01        18055  ...  BRAND_C        4    1934000\n",
            "1   1612339  2019-01-01        18055  ...  BRAND_V        8     604000\n",
            "2   1612339  2019-01-01        18055  ...  BRAND_G       12     747000\n",
            "\n",
            "[3 rows x 9 columns]\n",
            "   order_id  order_date  customer_id  ...    brand quantity item_price\n",
            "0   1612339  2019-01-01        18055  ...  BRAND_C        4    1934000\n",
            "1   1612339  2019-01-01        18055  ...  BRAND_V        8     604000\n",
            "2   1612339  2019-01-01        18055  ...  BRAND_G       12     747000\n",
            "3   1612339  2019-01-01        18055  ...  BRAND_B       12     450000\n",
            "\n",
            "[4 rows x 9 columns]\n",
            "                                                data          dt          ts\n",
            "0  {'location': 'US', 'confirmed': 3363056, 'deat...  07-14-2020  1594684800\n",
            "1  {'location': 'Brazil', 'confirmed': 1884967, '...  07-14-2020  1594684800\n",
            "2  {'location': 'India', 'confirmed': 906752, 'de...  07-14-2020  1594684800\n",
            "3  {'location': 'Russia', 'confirmed': 732547, 'd...  07-14-2020  1594684800\n",
            "4  {'location': 'Peru', 'confirmed': 330123, 'dea...  07-14-2020  1594684800\n",
            "5  {'location': 'Chile', 'confirmed': 317657, 'de...  07-14-2020  1594684800\n",
            "6  {'location': 'Mexico', 'confirmed': 304435, 'd...  07-14-2020  1594684800\n",
            "7  {'location': 'United Kingdom', 'confirmed': 29...  07-14-2020  1594684800\n",
            "8  {'location': 'South Africa', 'confirmed': 2877...  07-14-2020  1594684800\n",
            "9  {'location': 'Iran', 'confirmed': 259652, 'dea...  07-14-2020  1594684800\n"
          ],
          "name": "stdout"
        }
      ]
    },
    {
      "cell_type": "markdown",
      "metadata": {
        "id": "CWKyl9mmpaYw"
      },
      "source": [
        "MEMBACA DATASET SQL"
      ]
    },
    {
      "cell_type": "markdown",
      "metadata": {
        "id": "r_wOngK8pT-I"
      },
      "source": [
        "![Pandas SQL.png](data:image/png;base64,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)"
      ]
    },
    {
      "cell_type": "markdown",
      "metadata": {
        "id": "49-l9Qkdcbm5"
      },
      "source": [
        "MEMBACA BIG QUERY"
      ]
    },
    {
      "cell_type": "markdown",
      "metadata": {
        "id": "SXgZ9NmbcfeM"
      },
      "source": [
        "![Pandas Google Big Query.png](data:image/png;base64,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)"
      ]
    },
    {
      "cell_type": "markdown",
      "metadata": {
        "id": "3YKktL7euNoE"
      },
      "source": [
        "**INDEXING**\n",
        "\n",
        "Jika tidak disediakan, pandas akan membuat kolom index default secara otomatis sebagai bilangan bulat (integer) dari 0 sampai range jumlah baris data tersebut.\n",
        "\n",
        "Kolom index dapat terdiri dari\n",
        "* satu kolom (single index), atau\n",
        "* multiple kolom (disebut dengan hierarchical indexing).\n",
        "\n",
        "Jika ingin kembalikan dataframe ke index defaultnya yaitu dari 0 s/d jumlah baris data - 1, maka dapat menggunakan method .reset_index(drop=True), argument drop=True bertujuan untuk menghapus index lama. "
      ]
    },
    {
      "cell_type": "code",
      "metadata": {
        "colab": {
          "base_uri": "https://localhost:8080/",
          "height": 490
        },
        "id": "YzAhfDWxuMA7",
        "outputId": "ae48e58f-804d-4f47-b2cb-460db7659d28"
      },
      "source": [
        "#Single Index\n",
        "# Baca file TSV sample_tsv.tsv\n",
        "df = pd.read_csv(\"https://storage.googleapis.com/dqlab-dataset/sample_tsv.tsv\", sep=\"\\t\")\n",
        "# Index dari df\n",
        "print(\"Index:\", df.index)\n",
        "# Column dari df\n",
        "print(\"Columns:\", df.columns)\n",
        "df"
      ],
      "execution_count": null,
      "outputs": [
        {
          "output_type": "stream",
          "text": [
            "Index: RangeIndex(start=0, stop=101, step=1)\n",
            "Columns: Index(['order_id', 'order_date', 'customer_id', 'city', 'province',\n",
            "       'product_id', 'brand', 'quantity', 'item_price'],\n",
            "      dtype='object')\n"
          ],
          "name": "stdout"
        },
        {
          "output_type": "execute_result",
          "data": {
            "text/html": [
              "<div>\n",
              "<style scoped>\n",
              "    .dataframe tbody tr th:only-of-type {\n",
              "        vertical-align: middle;\n",
              "    }\n",
              "\n",
              "    .dataframe tbody tr th {\n",
              "        vertical-align: top;\n",
              "    }\n",
              "\n",
              "    .dataframe thead th {\n",
              "        text-align: right;\n",
              "    }\n",
              "</style>\n",
              "<table border=\"1\" class=\"dataframe\">\n",
              "  <thead>\n",
              "    <tr style=\"text-align: right;\">\n",
              "      <th></th>\n",
              "      <th>order_id</th>\n",
              "      <th>order_date</th>\n",
              "      <th>customer_id</th>\n",
              "      <th>city</th>\n",
              "      <th>province</th>\n",
              "      <th>product_id</th>\n",
              "      <th>brand</th>\n",
              "      <th>quantity</th>\n",
              "      <th>item_price</th>\n",
              "    </tr>\n",
              "  </thead>\n",
              "  <tbody>\n",
              "    <tr>\n",
              "      <th>0</th>\n",
              "      <td>1612339</td>\n",
              "      <td>2019-01-01</td>\n",
              "      <td>18055</td>\n",
              "      <td>Jakarta Selatan</td>\n",
              "      <td>DKI Jakarta</td>\n",
              "      <td>P0648</td>\n",
              "      <td>BRAND_C</td>\n",
              "      <td>4</td>\n",
              "      <td>1934000</td>\n",
              "    </tr>\n",
              "    <tr>\n",
              "      <th>1</th>\n",
              "      <td>1612339</td>\n",
              "      <td>2019-01-01</td>\n",
              "      <td>18055</td>\n",
              "      <td>Jakarta Selatan</td>\n",
              "      <td>DKI Jakarta</td>\n",
              "      <td>P3826</td>\n",
              "      <td>BRAND_V</td>\n",
              "      <td>8</td>\n",
              "      <td>604000</td>\n",
              "    </tr>\n",
              "    <tr>\n",
              "      <th>2</th>\n",
              "      <td>1612339</td>\n",
              "      <td>2019-01-01</td>\n",
              "      <td>18055</td>\n",
              "      <td>Jakarta Selatan</td>\n",
              "      <td>DKI Jakarta</td>\n",
              "      <td>P1508</td>\n",
              "      <td>BRAND_G</td>\n",
              "      <td>12</td>\n",
              "      <td>747000</td>\n",
              "    </tr>\n",
              "    <tr>\n",
              "      <th>3</th>\n",
              "      <td>1612339</td>\n",
              "      <td>2019-01-01</td>\n",
              "      <td>18055</td>\n",
              "      <td>Jakarta Selatan</td>\n",
              "      <td>DKI Jakarta</td>\n",
              "      <td>P0520</td>\n",
              "      <td>BRAND_B</td>\n",
              "      <td>12</td>\n",
              "      <td>450000</td>\n",
              "    </tr>\n",
              "    <tr>\n",
              "      <th>4</th>\n",
              "      <td>1612339</td>\n",
              "      <td>2019-01-01</td>\n",
              "      <td>18055</td>\n",
              "      <td>Jakarta Selatan</td>\n",
              "      <td>DKI Jakarta</td>\n",
              "      <td>P1513</td>\n",
              "      <td>BRAND_G</td>\n",
              "      <td>3</td>\n",
              "      <td>1500000</td>\n",
              "    </tr>\n",
              "    <tr>\n",
              "      <th>...</th>\n",
              "      <td>...</td>\n",
              "      <td>...</td>\n",
              "      <td>...</td>\n",
              "      <td>...</td>\n",
              "      <td>...</td>\n",
              "      <td>...</td>\n",
              "      <td>...</td>\n",
              "      <td>...</td>\n",
              "      <td>...</td>\n",
              "    </tr>\n",
              "    <tr>\n",
              "      <th>96</th>\n",
              "      <td>1612390</td>\n",
              "      <td>2019-01-01</td>\n",
              "      <td>12681</td>\n",
              "      <td>Makassar</td>\n",
              "      <td>Sulawesi Selatan</td>\n",
              "      <td>P3388</td>\n",
              "      <td>BRAND_S</td>\n",
              "      <td>10</td>\n",
              "      <td>450000</td>\n",
              "    </tr>\n",
              "    <tr>\n",
              "      <th>97</th>\n",
              "      <td>1612390</td>\n",
              "      <td>2019-01-01</td>\n",
              "      <td>12681</td>\n",
              "      <td>Makassar</td>\n",
              "      <td>Sulawesi Selatan</td>\n",
              "      <td>P3082</td>\n",
              "      <td>BRAND_R</td>\n",
              "      <td>18</td>\n",
              "      <td>1045000</td>\n",
              "    </tr>\n",
              "    <tr>\n",
              "      <th>98</th>\n",
              "      <td>1612390</td>\n",
              "      <td>2019-01-01</td>\n",
              "      <td>12681</td>\n",
              "      <td>Makassar</td>\n",
              "      <td>Sulawesi Selatan</td>\n",
              "      <td>P3354</td>\n",
              "      <td>BRAND_S</td>\n",
              "      <td>24</td>\n",
              "      <td>450000</td>\n",
              "    </tr>\n",
              "    <tr>\n",
              "      <th>99</th>\n",
              "      <td>1612390</td>\n",
              "      <td>2019-01-01</td>\n",
              "      <td>12681</td>\n",
              "      <td>Makassar</td>\n",
              "      <td>Sulawesi Selatan</td>\n",
              "      <td>P3357</td>\n",
              "      <td>BRAND_S</td>\n",
              "      <td>24</td>\n",
              "      <td>450000</td>\n",
              "    </tr>\n",
              "    <tr>\n",
              "      <th>100</th>\n",
              "      <td>1612390</td>\n",
              "      <td>2019-01-01</td>\n",
              "      <td>12681</td>\n",
              "      <td>Makassar</td>\n",
              "      <td>Sulawesi Selatan</td>\n",
              "      <td>P0422</td>\n",
              "      <td>BRAND_B</td>\n",
              "      <td>4</td>\n",
              "      <td>1325000</td>\n",
              "    </tr>\n",
              "  </tbody>\n",
              "</table>\n",
              "<p>101 rows × 9 columns</p>\n",
              "</div>"
            ],
            "text/plain": [
              "     order_id  order_date  customer_id  ...    brand quantity item_price\n",
              "0     1612339  2019-01-01        18055  ...  BRAND_C        4    1934000\n",
              "1     1612339  2019-01-01        18055  ...  BRAND_V        8     604000\n",
              "2     1612339  2019-01-01        18055  ...  BRAND_G       12     747000\n",
              "3     1612339  2019-01-01        18055  ...  BRAND_B       12     450000\n",
              "4     1612339  2019-01-01        18055  ...  BRAND_G        3    1500000\n",
              "..        ...         ...          ...  ...      ...      ...        ...\n",
              "96    1612390  2019-01-01        12681  ...  BRAND_S       10     450000\n",
              "97    1612390  2019-01-01        12681  ...  BRAND_R       18    1045000\n",
              "98    1612390  2019-01-01        12681  ...  BRAND_S       24     450000\n",
              "99    1612390  2019-01-01        12681  ...  BRAND_S       24     450000\n",
              "100   1612390  2019-01-01        12681  ...  BRAND_B        4    1325000\n",
              "\n",
              "[101 rows x 9 columns]"
            ]
          },
          "metadata": {
            "tags": []
          },
          "execution_count": 14
        }
      ]
    },
    {
      "cell_type": "code",
      "metadata": {
        "colab": {
          "base_uri": "https://localhost:8080/",
          "height": 575
        },
        "id": "ehARttgavTqF",
        "outputId": "7b191948-ea13-4240-9a9f-be043a79b13c"
      },
      "source": [
        "#Multi index\n",
        "# Baca file TSV sample_tsv.tsv\n",
        "df = pd.read_csv(\"https://storage.googleapis.com/dqlab-dataset/sample_tsv.tsv\", sep=\"\\t\")\n",
        "# Set multi index df\n",
        "df_x = df.set_index(['order_date', 'city', 'customer_id'])\n",
        "# Print nama dan level dari multi index\n",
        "for name, level in zip(df_x.index.names, df_x.index.levels):\n",
        "    print(name,':',level)\n",
        "df_x"
      ],
      "execution_count": null,
      "outputs": [
        {
          "output_type": "stream",
          "text": [
            "order_date : Index(['2019-01-01'], dtype='object', name='order_date')\n",
            "city : Index(['Bogor', 'Jakarta Pusat', 'Jakarta Selatan', 'Jakarta Utara',\n",
            "       'Makassar', 'Malang', 'Surabaya', 'Tangerang'],\n",
            "      dtype='object', name='city')\n",
            "customer_id : Int64Index([12681, 13963, 15649, 17091, 17228, 17450, 17470, 17511, 17616,\n",
            "            18055],\n",
            "           dtype='int64', name='customer_id')\n"
          ],
          "name": "stdout"
        },
        {
          "output_type": "execute_result",
          "data": {
            "text/html": [
              "<div>\n",
              "<style scoped>\n",
              "    .dataframe tbody tr th:only-of-type {\n",
              "        vertical-align: middle;\n",
              "    }\n",
              "\n",
              "    .dataframe tbody tr th {\n",
              "        vertical-align: top;\n",
              "    }\n",
              "\n",
              "    .dataframe thead th {\n",
              "        text-align: right;\n",
              "    }\n",
              "</style>\n",
              "<table border=\"1\" class=\"dataframe\">\n",
              "  <thead>\n",
              "    <tr style=\"text-align: right;\">\n",
              "      <th></th>\n",
              "      <th></th>\n",
              "      <th></th>\n",
              "      <th>order_id</th>\n",
              "      <th>province</th>\n",
              "      <th>product_id</th>\n",
              "      <th>brand</th>\n",
              "      <th>quantity</th>\n",
              "      <th>item_price</th>\n",
              "    </tr>\n",
              "    <tr>\n",
              "      <th>order_date</th>\n",
              "      <th>city</th>\n",
              "      <th>customer_id</th>\n",
              "      <th></th>\n",
              "      <th></th>\n",
              "      <th></th>\n",
              "      <th></th>\n",
              "      <th></th>\n",
              "      <th></th>\n",
              "    </tr>\n",
              "  </thead>\n",
              "  <tbody>\n",
              "    <tr>\n",
              "      <th rowspan=\"11\" valign=\"top\">2019-01-01</th>\n",
              "      <th rowspan=\"5\" valign=\"top\">Jakarta Selatan</th>\n",
              "      <th>18055</th>\n",
              "      <td>1612339</td>\n",
              "      <td>DKI Jakarta</td>\n",
              "      <td>P0648</td>\n",
              "      <td>BRAND_C</td>\n",
              "      <td>4</td>\n",
              "      <td>1934000</td>\n",
              "    </tr>\n",
              "    <tr>\n",
              "      <th>18055</th>\n",
              "      <td>1612339</td>\n",
              "      <td>DKI Jakarta</td>\n",
              "      <td>P3826</td>\n",
              "      <td>BRAND_V</td>\n",
              "      <td>8</td>\n",
              "      <td>604000</td>\n",
              "    </tr>\n",
              "    <tr>\n",
              "      <th>18055</th>\n",
              "      <td>1612339</td>\n",
              "      <td>DKI Jakarta</td>\n",
              "      <td>P1508</td>\n",
              "      <td>BRAND_G</td>\n",
              "      <td>12</td>\n",
              "      <td>747000</td>\n",
              "    </tr>\n",
              "    <tr>\n",
              "      <th>18055</th>\n",
              "      <td>1612339</td>\n",
              "      <td>DKI Jakarta</td>\n",
              "      <td>P0520</td>\n",
              "      <td>BRAND_B</td>\n",
              "      <td>12</td>\n",
              "      <td>450000</td>\n",
              "    </tr>\n",
              "    <tr>\n",
              "      <th>18055</th>\n",
              "      <td>1612339</td>\n",
              "      <td>DKI Jakarta</td>\n",
              "      <td>P1513</td>\n",
              "      <td>BRAND_G</td>\n",
              "      <td>3</td>\n",
              "      <td>1500000</td>\n",
              "    </tr>\n",
              "    <tr>\n",
              "      <th>...</th>\n",
              "      <th>...</th>\n",
              "      <td>...</td>\n",
              "      <td>...</td>\n",
              "      <td>...</td>\n",
              "      <td>...</td>\n",
              "      <td>...</td>\n",
              "      <td>...</td>\n",
              "    </tr>\n",
              "    <tr>\n",
              "      <th rowspan=\"5\" valign=\"top\">Makassar</th>\n",
              "      <th>12681</th>\n",
              "      <td>1612390</td>\n",
              "      <td>Sulawesi Selatan</td>\n",
              "      <td>P3388</td>\n",
              "      <td>BRAND_S</td>\n",
              "      <td>10</td>\n",
              "      <td>450000</td>\n",
              "    </tr>\n",
              "    <tr>\n",
              "      <th>12681</th>\n",
              "      <td>1612390</td>\n",
              "      <td>Sulawesi Selatan</td>\n",
              "      <td>P3082</td>\n",
              "      <td>BRAND_R</td>\n",
              "      <td>18</td>\n",
              "      <td>1045000</td>\n",
              "    </tr>\n",
              "    <tr>\n",
              "      <th>12681</th>\n",
              "      <td>1612390</td>\n",
              "      <td>Sulawesi Selatan</td>\n",
              "      <td>P3354</td>\n",
              "      <td>BRAND_S</td>\n",
              "      <td>24</td>\n",
              "      <td>450000</td>\n",
              "    </tr>\n",
              "    <tr>\n",
              "      <th>12681</th>\n",
              "      <td>1612390</td>\n",
              "      <td>Sulawesi Selatan</td>\n",
              "      <td>P3357</td>\n",
              "      <td>BRAND_S</td>\n",
              "      <td>24</td>\n",
              "      <td>450000</td>\n",
              "    </tr>\n",
              "    <tr>\n",
              "      <th>12681</th>\n",
              "      <td>1612390</td>\n",
              "      <td>Sulawesi Selatan</td>\n",
              "      <td>P0422</td>\n",
              "      <td>BRAND_B</td>\n",
              "      <td>4</td>\n",
              "      <td>1325000</td>\n",
              "    </tr>\n",
              "  </tbody>\n",
              "</table>\n",
              "<p>101 rows × 6 columns</p>\n",
              "</div>"
            ],
            "text/plain": [
              "                                        order_id  ... item_price\n",
              "order_date city            customer_id            ...           \n",
              "2019-01-01 Jakarta Selatan 18055         1612339  ...    1934000\n",
              "                           18055         1612339  ...     604000\n",
              "                           18055         1612339  ...     747000\n",
              "                           18055         1612339  ...     450000\n",
              "                           18055         1612339  ...    1500000\n",
              "...                                          ...  ...        ...\n",
              "           Makassar        12681         1612390  ...     450000\n",
              "                           12681         1612390  ...    1045000\n",
              "                           12681         1612390  ...     450000\n",
              "                           12681         1612390  ...     450000\n",
              "                           12681         1612390  ...    1325000\n",
              "\n",
              "[101 rows x 6 columns]"
            ]
          },
          "metadata": {
            "tags": []
          },
          "execution_count": 13
        }
      ]
    },
    {
      "cell_type": "code",
      "metadata": {
        "colab": {
          "base_uri": "https://localhost:8080/"
        },
        "id": "9ysCKxAMxEhl",
        "outputId": "f6ee507b-76ee-49c3-9527-63d26bd6d87e"
      },
      "source": [
        "# Baca file sample_tsv.tsv untuk 10 baris pertama saja\n",
        "df = pd.read_csv(\"https://storage.googleapis.com/dqlab-dataset/sample_tsv.tsv\", sep=\"\\t\", nrows=10)\n",
        "# Cetak data frame awal\n",
        "print(\"Dataframe awal:\\n\", df)\n",
        "# Set index baru\n",
        "df.index = [\"Pesanan ke-\" + str(i) for i in range(1,11)]\n",
        "# Cetak data frame dengan index baru\n",
        "print(\"Dataframe dengan index baru:\\n\", df)"
      ],
      "execution_count": null,
      "outputs": [
        {
          "output_type": "stream",
          "text": [
            "Dataframe awal:\n",
            "    order_id  order_date  customer_id  ...    brand quantity item_price\n",
            "0   1612339  2019-01-01        18055  ...  BRAND_C        4    1934000\n",
            "1   1612339  2019-01-01        18055  ...  BRAND_V        8     604000\n",
            "2   1612339  2019-01-01        18055  ...  BRAND_G       12     747000\n",
            "3   1612339  2019-01-01        18055  ...  BRAND_B       12     450000\n",
            "4   1612339  2019-01-01        18055  ...  BRAND_G        3    1500000\n",
            "5   1612339  2019-01-01        18055  ...  BRAND_V        3    2095000\n",
            "6   1612339  2019-01-01        18055  ...  BRAND_H        3    2095000\n",
            "7   1612339  2019-01-01        18055  ...  BRAND_S        3    1745000\n",
            "8   1612339  2019-01-01        18055  ...  BRAND_F        6    1045000\n",
            "9   1612339  2019-01-01        18055  ...  BRAND_P        6    1045000\n",
            "\n",
            "[10 rows x 9 columns]\n",
            "Dataframe dengan index baru:\n",
            "                order_id  order_date  customer_id  ...    brand quantity item_price\n",
            "Pesanan ke-1    1612339  2019-01-01        18055  ...  BRAND_C        4    1934000\n",
            "Pesanan ke-2    1612339  2019-01-01        18055  ...  BRAND_V        8     604000\n",
            "Pesanan ke-3    1612339  2019-01-01        18055  ...  BRAND_G       12     747000\n",
            "Pesanan ke-4    1612339  2019-01-01        18055  ...  BRAND_B       12     450000\n",
            "Pesanan ke-5    1612339  2019-01-01        18055  ...  BRAND_G        3    1500000\n",
            "Pesanan ke-6    1612339  2019-01-01        18055  ...  BRAND_V        3    2095000\n",
            "Pesanan ke-7    1612339  2019-01-01        18055  ...  BRAND_H        3    2095000\n",
            "Pesanan ke-8    1612339  2019-01-01        18055  ...  BRAND_S        3    1745000\n",
            "Pesanan ke-9    1612339  2019-01-01        18055  ...  BRAND_F        6    1045000\n",
            "Pesanan ke-10   1612339  2019-01-01        18055  ...  BRAND_P        6    1045000\n",
            "\n",
            "[10 rows x 9 columns]\n"
          ],
          "name": "stdout"
        }
      ]
    },
    {
      "cell_type": "code",
      "metadata": {
        "colab": {
          "base_uri": "https://localhost:8080/"
        },
        "id": "CYvVFFHpQ49u",
        "outputId": "32033979-5006-4f35-d46b-123ad1176f7b"
      },
      "source": [
        "# Baca file sample_tsv.tsv dan set lah index_col sesuai instruksi\n",
        "df = pd.read_csv(\"https://storage.googleapis.com/dqlab-dataset/sample_tsv.tsv\", sep=\"\\t\", index_col=[\"order_date\", \"order_id\"])\n",
        "# Cetak data frame untuk 8 data teratas\n",
        "print(\"Dataframe:\\n\", df.head(8))"
      ],
      "execution_count": null,
      "outputs": [
        {
          "output_type": "stream",
          "text": [
            "Dataframe:\n",
            "                      customer_id             city  ... quantity item_price\n",
            "order_date order_id                                ...                    \n",
            "2019-01-01 1612339         18055  Jakarta Selatan  ...        4    1934000\n",
            "           1612339         18055  Jakarta Selatan  ...        8     604000\n",
            "           1612339         18055  Jakarta Selatan  ...       12     747000\n",
            "           1612339         18055  Jakarta Selatan  ...       12     450000\n",
            "           1612339         18055  Jakarta Selatan  ...        3    1500000\n",
            "           1612339         18055  Jakarta Selatan  ...        3    2095000\n",
            "           1612339         18055  Jakarta Selatan  ...        3    2095000\n",
            "           1612339         18055  Jakarta Selatan  ...        3    1745000\n",
            "\n",
            "[8 rows x 7 columns]\n"
          ],
          "name": "stdout"
        }
      ]
    },
    {
      "cell_type": "markdown",
      "metadata": {
        "id": "LGaKgyLeTf5-"
      },
      "source": [
        "**SLICING**\n",
        "\n",
        "Terdapat 2 cara paling terkenal untuk slicing dataframe, yaitu dengan menggunakan method .loc dan .iloc pada variabel bertipe pandas DataFrame/Series. Method .iloc ditujukan untuk proses slicing berdasarkan index berupa nilai integer tertentu. Akan tetapi akan lebih sering menggunakan dengan method .loc karena lebih fleksibel. "
      ]
    },
    {
      "cell_type": "code",
      "metadata": {
        "colab": {
          "base_uri": "https://localhost:8080/"
        },
        "id": "m749E7B_Th-w",
        "outputId": "2812465b-2ebb-4b4a-e348-9f10a54cc51e"
      },
      "source": [
        "# Baca file sample_csv.csv\n",
        "df = pd.read_csv(\"https://storage.googleapis.com/dqlab-dataset/sample_csv.csv\")\n",
        "# Slice langsung berdasarkan kolom\n",
        "df_slice = df.loc[(df[\"order_date\"] == \"2019-01-01\") &\n",
        "\t\t          (df[\"product_id\"].isin([\"P2154\", \"P2556\"]))\n",
        "\t\t\t\t ]\n",
        "print(\"Slice langsung berdasarkan kolom:\\n\", df_slice)"
      ],
      "execution_count": null,
      "outputs": [
        {
          "output_type": "stream",
          "text": [
            "Slice langsung berdasarkan kolom:\n",
            "     order_id  order_date  customer_id  ...    brand quantity item_price\n",
            "9    1612339  2019-01-01        18055  ...  BRAND_P        6    1045000\n",
            "10   1612339  2019-01-01        18055  ...  BRAND_M        4    1745000\n",
            "\n",
            "[2 rows x 9 columns]\n"
          ],
          "name": "stdout"
        }
      ]
    },
    {
      "cell_type": "code",
      "metadata": {
        "colab": {
          "base_uri": "https://localhost:8080/"
        },
        "id": "AL2M6svTU97-",
        "outputId": "1fbf3b51-5114-4734-f12a-c9be9a756b9e"
      },
      "source": [
        "# Baca file sample_csv.csv\n",
        "df = pd.read_csv(\"https://storage.googleapis.com/dqlab-dataset/sample_csv.csv\")\n",
        "# Set index dari df sesuai instruksi\n",
        "df = df.set_index([\"order_date\", \"order_id\", \"product_id\"])\n",
        "# Slice sesuai intruksi\n",
        "df_slice = df.loc[(\"2019-01-01\",1612339,[\"P2154\", \"P2159\"]),:]\n",
        "print(\"Slice df:\\n\", df_slice)"
      ],
      "execution_count": null,
      "outputs": [
        {
          "output_type": "stream",
          "text": [
            "Slice df:\n",
            "                                 customer_id  ... item_price\n",
            "order_date order_id product_id               ...           \n",
            "2019-01-01 1612339  P2154             18055  ...    1745000\n",
            "                    P2159             18055  ...     310000\n",
            "\n",
            "[2 rows x 6 columns]\n"
          ],
          "name": "stdout"
        }
      ]
    },
    {
      "cell_type": "markdown",
      "metadata": {
        "id": "3NPbBpl7WyOR"
      },
      "source": [
        "**TRANSFORMING**"
      ]
    },
    {
      "cell_type": "code",
      "metadata": {
        "colab": {
          "base_uri": "https://localhost:8080/"
        },
        "id": "GFWaiOZ4W0hV",
        "outputId": "c3eea7d4-bd0b-43ad-db79-cb64f968ba41"
      },
      "source": [
        "# Baca file sample_csv.csv\n",
        "df = pd.read_csv(\"https://storage.googleapis.com/dqlab-dataset/sample_csv.csv\")\n",
        "# Tampilkan tipe data\n",
        "print(\"Tipe data df:\\n\", df.dtypes)\n",
        "# Ubah tipe data kolom order_date menjadi datetime\n",
        "df[\"order_date\"] = pd.to_datetime(df[\"order_date\"])\n",
        "# Tampilkan tipe data df setelah transformasi\n",
        "print(\"\\nTipe data df setelah transformasi:\\n\", df.dtypes)"
      ],
      "execution_count": null,
      "outputs": [
        {
          "output_type": "stream",
          "text": [
            "Tipe data df:\n",
            " order_id        int64\n",
            "order_date     object\n",
            "customer_id     int64\n",
            "city           object\n",
            "province       object\n",
            "product_id     object\n",
            "brand          object\n",
            "quantity        int64\n",
            "item_price      int64\n",
            "dtype: object\n",
            "\n",
            "Tipe data df setelah transformasi:\n",
            " order_id                int64\n",
            "order_date     datetime64[ns]\n",
            "customer_id             int64\n",
            "city                   object\n",
            "province               object\n",
            "product_id             object\n",
            "brand                  object\n",
            "quantity                int64\n",
            "item_price              int64\n",
            "dtype: object\n"
          ],
          "name": "stdout"
        }
      ]
    },
    {
      "cell_type": "code",
      "metadata": {
        "colab": {
          "base_uri": "https://localhost:8080/"
        },
        "id": "-DvrOUn7YQyh",
        "outputId": "082e6a20-37e1-44e1-ace3-df0b987f675f"
      },
      "source": [
        "# Baca file sample_csv.csv\n",
        "df = pd.read_csv(\"https://storage.googleapis.com/dqlab-dataset/sample_csv.csv\")\n",
        "# Tampilkan tipe data\n",
        "print(\"Tipe data df:\\n\", df.dtypes)\n",
        "# Ubah tipe data kolom quantity menjadi tipe data numerik float\n",
        "df[\"quantity\"] = pd.to_numeric(df[\"quantity\"], downcast=\"float\")\n",
        "# Ubah tipe data kolom city menjadi tipe data category\n",
        "df[\"city\"] = df[\"city\"].astype(\"category\")\n",
        "# Tampilkan tipe data df setelah transformasi\n",
        "print(\"\\nTipe data df setelah transformasi:\\n\", df.dtypes)"
      ],
      "execution_count": null,
      "outputs": [
        {
          "output_type": "stream",
          "text": [
            "Tipe data df:\n",
            " order_id        int64\n",
            "order_date     object\n",
            "customer_id     int64\n",
            "city           object\n",
            "province       object\n",
            "product_id     object\n",
            "brand          object\n",
            "quantity        int64\n",
            "item_price      int64\n",
            "dtype: object\n",
            "\n",
            "Tipe data df setelah transformasi:\n",
            " order_id          int64\n",
            "order_date       object\n",
            "customer_id       int64\n",
            "city           category\n",
            "province         object\n",
            "product_id       object\n",
            "brand            object\n",
            "quantity        float32\n",
            "item_price        int64\n",
            "dtype: object\n"
          ],
          "name": "stdout"
        }
      ]
    },
    {
      "cell_type": "code",
      "metadata": {
        "colab": {
          "base_uri": "https://localhost:8080/"
        },
        "id": "71XX6fsTZY0c",
        "outputId": "0179112a-7f15-4927-9c8b-c724d06389ab"
      },
      "source": [
        "# Baca file sample_csv.csv\n",
        "df = pd.read_csv(\"https://storage.googleapis.com/dqlab-dataset/sample_csv.csv\")\n",
        "# Cetak 5 baris teratas kolom brand\n",
        "print(\"Kolom brand awal:\\n\", df[\"brand\"].head())\n",
        "# Gunakan method apply untuk merubah isi kolom menjadi lower case\n",
        "df[\"brand\"] = df[\"brand\"].apply(lambda x: x.lower())\n",
        "# Cetak 5 baris teratas kolom brand\n",
        "print(\"Kolom brand setelah apply:\\n\", df[\"brand\"].head())\n",
        "# Gunakan method map untuk mengambil kode brand yaitu karakter terakhirnya\n",
        "df[\"brand\"] = df[\"brand\"].map(lambda x: x[-1])\n",
        "# Cetak 5 baris teratas kolom brand\n",
        "print(\"Kolom brand setelah map:\\n\", df[\"brand\"].head())"
      ],
      "execution_count": null,
      "outputs": [
        {
          "output_type": "stream",
          "text": [
            "Kolom brand awal:\n",
            " 0    BRAND_C\n",
            "1    BRAND_V\n",
            "2    BRAND_G\n",
            "3    BRAND_B\n",
            "4    BRAND_G\n",
            "Name: brand, dtype: object\n",
            "Kolom brand setelah apply:\n",
            " 0    brand_c\n",
            "1    brand_v\n",
            "2    brand_g\n",
            "3    brand_b\n",
            "4    brand_g\n",
            "Name: brand, dtype: object\n",
            "Kolom brand setelah map:\n",
            " 0    c\n",
            "1    v\n",
            "2    g\n",
            "3    b\n",
            "4    g\n",
            "Name: brand, dtype: object\n"
          ],
          "name": "stdout"
        }
      ]
    },
    {
      "cell_type": "code",
      "metadata": {
        "colab": {
          "base_uri": "https://localhost:8080/"
        },
        "id": "hXiCv4ULblvT",
        "outputId": "a4d62ca3-f182-4587-80cb-a6bac49cf2c2"
      },
      "source": [
        "# number generator, set angka seed menjadi suatu angka, bisa semua angka, supaya hasil random nya selalu sama ketika kita run\n",
        "np.random.seed(1234)\n",
        "# create dataframe 3 baris dan 4 kolom dengan angka random\n",
        "df_tr = pd.DataFrame(np.random.rand(3,4))\n",
        "# Cetak dataframe\n",
        "print(\"Dataframe:\\n\", df_tr)\n",
        "# Cara 1 dengan tanpa define function awalnya, langsung pake fungsi anonymous lambda x\n",
        "df_tr1 = df_tr.applymap(lambda x: x**2 +3*x +2) \n",
        "print(\"\\nDataframe - cara 1:\\n\", df_tr1)\n",
        "# Cara 2 dengan define function \n",
        "def qudratic_fun(x):\n",
        "\treturn x**2 + 3*x + 2\n",
        "df_tr2 = df_tr.applymap(qudratic_fun)\n",
        "print(\"\\nDataframe - cara 2:\\n\", df_tr2)"
      ],
      "execution_count": null,
      "outputs": [
        {
          "output_type": "stream",
          "text": [
            "Dataframe:\n",
            "           0         1         2         3\n",
            "0  0.191519  0.622109  0.437728  0.785359\n",
            "1  0.779976  0.272593  0.276464  0.801872\n",
            "2  0.958139  0.875933  0.357817  0.500995\n",
            "\n",
            "Dataframe - cara 1:\n",
            "           0         1         2         3\n",
            "0  2.611238  4.253346  3.504789  4.972864\n",
            "1  4.948290  2.892085  2.905825  5.048616\n",
            "2  5.792449  5.395056  3.201485  3.753981\n",
            "\n",
            "Dataframe - cara 2:\n",
            "           0         1         2         3\n",
            "0  2.611238  4.253346  3.504789  4.972864\n",
            "1  4.948290  2.892085  2.905825  5.048616\n",
            "2  5.792449  5.395056  3.201485  3.753981\n"
          ],
          "name": "stdout"
        }
      ]
    },
    {
      "cell_type": "markdown",
      "metadata": {
        "id": "77TfxwB_cWCI"
      },
      "source": [
        "**MISSING VALUES**\n",
        "\n",
        "Terdapat beberapa cara untuk mengatasi missing value, antara lain:\n",
        "\n",
        "1. Dibiarkan saja,\n",
        "2. Hapus value itu, atau\n",
        "3. Isi value tersebut dengan value yang lain (biasanya interpolasi, mean, median, etc).\n",
        "\n"
      ]
    },
    {
      "cell_type": "code",
      "metadata": {
        "colab": {
          "base_uri": "https://localhost:8080/"
        },
        "id": "1EP3IkKWcppq",
        "outputId": "74c0ced7-735f-4d8e-b048-7a2b5eb3e914"
      },
      "source": [
        "#Inspeksi Missing Values\n",
        "# Baca file \"public data covid19 jhu csse eu.csv\"\n",
        "df = pd.read_csv(\"https://storage.googleapis.com/dqlab-dataset/CHAPTER%204%20-%20missing%20value%20-%20public%20data%20covid19%20.csv\")\n",
        "# Cetak info dari df\n",
        "print(df.info())\n",
        "# Cetak jumlah missing value di setiap kolom\n",
        "mv = df.isna().sum()\n",
        "print(\"\\nJumlah missing value per kolom:\\n\", mv)"
      ],
      "execution_count": null,
      "outputs": [
        {
          "output_type": "stream",
          "text": [
            "<class 'pandas.core.frame.DataFrame'>\n",
            "RangeIndex: 1000 entries, 0 to 999\n",
            "Data columns (total 13 columns):\n",
            " #   Column          Non-Null Count  Dtype  \n",
            "---  ------          --------------  -----  \n",
            " 0   province_state  960 non-null    object \n",
            " 1   country_region  1000 non-null   object \n",
            " 2   date            1000 non-null   object \n",
            " 3   latitude        874 non-null    float64\n",
            " 4   longitude       874 non-null    float64\n",
            " 5   location_geom   874 non-null    object \n",
            " 6   confirmed       1000 non-null   int64  \n",
            " 7   deaths          999 non-null    float64\n",
            " 8   recovered       999 non-null    float64\n",
            " 9   active          949 non-null    float64\n",
            " 10  fips            949 non-null    float64\n",
            " 11  admin2          842 non-null    object \n",
            " 12  combined_key    0 non-null      float64\n",
            "dtypes: float64(7), int64(1), object(5)\n",
            "memory usage: 101.7+ KB\n",
            "None\n",
            "\n",
            "Jumlah missing value per kolom:\n",
            " province_state      40\n",
            "country_region       0\n",
            "date                 0\n",
            "latitude           126\n",
            "longitude          126\n",
            "location_geom      126\n",
            "confirmed            0\n",
            "deaths               1\n",
            "recovered            1\n",
            "active              51\n",
            "fips                51\n",
            "admin2             158\n",
            "combined_key      1000\n",
            "dtype: int64\n"
          ],
          "name": "stdout"
        }
      ]
    },
    {
      "cell_type": "code",
      "metadata": {
        "colab": {
          "base_uri": "https://localhost:8080/",
          "height": 359
        },
        "id": "t08ySGWmku1v",
        "outputId": "cc2de38a-2742-47d3-ac9b-488af0f22658"
      },
      "source": [
        "df.head(10)"
      ],
      "execution_count": null,
      "outputs": [
        {
          "output_type": "execute_result",
          "data": {
            "text/html": [
              "<div>\n",
              "<style scoped>\n",
              "    .dataframe tbody tr th:only-of-type {\n",
              "        vertical-align: middle;\n",
              "    }\n",
              "\n",
              "    .dataframe tbody tr th {\n",
              "        vertical-align: top;\n",
              "    }\n",
              "\n",
              "    .dataframe thead th {\n",
              "        text-align: right;\n",
              "    }\n",
              "</style>\n",
              "<table border=\"1\" class=\"dataframe\">\n",
              "  <thead>\n",
              "    <tr style=\"text-align: right;\">\n",
              "      <th></th>\n",
              "      <th>province_state</th>\n",
              "      <th>country_region</th>\n",
              "      <th>date</th>\n",
              "      <th>latitude</th>\n",
              "      <th>longitude</th>\n",
              "      <th>location_geom</th>\n",
              "      <th>confirmed</th>\n",
              "      <th>deaths</th>\n",
              "      <th>recovered</th>\n",
              "      <th>active</th>\n",
              "      <th>fips</th>\n",
              "      <th>admin2</th>\n",
              "      <th>combined_key</th>\n",
              "    </tr>\n",
              "  </thead>\n",
              "  <tbody>\n",
              "    <tr>\n",
              "      <th>0</th>\n",
              "      <td>NaN</td>\n",
              "      <td>UK</td>\n",
              "      <td>01-02-20</td>\n",
              "      <td>NaN</td>\n",
              "      <td>NaN</td>\n",
              "      <td>NaN</td>\n",
              "      <td>2</td>\n",
              "      <td>0.0</td>\n",
              "      <td>0.0</td>\n",
              "      <td>NaN</td>\n",
              "      <td>NaN</td>\n",
              "      <td>NaN</td>\n",
              "      <td>NaN</td>\n",
              "    </tr>\n",
              "    <tr>\n",
              "      <th>1</th>\n",
              "      <td>NaN</td>\n",
              "      <td>UK</td>\n",
              "      <td>18-02-20</td>\n",
              "      <td>NaN</td>\n",
              "      <td>NaN</td>\n",
              "      <td>NaN</td>\n",
              "      <td>9</td>\n",
              "      <td>0.0</td>\n",
              "      <td>8.0</td>\n",
              "      <td>NaN</td>\n",
              "      <td>NaN</td>\n",
              "      <td>NaN</td>\n",
              "      <td>NaN</td>\n",
              "    </tr>\n",
              "    <tr>\n",
              "      <th>2</th>\n",
              "      <td>NaN</td>\n",
              "      <td>UK</td>\n",
              "      <td>17-02-20</td>\n",
              "      <td>NaN</td>\n",
              "      <td>NaN</td>\n",
              "      <td>NaN</td>\n",
              "      <td>9</td>\n",
              "      <td>0.0</td>\n",
              "      <td>8.0</td>\n",
              "      <td>NaN</td>\n",
              "      <td>NaN</td>\n",
              "      <td>NaN</td>\n",
              "      <td>NaN</td>\n",
              "    </tr>\n",
              "    <tr>\n",
              "      <th>3</th>\n",
              "      <td>NaN</td>\n",
              "      <td>UK</td>\n",
              "      <td>31-01-20</td>\n",
              "      <td>NaN</td>\n",
              "      <td>NaN</td>\n",
              "      <td>NaN</td>\n",
              "      <td>2</td>\n",
              "      <td>NaN</td>\n",
              "      <td>NaN</td>\n",
              "      <td>NaN</td>\n",
              "      <td>NaN</td>\n",
              "      <td>NaN</td>\n",
              "      <td>NaN</td>\n",
              "    </tr>\n",
              "    <tr>\n",
              "      <th>4</th>\n",
              "      <td>NaN</td>\n",
              "      <td>UK</td>\n",
              "      <td>19-02-20</td>\n",
              "      <td>NaN</td>\n",
              "      <td>NaN</td>\n",
              "      <td>NaN</td>\n",
              "      <td>9</td>\n",
              "      <td>0.0</td>\n",
              "      <td>8.0</td>\n",
              "      <td>NaN</td>\n",
              "      <td>NaN</td>\n",
              "      <td>NaN</td>\n",
              "      <td>NaN</td>\n",
              "    </tr>\n",
              "    <tr>\n",
              "      <th>5</th>\n",
              "      <td>NaN</td>\n",
              "      <td>UK</td>\n",
              "      <td>22-02-20</td>\n",
              "      <td>NaN</td>\n",
              "      <td>NaN</td>\n",
              "      <td>NaN</td>\n",
              "      <td>9</td>\n",
              "      <td>0.0</td>\n",
              "      <td>8.0</td>\n",
              "      <td>NaN</td>\n",
              "      <td>NaN</td>\n",
              "      <td>NaN</td>\n",
              "      <td>NaN</td>\n",
              "    </tr>\n",
              "    <tr>\n",
              "      <th>6</th>\n",
              "      <td>NaN</td>\n",
              "      <td>UK</td>\n",
              "      <td>25-02-20</td>\n",
              "      <td>NaN</td>\n",
              "      <td>NaN</td>\n",
              "      <td>NaN</td>\n",
              "      <td>13</td>\n",
              "      <td>0.0</td>\n",
              "      <td>8.0</td>\n",
              "      <td>NaN</td>\n",
              "      <td>NaN</td>\n",
              "      <td>NaN</td>\n",
              "      <td>NaN</td>\n",
              "    </tr>\n",
              "    <tr>\n",
              "      <th>7</th>\n",
              "      <td>NaN</td>\n",
              "      <td>UK</td>\n",
              "      <td>16-02-20</td>\n",
              "      <td>NaN</td>\n",
              "      <td>NaN</td>\n",
              "      <td>NaN</td>\n",
              "      <td>9</td>\n",
              "      <td>0.0</td>\n",
              "      <td>8.0</td>\n",
              "      <td>NaN</td>\n",
              "      <td>NaN</td>\n",
              "      <td>NaN</td>\n",
              "      <td>NaN</td>\n",
              "    </tr>\n",
              "    <tr>\n",
              "      <th>8</th>\n",
              "      <td>NaN</td>\n",
              "      <td>UK</td>\n",
              "      <td>27-02-20</td>\n",
              "      <td>NaN</td>\n",
              "      <td>NaN</td>\n",
              "      <td>NaN</td>\n",
              "      <td>15</td>\n",
              "      <td>0.0</td>\n",
              "      <td>8.0</td>\n",
              "      <td>NaN</td>\n",
              "      <td>NaN</td>\n",
              "      <td>NaN</td>\n",
              "      <td>NaN</td>\n",
              "    </tr>\n",
              "    <tr>\n",
              "      <th>9</th>\n",
              "      <td>NaN</td>\n",
              "      <td>UK</td>\n",
              "      <td>03-02-20</td>\n",
              "      <td>NaN</td>\n",
              "      <td>NaN</td>\n",
              "      <td>NaN</td>\n",
              "      <td>2</td>\n",
              "      <td>0.0</td>\n",
              "      <td>0.0</td>\n",
              "      <td>NaN</td>\n",
              "      <td>NaN</td>\n",
              "      <td>NaN</td>\n",
              "      <td>NaN</td>\n",
              "    </tr>\n",
              "  </tbody>\n",
              "</table>\n",
              "</div>"
            ],
            "text/plain": [
              "  province_state country_region      date  ...  fips  admin2 combined_key\n",
              "0            NaN             UK  01-02-20  ...   NaN     NaN          NaN\n",
              "1            NaN             UK  18-02-20  ...   NaN     NaN          NaN\n",
              "2            NaN             UK  17-02-20  ...   NaN     NaN          NaN\n",
              "3            NaN             UK  31-01-20  ...   NaN     NaN          NaN\n",
              "4            NaN             UK  19-02-20  ...   NaN     NaN          NaN\n",
              "5            NaN             UK  22-02-20  ...   NaN     NaN          NaN\n",
              "6            NaN             UK  25-02-20  ...   NaN     NaN          NaN\n",
              "7            NaN             UK  16-02-20  ...   NaN     NaN          NaN\n",
              "8            NaN             UK  27-02-20  ...   NaN     NaN          NaN\n",
              "9            NaN             UK  03-02-20  ...   NaN     NaN          NaN\n",
              "\n",
              "[10 rows x 13 columns]"
            ]
          },
          "metadata": {
            "tags": []
          },
          "execution_count": 27
        }
      ]
    },
    {
      "cell_type": "markdown",
      "metadata": {
        "id": "9jjFIvEGj4dj"
      },
      "source": [
        "* Untuk memahami mana kolom yang akan ditreatment dengan tiga perlakukan di atas lihat nature dari data terlebih dahulu. Contohnya pada kolom death dan recovered jika ada yang missing value maka kemungkinan terbesarnya adalah tidak ada meninggal atau sembuh pada hari tersebut. \n",
        "\n",
        "* Untuk kolom yang seluruhnya missing yaitu combined_key dapat dibuang saja satu kolom itu karena tidak ada data yang dapat diketahui dari kolom tersebut.\n",
        "\n",
        "* Sementara, kolom yang lainnya bagaimana? Misal ambil kolom province_stat, missing valuenya dapat terjadi bahwa tidak dilaporkan itu berasal dari daerah mana di negara itu. Dapat mengisi misal dengan string 'unknown' karena tahu kolom tersebut bertipe data string."
      ]
    },
    {
      "cell_type": "markdown",
      "metadata": {
        "id": "nzK1kvLUlNap"
      },
      "source": [
        "**TREATMENT HAPUS DATA**\n",
        "\n",
        "Pada method .dropna() ada dua keyword argumen yang harus diisikan yaitu axis dan how. Keyword axis digunakan untuk menentukan arah dataframe yang akan dibuang angka 1 untuk menyatakan kolom (column-based) atau dapat ditulis dalam string \"column\". Jika digunakan angka 0 berarti itu dalam searah index (row-based) atau dapat ditulis dalam string \"index\".\n",
        "\n",
        "Sementara, keyword how digunakan untuk bagaimana cara membuangnya. Opsi yang dapat diterimanya (dalam string) adalah\n",
        "\n",
        "* \"all\" artinya jika seluruh data di satu/beberapa kolom atau di satu/beberapa baris adalah missing value.\n",
        "* \"any\" artinya jika memiliki 1 saja data yang hilang maka buanglah baris/kolom tersebut."
      ]
    },
    {
      "cell_type": "code",
      "metadata": {
        "colab": {
          "base_uri": "https://localhost:8080/"
        },
        "id": "vSj4Uc5wj9g2",
        "outputId": "8f49756d-e64d-4122-f6bb-80a780d08e9c"
      },
      "source": [
        "# Baca file \"public data covid19 jhu csse eu.csv\"\n",
        "df = pd.read_csv(\"https://storage.googleapis.com/dqlab-dataset/CHAPTER%204%20-%20missing%20value%20-%20public%20data%20covid19%20.csv\")\n",
        "# Cetak ukuran awal dataframe\n",
        "print(\"Ukuran awal df: %d baris, %d kolom.\" % df.shape)\n",
        "# Drop kolom yang seluruhnya missing value dan cetak ukurannya\n",
        "df = df.dropna(axis=1, how=\"all\")\n",
        "print(\"Ukuran df setelah buang kolom dengan seluruh data missing: %d baris, %d kolom.\" % df.shape)\n",
        "# Drop baris jika ada satu saja data yang missing dan cetak ukurannya\n",
        "df = df.dropna(axis=0, how=\"any\")\n",
        "print(\"Ukuran df setelah dibuang baris yang memiliki sekurangnya 1 missing value: %d baris, %d kolom.\" % df.shape)"
      ],
      "execution_count": null,
      "outputs": [
        {
          "output_type": "stream",
          "text": [
            "Ukuran awal df: 1000 baris, 13 kolom.\n",
            "Ukuran df setelah buang kolom dengan seluruh data missing: 1000 baris, 12 kolom.\n",
            "Ukuran df setelah dibuang baris yang memiliki sekurangnya 1 missing value: 746 baris, 12 kolom.\n"
          ],
          "name": "stdout"
        }
      ]
    },
    {
      "cell_type": "markdown",
      "metadata": {
        "id": "KzWCpA_ru5FV"
      },
      "source": [
        "**TREATMENT ISI DATA**\n",
        "\n",
        "Treatment ini dilakukan dengan cara mengisi missing value dengan nilai lain, yang dapat berupa :\n",
        "\n",
        "* nilai statistik seperti mean atau median\n",
        "* interpolasi data\n",
        "* text tertentu"
      ]
    },
    {
      "cell_type": "code",
      "metadata": {
        "colab": {
          "base_uri": "https://localhost:8080/"
        },
        "id": "LNEpS5oVvFUq",
        "outputId": "70fbcd04-8579-4483-9d75-403e51c7c06d"
      },
      "source": [
        "# Baca file \"public data covid19 jhu csse eu.csv\"\n",
        "df = pd.read_csv(\"https://storage.googleapis.com/dqlab-dataset/CHAPTER%204%20-%20missing%20value%20-%20public%20data%20covid19%20.csv\")\n",
        "# Cetak unique value pada kolom province_state\n",
        "print(\"Unique value awal:\\n\", df[\"province_state\"].unique())\n",
        "# Ganti missing value dengan string \"unknown_province_state\"\n",
        "df[\"province_state\"] = df[\"province_state\"].fillna(\"unknown_province_state\")\n",
        "# Cetak kembali unique value pada kolom province_state\n",
        "print(\"Unique value setelah fillna:\\n\", df[\"province_state\"].unique())"
      ],
      "execution_count": null,
      "outputs": [
        {
          "output_type": "stream",
          "text": [
            "Unique value awal:\n",
            " [nan 'US' 'Guam' 'Iowa']\n",
            "Unique value setelah fillna:\n",
            " ['unknown_province_state' 'US' 'Guam' 'Iowa']\n"
          ],
          "name": "stdout"
        }
      ]
    },
    {
      "cell_type": "code",
      "metadata": {
        "colab": {
          "base_uri": "https://localhost:8080/"
        },
        "id": "R4XP4G1hvqGN",
        "outputId": "4f4f76bf-1686-46ef-c653-341d05073188"
      },
      "source": [
        "# Baca file \"https://storage.googleapis.com/dqlab-dataset/CHAPTER%204%20-%20missing%20value%20-%20public%20data%20covid19%20.csv\"\n",
        "df = pd.read_csv(\"https://storage.googleapis.com/dqlab-dataset/CHAPTER%204%20-%20missing%20value%20-%20public%20data%20covid19%20.csv\")\n",
        "# Cetak nilai mean dan median awal \n",
        "print(\"Awal: mean = %f, median = %f.\" % (df[\"active\"].mean(), df[\"active\"].median()))\n",
        "# Isi missing value kolom active dengan median\n",
        "df_median = df[\"active\"].fillna(df[\"active\"].median())\n",
        "# Cetak nilai mean dan median awal setelah diisi dengan median\n",
        "print(\"Fillna median: mean = %f, median = %f.\" % (df_median.mean(), df_median.median()))\n",
        "# Isi missing value kolom active dengan mean\n",
        "df_mean = df[\"active\"].fillna(df[\"active\"].mean())\n",
        "# Cetak nilai mean dan median awal setelah diisi dengan mean\n",
        "print(\"Fillna mean: mean = %f, median = %f.\" % (df_mean.mean(), df_mean.median()))"
      ],
      "execution_count": null,
      "outputs": [
        {
          "output_type": "stream",
          "text": [
            "Awal: mean = 192.571128, median = 41.000000.\n",
            "Fillna median: mean = 184.841000, median = 41.000000.\n",
            "Fillna mean: mean = 192.571128, median = 49.000000.\n"
          ],
          "name": "stdout"
        }
      ]
    },
    {
      "cell_type": "code",
      "metadata": {
        "colab": {
          "base_uri": "https://localhost:8080/"
        },
        "id": "w-hoinMZ18Js",
        "outputId": "5b7bd236-c5c6-431f-98aa-628bf9c8e98b"
      },
      "source": [
        "ts = pd.Series({\n",
        "   \"2020-01-01\":9,\n",
        "   \"2020-01-02\":np.nan,\n",
        "   \"2020-01-05\":np.nan,\n",
        "   \"2020-01-07\":24,\n",
        "   \"2020-01-10\":np.nan,\n",
        "   \"2020-01-12\":np.nan,\n",
        "   \"2020-01-15\":33,\n",
        "   \"2020-01-17\":np.nan,\n",
        "   \"2020-01-16\":40,\n",
        "   \"2020-01-20\":45,\n",
        "   \"2020-01-22\":52,\n",
        "   \"2020-01-25\":75,\n",
        "   \"2020-01-28\":np.nan,\n",
        "   \"2020-01-30\":np.nan\n",
        "})\n",
        "# Isi missing value menggunakan interpolasi linier\n",
        "ts = ts.interpolate()\n",
        "# Cetak time series setelah interpolasi linier\n",
        "print(\"Setelah diisi missing valuenya:\\n\", ts)"
      ],
      "execution_count": null,
      "outputs": [
        {
          "output_type": "stream",
          "text": [
            "Setelah diisi missing valuenya:\n",
            " 2020-01-01     9.0\n",
            "2020-01-02    14.0\n",
            "2020-01-05    19.0\n",
            "2020-01-07    24.0\n",
            "2020-01-10    27.0\n",
            "2020-01-12    30.0\n",
            "2020-01-15    33.0\n",
            "2020-01-17    36.5\n",
            "2020-01-16    40.0\n",
            "2020-01-20    45.0\n",
            "2020-01-22    52.0\n",
            "2020-01-25    75.0\n",
            "2020-01-28    75.0\n",
            "2020-01-30    75.0\n",
            "dtype: float64\n"
          ],
          "name": "stdout"
        }
      ]
    },
    {
      "cell_type": "markdown",
      "metadata": {
        "id": "OBXb_GsM2tm3"
      },
      "source": [
        "**PROJECT**\n",
        "\n",
        "Diberikan dataset ‘retail_raw_test.csv’\n",
        "\n",
        "1. Baca dataset\n",
        "2. Tipe data diubah menjadi tipe yang seharusnya\n",
        " * customer_id dari string ke int64,\n",
        " * quantity dari string ke int64,\n",
        " * item_price dari string ke int64\n",
        "3. transform product_value supaya bentuknya seragam dengan format PXXXX, assign ke kolom baru \"product_id\", dan drop kolom \"product_value\", jika terdapat nan gantilah dengan \"unknown\".\n",
        "4. tranform order_date menjadi value dengan format YYYY-mm-dd\n",
        "5. cek data hilang dari tiap kolom dan kemudian isi missing value\n",
        " * di brand dengan \"no_brand\", dan\n",
        " * cek dulu bagaimana missing value di city & province - isi missing value di city dan province dengan \"unknown\"\n",
        "6. create column city/province dari gabungan city & province\n",
        "7. membuat index berdasarkan city_provice, order_date, customer_id, order_id, product_id (cek index)\n",
        "8. membuat kolom \"total_price\" sebagai hasil perkalian quantity dengan item_price\n",
        "9. slice data hanya untuk Jan 2019"
      ]
    },
    {
      "cell_type": "code",
      "metadata": {
        "colab": {
          "base_uri": "https://localhost:8080/"
        },
        "id": "rQiibJiEizWo",
        "outputId": "7caf1766-03a0-4670-dc2c-3ace7e92758d"
      },
      "source": [
        "import pandas as pd\n",
        "\n",
        "# 1. Baca dataset\n",
        "print(\"[1] BACA DATASET\")\n",
        "df = pd.read_csv(\"https://storage.googleapis.com/dqlab-dataset/retail_raw_test.csv\", low_memory=False)\n",
        "print(\"    Dataset:\\n\", df.head())\n",
        "print(\"    Info:\\n\", df.info())\n",
        "\n",
        "# 2. Ubah tipe data\n",
        "print(\"\\n[2] UBAH TIPE DATA\")\n",
        "df[\"customer_id\"] = df[\"customer_id\"].apply(lambda x: x.split(\"'\")[1]).astype(\"int64\")\n",
        "df[\"quantity\"] = df[\"quantity\"].apply(lambda x: x.split(\"'\")[1]).astype(\"int64\")\n",
        "df[\"item_price\"] = df[\"item_price\"].apply(lambda x: x.split(\"'\")[1]).astype(\"int64\")\n",
        "print(\"    Tipe data:\\n\", df.dtypes)\n",
        "\n",
        "# 3. Transform \"product_value\" supaya bentuknya seragam dengan format \"PXXXX\", assign ke kolom baru \"product_id\", dan drop kolom \"product_value\", jika terdapat nan gantilah dengan \"unknown\"\n",
        "print(\"\\n[3] TRANSFORM product_value MENJADI product_id\")\n",
        "# Buat fungsi\n",
        "import math\n",
        "def impute_product_value(val):\n",
        "\tif math.isnan(val):\n",
        "\t\treturn \"unknown\"\n",
        "\telse:\n",
        "\t\treturn 'P' + '{:0>4}'.format(str(val).split('.')[0])\n",
        "\n",
        "# Buat kolom \"product_id\"\n",
        "df[\"product_id\"] = df[\"product_value\"].apply(lambda x: impute_product_value(x))\n",
        "# Hapus kolom \"product_value\"\n",
        "df.drop([\"product_value\"], axis=1, inplace=True)\n",
        "# Cetak 5 data teratas\n",
        "print(df.head())\n",
        "\n",
        "# 4. Tranform order_date menjadi value dengan format \"YYYY-mm-dd\"\n",
        "print(\"\\n[4] TRANSFORM order_date MENJADI FORMAT YYYY-mm-dd\")\n",
        "months_dict = {\n",
        "   \"Jan\":\"01\",\n",
        "   \"Feb\":\"02\",\n",
        "   \"Mar\":\"03\",\n",
        "   \"Apr\":\"04\",\n",
        "   \"May\":\"05\",\n",
        "   \"Jun\":\"06\",\n",
        "   \"Jul\":\"07\",\n",
        "   \"Aug\":\"08\",\n",
        "   \"Sep\":\"09\",\n",
        "   \"Oct\":\"10\",\n",
        "   \"Nov\":\"11\",\n",
        "   \"Dec\":\"12\"\n",
        "}\n",
        "df[\"order_date\"] = pd.to_datetime(df[\"order_date\"].apply(lambda x: str(x)[-4:] + \"-\" + months_dict[str(x)[:3]] + \"-\" + str(x)[4:7]))\n",
        "print(\"    Tipe data:\\n\", df.dtypes)\n",
        "\n",
        "\n",
        "# 5. Mengatasi data yang hilang di beberapa kolom\n",
        "print(\"\\n[5] HANDLING MISSING VALUE\")\n",
        "# Kolom \"city\" dan \"province\" masih memiliki missing value, nilai yang hilang di kedua kolom ini diisi saja dengan \"unknown\"\n",
        "df[[\"city\",\"province\"]] = df[[\"city\",\"province\"]].fillna(\"unknown\")\n",
        "# Kolom brand juga masih memiliki missing value, Ganti value NaN menjadi \"no_brand\"\n",
        "df[\"brand\"] = df[\"brand\"].fillna(\"no_brand\")\n",
        "# Cek apakah masih terdapat missing value di seluruh kolom \n",
        "print(\"    Info:\\n\", df.info())\n",
        "\n",
        "# 6. Membuat kolom baru \"city/province\" dengan menggabungkan kolom \"city\" dan kolom \"province\" dan delete kolom asalnya\n",
        "print(\"\\n[6] MEMBUAT KOLOM BARU city/province\")\n",
        "df[\"city/province\"] = df[\"city\"] + \"/\" + df[\"province\"]\n",
        "# drop kolom \"city\" dan \"province\" karena telah digabungkan\n",
        "df.drop([\"city\",\"province\"], axis=1, inplace=True)\n",
        "# Cetak 5 data teratas\n",
        "print(df.head())\n",
        "\n",
        "# 7. Membuat hierarchical index yang terdiri dari kolom \"city/province\", \"order_date\", \"customer_id\", \"order_id\", \"product_id\"\n",
        "print(\"\\n[7] MEMBUAT HIERACHICAL INDEX\")\n",
        "df = df.set_index([\"city/province\",\"order_date\",\"customer_id\",\"order_id\",\"product_id\"])\n",
        "# urutkanlah berdasarkan index yang baru\n",
        "df = df.sort_index()\n",
        "# Cetak 5 data teratas\n",
        "print(df.head())\n",
        "\n",
        "# 8. Membuat kolom \"total_price\" yang formula nya perkalian antara kolom \"quantity\" dan kolom \"item_price\"\n",
        "print(\"\\n[8] MEMBUAT KOLOM total_price\")\n",
        "df[\"total_price\"] = df[\"quantity\"] * df[\"item_price\"]\n",
        "# Cetak 5 data teratas\n",
        "print(df.head())\n",
        "\n",
        "# 9. Slice dataset agar hanya terdapat data bulan Januari 2019\n",
        "print(\"\\n[9] SLICE DATASET UNTUK BULAN JANUARI 2019 SAJA\")\n",
        "idx = pd.IndexSlice\n",
        "df_jan2019 = df.loc[idx[:, \"2019-01-01\":\"2019-01-31\"], :]\n",
        "print(\"Dataset akhir:\\n\", df_jan2019)\n",
        "\n",
        "# END OF PROJECT"
      ],
      "execution_count": null,
      "outputs": [
        {
          "output_type": "stream",
          "text": [
            "[1] BACA DATASET\n",
            "    Dataset:\n",
            "    order_id    order_date customer_id  ... quantity item_price product_value\n",
            "0   1730350  Dec 11, 2019      '13447  ...      '24    '113000        1374.0\n",
            "1   1677490  Jul 31, 2019          '0  ...       '1   '1164000        1370.0\n",
            "2   1704211  Oct 18, 2019      '16128  ...      '12    '747000        1679.0\n",
            "3   1679695  Aug 07, 2019      '16225  ...       '6    '590000        1708.0\n",
            "4   1679080  Aug 05, 2019          '0  ...       '2    '740000        1201.0\n",
            "\n",
            "[5 rows x 9 columns]\n",
            "<class 'pandas.core.frame.DataFrame'>\n",
            "RangeIndex: 5000 entries, 0 to 4999\n",
            "Data columns (total 9 columns):\n",
            " #   Column         Non-Null Count  Dtype  \n",
            "---  ------         --------------  -----  \n",
            " 0   order_id       5000 non-null   int64  \n",
            " 1   order_date     5000 non-null   object \n",
            " 2   customer_id    5000 non-null   object \n",
            " 3   city           3802 non-null   object \n",
            " 4   province       3802 non-null   object \n",
            " 5   brand          4995 non-null   object \n",
            " 6   quantity       5000 non-null   object \n",
            " 7   item_price     5000 non-null   object \n",
            " 8   product_value  4995 non-null   float64\n",
            "dtypes: float64(1), int64(1), object(7)\n",
            "memory usage: 351.7+ KB\n",
            "    Info:\n",
            " None\n",
            "\n",
            "[2] UBAH TIPE DATA\n",
            "    Tipe data:\n",
            " order_id           int64\n",
            "order_date        object\n",
            "customer_id        int64\n",
            "city              object\n",
            "province          object\n",
            "brand             object\n",
            "quantity           int64\n",
            "item_price         int64\n",
            "product_value    float64\n",
            "dtype: object\n",
            "\n",
            "[3] TRANSFORM product_value MENJADI product_id\n",
            "   order_id    order_date  customer_id  ... quantity item_price product_id\n",
            "0   1730350  Dec 11, 2019        13447  ...       24     113000      P1374\n",
            "1   1677490  Jul 31, 2019            0  ...        1    1164000      P1370\n",
            "2   1704211  Oct 18, 2019        16128  ...       12     747000      P1679\n",
            "3   1679695  Aug 07, 2019        16225  ...        6     590000      P1708\n",
            "4   1679080  Aug 05, 2019            0  ...        2     740000      P1201\n",
            "\n",
            "[5 rows x 9 columns]\n",
            "\n",
            "[4] TRANSFORM order_date MENJADI FORMAT YYYY-mm-dd\n",
            "    Tipe data:\n",
            " order_id                int64\n",
            "order_date     datetime64[ns]\n",
            "customer_id             int64\n",
            "city                   object\n",
            "province               object\n",
            "brand                  object\n",
            "quantity                int64\n",
            "item_price              int64\n",
            "product_id             object\n",
            "dtype: object\n",
            "\n",
            "[5] HANDLING MISSING VALUE\n",
            "<class 'pandas.core.frame.DataFrame'>\n",
            "RangeIndex: 5000 entries, 0 to 4999\n",
            "Data columns (total 9 columns):\n",
            " #   Column       Non-Null Count  Dtype         \n",
            "---  ------       --------------  -----         \n",
            " 0   order_id     5000 non-null   int64         \n",
            " 1   order_date   5000 non-null   datetime64[ns]\n",
            " 2   customer_id  5000 non-null   int64         \n",
            " 3   city         5000 non-null   object        \n",
            " 4   province     5000 non-null   object        \n",
            " 5   brand        5000 non-null   object        \n",
            " 6   quantity     5000 non-null   int64         \n",
            " 7   item_price   5000 non-null   int64         \n",
            " 8   product_id   5000 non-null   object        \n",
            "dtypes: datetime64[ns](1), int64(4), object(4)\n",
            "memory usage: 351.7+ KB\n",
            "    Info:\n",
            " None\n",
            "\n",
            "[6] MEMBUAT KOLOM BARU city/province\n",
            "   order_id order_date  ...  product_id              city/province\n",
            "0   1730350 2019-12-11  ...       P1374      Surakarta/Jawa Tengah\n",
            "1   1677490 2019-07-31  ...       P1370            unknown/unknown\n",
            "2   1704211 2019-10-18  ...       P1679  Jakarta Pusat/DKI Jakarta\n",
            "3   1679695 2019-08-07  ...       P1708      Yogyakarta/Yogyakarta\n",
            "4   1679080 2019-08-05  ...       P1201            unknown/unknown\n",
            "\n",
            "[5 rows x 8 columns]\n",
            "\n",
            "[7] MEMBUAT HIERACHICAL INDEX\n",
            "                                                                     brand  ...  item_price\n",
            "city/province          order_date customer_id order_id product_id           ...            \n",
            "Banda Aceh/Aceh        2019-04-17 12818       1642480  P1936       BRAND_K  ...      450000\n",
            "                       2019-11-12 12360       1715116  P0758       BRAND_C  ...      695000\n",
            "                                                       P3042       BRAND_R  ...      310000\n",
            "                       2019-12-09 12374       1729036  P1660       BRAND_G  ...     2795000\n",
            "Bandar Lampung/Lampung 2019-01-15 12515       1619257  P0628       BRAND_C  ...      695000\n",
            "\n",
            "[5 rows x 3 columns]\n",
            "\n",
            "[8] MEMBUAT KOLOM total_price\n",
            "                                                                     brand  ...  total_price\n",
            "city/province          order_date customer_id order_id product_id           ...             \n",
            "Banda Aceh/Aceh        2019-04-17 12818       1642480  P1936       BRAND_K  ...     10800000\n",
            "                       2019-11-12 12360       1715116  P0758       BRAND_C  ...      5560000\n",
            "                                                       P3042       BRAND_R  ...      3720000\n",
            "                       2019-12-09 12374       1729036  P1660       BRAND_G  ...     11180000\n",
            "Bandar Lampung/Lampung 2019-01-15 12515       1619257  P0628       BRAND_C  ...      8340000\n",
            "\n",
            "[5 rows x 4 columns]\n",
            "\n",
            "[9] SLICE DATASET UNTUK BULAN JANUARI 2019 SAJA\n",
            "Dataset akhir:\n",
            "                                                                      brand  ...  total_price\n",
            "city/province          order_date customer_id order_id product_id           ...             \n",
            "Bandar Lampung/Lampung 2019-01-15 12515       1619257  P0628       BRAND_C  ...      8340000\n",
            "Bandung/Jawa Barat     2019-01-09 16134       1617055  P1597       BRAND_G  ...      4680000\n",
            "                       2019-01-10 17392       1617952  P2137       BRAND_M  ...      2124000\n",
            "                       2019-01-14 15527       1618828  P3115       BRAND_S  ...      1045000\n",
            "                       2019-01-29 13253       1620289  P0099       BRAND_A  ...      5400000\n",
            "...                                                                    ...  ...          ...\n",
            "unknown/unknown        2019-01-30 0           1620766  P3070       BRAND_R  ...       593000\n",
            "                                                       P3483       BRAND_S  ...      1779000\n",
            "                       2019-01-31 0           1621057  P1298       BRAND_F  ...       296000\n",
            "                                                       P1773       BRAND_H  ...      2965000\n",
            "                                                       P2877       BRAND_R  ...      1486000\n",
            "\n",
            "[334 rows x 4 columns]\n"
          ],
          "name": "stdout"
        }
      ]
    }
  ]
}