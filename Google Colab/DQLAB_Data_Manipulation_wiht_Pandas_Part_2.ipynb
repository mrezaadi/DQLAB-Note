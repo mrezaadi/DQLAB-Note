{
  "nbformat": 4,
  "nbformat_minor": 0,
  "metadata": {
    "colab": {
      "name": "DQLAB - Data Manipulation wiht Pandas - Part 2.ipynb",
      "provenance": [],
      "collapsed_sections": [],
      "authorship_tag": "ABX9TyPapFjaNK/jx+6Amej9ITXU",
      "include_colab_link": true
    },
    "kernelspec": {
      "name": "python3",
      "display_name": "Python 3"
    },
    "language_info": {
      "name": "python"
    }
  },
  "cells": [
    {
      "cell_type": "markdown",
      "metadata": {
        "id": "view-in-github",
        "colab_type": "text"
      },
      "source": [
        "<a href=\"https://colab.research.google.com/github/mrezaadi/DQLAB-Note/blob/main/Google%20Colab/DQLAB_Data_Manipulation_wiht_Pandas_Part_2.ipynb\" target=\"_parent\"><img src=\"https://colab.research.google.com/assets/colab-badge.svg\" alt=\"Open In Colab\"/></a>"
      ]
    },
    {
      "cell_type": "code",
      "metadata": {
        "id": "S2c_27wETTvD"
      },
      "source": [
        "import pandas as pd\n",
        "import numpy as np"
      ],
      "execution_count": null,
      "outputs": []
    },
    {
      "cell_type": "markdown",
      "metadata": {
        "id": "dKIVdmMRVWh-"
      },
      "source": [
        "**APPEND**"
      ]
    },
    {
      "cell_type": "code",
      "metadata": {
        "colab": {
          "base_uri": "https://localhost:8080/"
        },
        "id": "IIsBLPbdTyQS",
        "outputId": "577b54a8-dcc5-4765-9ecc-a401eb6e08bc"
      },
      "source": [
        "# Buat series of int (s1) dan series of string (s2)\n",
        "s1 = pd.Series([1,2,3,4,5,6])\n",
        "s2 = pd.Series([\"a\", \"b\", \"c\", \"d\", \"e\", \"f\"])\n",
        "# Terapkan method append\n",
        "s2_append_s1 = s2.append(s1)\n",
        "print(\"Series - append:\\n\", s2_append_s1)\n",
        "# Buat dataframe df1 dan df2\n",
        "df1 = pd.DataFrame({'a':[1,2],\n",
        "\t\t   'b':[3,4]})\n",
        "df2 = pd.DataFrame({'b':[1,2],\n",
        "\t\t   'a':[3,4]})\n",
        "# Terapkan method append\n",
        "df2_append_df1 = df2.append(df1)\n",
        "print(\"Dataframe - append:\\n\", df2_append_df1)"
      ],
      "execution_count": null,
      "outputs": [
        {
          "output_type": "stream",
          "text": [
            "Series - append:\n",
            " 0    a\n",
            "1    b\n",
            "2    c\n",
            "3    d\n",
            "4    e\n",
            "5    f\n",
            "0    1\n",
            "1    2\n",
            "2    3\n",
            "3    4\n",
            "4    5\n",
            "5    6\n",
            "dtype: object\n",
            "Dataframe - append:\n",
            "    b  a\n",
            "0  1  3\n",
            "1  2  4\n",
            "0  3  1\n",
            "1  4  2\n"
          ],
          "name": "stdout"
        }
      ]
    },
    {
      "cell_type": "markdown",
      "metadata": {
        "id": "HbO06XVKWQS4"
      },
      "source": [
        "**CONCAT**"
      ]
    },
    {
      "cell_type": "code",
      "metadata": {
        "colab": {
          "base_uri": "https://localhost:8080/"
        },
        "id": "GF7lP0xOWP_q",
        "outputId": "c3b27369-c3de-467e-c01e-a4e88c328a8a"
      },
      "source": [
        "# Buat dataframe df1 dan df2\n",
        "df1 = pd.DataFrame({'a':[1,2],\n",
        "\t\t\t\t\t'b':[3,4]})\n",
        "df2 = pd.DataFrame({'b':[1,2],\n",
        "\t\t\t\t\t'a':[3,4]})\n",
        "# Terapkan method concat row-wise\n",
        "row_wise_concat = pd.concat([df1,df2])\n",
        "print(\"Row-wise - concat:\\n\", row_wise_concat)\n",
        "# Terapkan method concat column-wise\n",
        "col_wise_concat = pd.concat([df1,df2], axis=1)\n",
        "print(\"Column-wise - concat:\\n\", col_wise_concat)\n",
        "# Penambahan identifier --> membentuk hasil penggabungan multiindex\n",
        "multiindex_concat = pd.concat([df1,df2], axis=0, keys=['df1', 'df2'])\n",
        "print(\"Multiindex - concat:\\n\", multiindex_concat)"
      ],
      "execution_count": null,
      "outputs": [
        {
          "output_type": "stream",
          "text": [
            "Row-wise - concat:\n",
            "    a  b\n",
            "0  1  3\n",
            "1  2  4\n",
            "0  3  1\n",
            "1  4  2\n",
            "Column-wise - concat:\n",
            "    a  b  b  a\n",
            "0  1  3  1  3\n",
            "1  2  4  2  4\n",
            "Multiindex - concat:\n",
            "        a  b\n",
            "df1 0  1  3\n",
            "    1  2  4\n",
            "df2 0  3  1\n",
            "    1  4  2\n"
          ],
          "name": "stdout"
        }
      ]
    },
    {
      "cell_type": "markdown",
      "metadata": {
        "id": "tnGwSD0TaWRM"
      },
      "source": [
        "**MERGE**"
      ]
    },
    {
      "cell_type": "code",
      "metadata": {
        "colab": {
          "base_uri": "https://localhost:8080/"
        },
        "id": "xl-AIYlAaZQb",
        "outputId": "333713fe-7ea3-4885-d82b-9026b0c413b4"
      },
      "source": [
        "# Untuk index tunggal\n",
        "\n",
        "# Buat dataframe df1 dan df2\n",
        "df1 = pd.DataFrame({\n",
        "   'key':['k1','k2','k3','k4','k5'],\n",
        "   'val1':[200, 500, 0, 500, 100],\n",
        "   'val2':[30, 50, 100, 20, 10]\n",
        "})\n",
        "df2 = pd.DataFrame({\n",
        "   'key':['k1','k3','k5','k7','k10'],\n",
        "   'val3':[1,2,3,4,5],\n",
        "   'val4':[6,7,8,8,10]\n",
        "})\n",
        "# Merge yang ekivalen dengan SQL left join\n",
        "merge_df_left = pd.merge(left=df1, right=df2, how='left', left_on='key', right_on='key') #Berdasarkan key yang sama. right_on dan key_on menunjukkan pada 'key' yang sama.\n",
        "print('Merge - Left:\\n', merge_df_left)\n",
        "# Merge yang ekivalen dengan SQL right join\n",
        "merge_df_right = pd.merge(left=df1, right=df2, how='right', left_on='key', right_on='key')\n",
        "print('Merge - Right:\\n', merge_df_right)\n",
        "# Merge yang ekivalen dengan SQL inner join\n",
        "merge_df_inner = pd.merge(left=df1, right=df2, how='inner', left_on='key', right_on='key')\n",
        "print('Merge - Inner:\\n', merge_df_inner)\n",
        "# Merge yang ekivalen dengan SQL outer join\n",
        "merge_df_outer = pd.merge(left=df1, right=df2, how='outer', left_on ='key', right_on='key')\n",
        "print('Merge - Outer:\\n', merge_df_outer)"
      ],
      "execution_count": null,
      "outputs": [
        {
          "output_type": "stream",
          "text": [
            "Merge - Left:\n",
            "   key  val1  val2  val3  val4\n",
            "0  k1   200    30   1.0   6.0\n",
            "1  k2   500    50   NaN   NaN\n",
            "2  k3     0   100   2.0   7.0\n",
            "3  k4   500    20   NaN   NaN\n",
            "4  k5   100    10   3.0   8.0\n",
            "Merge - Right:\n",
            "    key   val1   val2  val3  val4\n",
            "0   k1  200.0   30.0     1     6\n",
            "1   k3    0.0  100.0     2     7\n",
            "2   k5  100.0   10.0     3     8\n",
            "3   k7    NaN    NaN     4     8\n",
            "4  k10    NaN    NaN     5    10\n",
            "Merge - Inner:\n",
            "   key  val1  val2  val3  val4\n",
            "0  k1   200    30     1     6\n",
            "1  k3     0   100     2     7\n",
            "2  k5   100    10     3     8\n",
            "Merge - Outer:\n",
            "    key   val1   val2  val3  val4\n",
            "0   k1  200.0   30.0   1.0   6.0\n",
            "1   k2  500.0   50.0   NaN   NaN\n",
            "2   k3    0.0  100.0   2.0   7.0\n",
            "3   k4  500.0   20.0   NaN   NaN\n",
            "4   k5  100.0   10.0   3.0   8.0\n",
            "5   k7    NaN    NaN   4.0   8.0\n",
            "6  k10    NaN    NaN   5.0  10.0\n"
          ],
          "name": "stdout"
        }
      ]
    },
    {
      "cell_type": "code",
      "metadata": {
        "colab": {
          "base_uri": "https://localhost:8080/"
        },
        "id": "3um1nZHic9Wh",
        "outputId": "20cb247e-a034-4f0f-e615-f256c2cc7256"
      },
      "source": [
        "#Multi Index\n",
        "\n",
        "# Buat dataframe df1 dan df2\n",
        "df1 = pd.DataFrame({\n",
        "   'key':['k1','k2','k3','k4','k5'],\n",
        "   'val1':[200, 500, 0, 500, 100],\n",
        "   'val2':[30, 50, 100, 20, 10]\n",
        "}).set_index(['key', 'val2'])\n",
        "print('Dataframe 1:\\n', df1)\n",
        "df2 = pd.DataFrame({\n",
        "   'key':['k1','k3','k5','k7','k10'],\n",
        "   'val3':[1,2,3,4,5],\n",
        "   'val4':[6,7,8,8,10]\n",
        "}).set_index(['key', 'val3'])\n",
        "print('Dataframe 2:\\n', df2)\n",
        "# Merge dataframe yang memiliki multi index\n",
        "df_merge = pd.merge(df1.reset_index(), df2.reset_index())\n",
        "print('Merging dataframe:\\n', df_merge)"
      ],
      "execution_count": null,
      "outputs": [
        {
          "output_type": "stream",
          "text": [
            "Dataframe 1:\n",
            "           val1\n",
            "key val2      \n",
            "k1  30     200\n",
            "k2  50     500\n",
            "k3  100      0\n",
            "k4  20     500\n",
            "k5  10     100\n",
            "Dataframe 2:\n",
            "           val4\n",
            "key val3      \n",
            "k1  1        6\n",
            "k3  2        7\n",
            "k5  3        8\n",
            "k7  4        8\n",
            "k10 5       10\n",
            "Merging dataframe:\n",
            "   key  val2  val1  val3  val4\n",
            "0  k1    30   200     1     6\n",
            "1  k3   100     0     2     7\n",
            "2  k5    10   100     3     8\n"
          ],
          "name": "stdout"
        }
      ]
    },
    {
      "cell_type": "markdown",
      "metadata": {
        "id": "wzbKqPCGeQuV"
      },
      "source": [
        "**JOIN**"
      ]
    },
    {
      "cell_type": "code",
      "metadata": {
        "colab": {
          "base_uri": "https://localhost:8080/"
        },
        "id": "Ii0ppSp5eQWL",
        "outputId": "3dfc7d5b-0158-43a4-a9e7-0da15838717a"
      },
      "source": [
        "df1 = pd.DataFrame({\n",
        "   'key':['k1','k2','k3','k4','k5'],\n",
        "   'val1':[200, 500, 0, 500, 100],\n",
        "   'val2':[30, 50, 100, 20, 10]\n",
        "})\n",
        "df2 = pd.DataFrame({\n",
        "   'key':['k1','k3','k5','k7','k10'],\n",
        "   'val3':[1,2,3,4,5],\n",
        "   'val4':[6,7,8,8,10]\n",
        "})\n",
        "# Penerapan join dengan menggunakan set_index dan keyword how\n",
        "join_df = df1.set_index('key').join(df2.set_index('key'), how='outer')\n",
        "print(join_df)"
      ],
      "execution_count": null,
      "outputs": [
        {
          "output_type": "stream",
          "text": [
            "      val1   val2  val3  val4\n",
            "key                          \n",
            "k1   200.0   30.0   1.0   6.0\n",
            "k10    NaN    NaN   5.0  10.0\n",
            "k2   500.0   50.0   NaN   NaN\n",
            "k3     0.0  100.0   2.0   7.0\n",
            "k4   500.0   20.0   NaN   NaN\n",
            "k5   100.0   10.0   3.0   8.0\n",
            "k7     NaN    NaN   4.0   8.0\n"
          ],
          "name": "stdout"
        }
      ]
    },
    {
      "cell_type": "markdown",
      "metadata": {
        "id": "ilfUopJ0jinl"
      },
      "source": [
        "**PIVOT**\n",
        "\n",
        "* Format ulang pada dataset itu sangatlah penting, biasanya hal ini dilakukan untuk mengetahui keseluruhan data secara cepat dengan chart atau visualisasi. Untuk orang yang sudah mahir menggunakan spreadsheet pastilah tau banyak tentang fitur pivot ini.\n",
        "\n",
        "* Di Pandas, ada beberapa teknik untuk melakukan pivot atau unpivot yang biasa disebut as melt di Pandas, terdapat pula konsep stack yang artinya menumpuk data dengan kolom yang lebih sedikit (stack) sama seperti konsep melt dan ada pula yang memperluas data dengan kolom yang lebih banyak (unstack) sama seperti konsep pivot."
      ]
    },
    {
      "cell_type": "code",
      "metadata": {
        "colab": {
          "base_uri": "https://localhost:8080/",
          "height": 830
        },
        "id": "eIJdZOzmjMn4",
        "outputId": "a08430f1-3f60-408a-f53c-b799cc8765fb"
      },
      "source": [
        "# Dataframe\n",
        "data = pd.DataFrame({\n",
        "  'kelas': 6*['A'] + 6*['B'],\n",
        "  'murid': 2*['A1'] + 2*['A2'] + 2*['A3'] + 2*['B1'] + 2*['B2'] + 2*['B3'],\n",
        "  'pelajaran': 6*['math','english'],\n",
        "  'nilai': [90,60,70,85,50,60,100,40,95,80,60,45]\n",
        "}, columns=['kelas', 'murid', 'pelajaran', 'nilai'])\n",
        "# Unique value pada setiap kolom data\n",
        "for column in data.columns:\n",
        "    print('Unique value %s: %s' % (column, data[column].unique()))\n",
        "\n",
        "# Pivoting with single column measurement\n",
        "pivot1 = data.pivot(index='murid', columns='pelajaran', values='nilai')\n",
        "print('Pivoting with single column measurement:\\n', pivot1)\n",
        "# Pivoting with multiple column measurement\n",
        "pivot2 = data.pivot(index='murid', columns='pelajaran')\n",
        "print('Pivoting with multiple column measurement:\\n', pivot2)\n",
        "data"
      ],
      "execution_count": null,
      "outputs": [
        {
          "output_type": "stream",
          "text": [
            "Unique value kelas: ['A' 'B']\n",
            "Unique value murid: ['A1' 'A2' 'A3' 'B1' 'B2' 'B3']\n",
            "Unique value pelajaran: ['math' 'english']\n",
            "Unique value nilai: [ 90  60  70  85  50 100  40  95  80  45]\n",
            "Pivoting with single column measurement:\n",
            " pelajaran  english  math\n",
            "murid                   \n",
            "A1              60    90\n",
            "A2              85    70\n",
            "A3              60    50\n",
            "B1              40   100\n",
            "B2              80    95\n",
            "B3              45    60\n",
            "Pivoting with multiple column measurement:\n",
            "             kelas        nilai     \n",
            "pelajaran english math english math\n",
            "murid                              \n",
            "A1              A    A      60   90\n",
            "A2              A    A      85   70\n",
            "A3              A    A      60   50\n",
            "B1              B    B      40  100\n",
            "B2              B    B      80   95\n",
            "B3              B    B      45   60\n"
          ],
          "name": "stdout"
        },
        {
          "output_type": "execute_result",
          "data": {
            "text/html": [
              "<div>\n",
              "<style scoped>\n",
              "    .dataframe tbody tr th:only-of-type {\n",
              "        vertical-align: middle;\n",
              "    }\n",
              "\n",
              "    .dataframe tbody tr th {\n",
              "        vertical-align: top;\n",
              "    }\n",
              "\n",
              "    .dataframe thead th {\n",
              "        text-align: right;\n",
              "    }\n",
              "</style>\n",
              "<table border=\"1\" class=\"dataframe\">\n",
              "  <thead>\n",
              "    <tr style=\"text-align: right;\">\n",
              "      <th></th>\n",
              "      <th>kelas</th>\n",
              "      <th>murid</th>\n",
              "      <th>pelajaran</th>\n",
              "      <th>nilai</th>\n",
              "    </tr>\n",
              "  </thead>\n",
              "  <tbody>\n",
              "    <tr>\n",
              "      <th>0</th>\n",
              "      <td>A</td>\n",
              "      <td>A1</td>\n",
              "      <td>math</td>\n",
              "      <td>90</td>\n",
              "    </tr>\n",
              "    <tr>\n",
              "      <th>1</th>\n",
              "      <td>A</td>\n",
              "      <td>A1</td>\n",
              "      <td>english</td>\n",
              "      <td>60</td>\n",
              "    </tr>\n",
              "    <tr>\n",
              "      <th>2</th>\n",
              "      <td>A</td>\n",
              "      <td>A2</td>\n",
              "      <td>math</td>\n",
              "      <td>70</td>\n",
              "    </tr>\n",
              "    <tr>\n",
              "      <th>3</th>\n",
              "      <td>A</td>\n",
              "      <td>A2</td>\n",
              "      <td>english</td>\n",
              "      <td>85</td>\n",
              "    </tr>\n",
              "    <tr>\n",
              "      <th>4</th>\n",
              "      <td>A</td>\n",
              "      <td>A3</td>\n",
              "      <td>math</td>\n",
              "      <td>50</td>\n",
              "    </tr>\n",
              "    <tr>\n",
              "      <th>5</th>\n",
              "      <td>A</td>\n",
              "      <td>A3</td>\n",
              "      <td>english</td>\n",
              "      <td>60</td>\n",
              "    </tr>\n",
              "    <tr>\n",
              "      <th>6</th>\n",
              "      <td>B</td>\n",
              "      <td>B1</td>\n",
              "      <td>math</td>\n",
              "      <td>100</td>\n",
              "    </tr>\n",
              "    <tr>\n",
              "      <th>7</th>\n",
              "      <td>B</td>\n",
              "      <td>B1</td>\n",
              "      <td>english</td>\n",
              "      <td>40</td>\n",
              "    </tr>\n",
              "    <tr>\n",
              "      <th>8</th>\n",
              "      <td>B</td>\n",
              "      <td>B2</td>\n",
              "      <td>math</td>\n",
              "      <td>95</td>\n",
              "    </tr>\n",
              "    <tr>\n",
              "      <th>9</th>\n",
              "      <td>B</td>\n",
              "      <td>B2</td>\n",
              "      <td>english</td>\n",
              "      <td>80</td>\n",
              "    </tr>\n",
              "    <tr>\n",
              "      <th>10</th>\n",
              "      <td>B</td>\n",
              "      <td>B3</td>\n",
              "      <td>math</td>\n",
              "      <td>60</td>\n",
              "    </tr>\n",
              "    <tr>\n",
              "      <th>11</th>\n",
              "      <td>B</td>\n",
              "      <td>B3</td>\n",
              "      <td>english</td>\n",
              "      <td>45</td>\n",
              "    </tr>\n",
              "  </tbody>\n",
              "</table>\n",
              "</div>"
            ],
            "text/plain": [
              "   kelas murid pelajaran  nilai\n",
              "0      A    A1      math     90\n",
              "1      A    A1   english     60\n",
              "2      A    A2      math     70\n",
              "3      A    A2   english     85\n",
              "4      A    A3      math     50\n",
              "5      A    A3   english     60\n",
              "6      B    B1      math    100\n",
              "7      B    B1   english     40\n",
              "8      B    B2      math     95\n",
              "9      B    B2   english     80\n",
              "10     B    B3      math     60\n",
              "11     B    B3   english     45"
            ]
          },
          "metadata": {
            "tags": []
          },
          "execution_count": 7
        }
      ]
    },
    {
      "cell_type": "markdown",
      "metadata": {
        "id": "5uWMt_TxaaVp"
      },
      "source": [
        "**PIVOT TABLE**\n",
        "\n",
        "* Index di dataframe adalah unique identifier untuk setiap row, jadi tidak boleh ada duplikat dan setiap membuat pivot tabel, harus specify index as kolom yang mana dan columns nya memakai kolom yang mana.\n",
        "\n",
        "* Hal ini dapat diatasi dengan melakukan method .pivot_table() pada dataframe. Metode ini sama seperti melakukan pivot pada tabel tapi juga melakukan groupby dan aggregation (aggfunc) pada level rows sehingga dipastikan tidak ada duplicate index di rows (secara default aggfunc = 'mean')."
      ]
    },
    {
      "cell_type": "code",
      "metadata": {
        "colab": {
          "base_uri": "https://localhost:8080/"
        },
        "id": "nk4okXE1Xt9Q",
        "outputId": "b650da20-3eef-4867-d9c8-2b8a114d8fe3"
      },
      "source": [
        "# Dataframe\n",
        "data = pd.DataFrame({\n",
        "  'kelas': 6*['A'] + 6*['B'],\n",
        "  'murid': 2*['A1'] + 2*['A2'] + 2*['A3'] + 2*['B1'] + 2*['B2'] + 2*['B3'],\n",
        "  'pelajaran': 6*['math','english'],\n",
        "  'nilai': [90,60,70,85,50,60,100,40,95,80,60,45]\n",
        "}, columns=['kelas', 'murid', 'pelajaran', 'nilai'])\n",
        "# Creating pivot and assign pivot_tab dengan menggunakan keyword aggfunc=sum\n",
        "pivot_tab_sum = data.pivot_table(index='kelas', columns='pelajaran', values='nilai',aggfunc=sum)\n",
        "print('Creating pivot table -- aggfunc sum:\\n', pivot_tab_sum)\n",
        "# Creating pivot and assign pivot_tab dengan menggunakan keyword aggfunc='mean'\n",
        "pivot_tab_mean = data.pivot_table(index='kelas', columns='pelajaran', values='nilai', aggfunc='mean')\n",
        "print('Creating pivot table -- aggfunc mean:\\n', pivot_tab_mean)\n",
        "# Creating pivot and assign pivot_tab dengan menggunakan keyword aggfunc='median'\n",
        "pivot_tab_median = data.pivot_table(index='kelas', columns='pelajaran', values='nilai',aggfunc='median')\n",
        "print('Creating pivot table -- aggfunc median:\\n', pivot_tab_median)"
      ],
      "execution_count": null,
      "outputs": [
        {
          "output_type": "stream",
          "text": [
            "Creating pivot table -- aggfunc sum:\n",
            " pelajaran  english  math\n",
            "kelas                   \n",
            "A              205   210\n",
            "B              165   255\n",
            "Creating pivot table -- aggfunc mean:\n",
            " pelajaran    english  math\n",
            "kelas                     \n",
            "A          68.333333  70.0\n",
            "B          55.000000  85.0\n",
            "Creating pivot table -- aggfunc median:\n",
            " pelajaran  english  math\n",
            "kelas                   \n",
            "A               60    70\n",
            "B               45    95\n"
          ],
          "name": "stdout"
        }
      ]
    },
    {
      "cell_type": "markdown",
      "metadata": {
        "id": "nxOjHTLeeHDL"
      },
      "source": [
        "**MELT**\n",
        "\n",
        "Teknik melt melalui pd.melt() digunakan untuk mengembalikan kondisi data yang sudah dilakukan pivot menjadi sebelum pivot."
      ]
    },
    {
      "cell_type": "code",
      "metadata": {
        "colab": {
          "base_uri": "https://localhost:8080/"
        },
        "id": "Kelv-zMneLFE",
        "outputId": "b89b25fb-a586-4527-c249-bfc8473b90b9"
      },
      "source": [
        "# Dataframe\n",
        "data = pd.DataFrame({\n",
        "  'kelas': 6*['A'] + 6*['B'],\n",
        "  'murid': 2*['A1'] + 2*['A2'] + 2*['A3'] + 2*['B1'] + 2*['B2'] + 2*['B3'],\n",
        "  'pelajaran': 6*['math','english'],\n",
        "  'nilai': [90,60,70,85,50,60,100,40,95,80,60,45]\n",
        "}, columns=['kelas','murid','pelajaran','nilai'])\n",
        "# Pivoting dataframe\n",
        "data_pivot = data.pivot_table(index='kelas', columns='pelajaran', values='nilai',aggfunc='mean').reset_index()\n",
        "print('Pivoting dataframe:\\n', data_pivot)\n",
        "# [1] Melting dataframe data_pivot\n",
        "data_melt_1 = pd.melt(data_pivot)\n",
        "print('Melting dataframe:\\n', data_melt_1)\n",
        "# [2] Melting dataframe data_pivot dengan id_vars\n",
        "# Dengan menspesifikasi keyword argument id_vars yang ditujukan untuk membuat fix kolom yang sebagai id tiap barisnya\n",
        "data_melt_2 = pd.melt(data_pivot, id_vars='kelas')\n",
        "print('Melting dataframe dengan idvars:\\n', data_melt_2)\n",
        "# [3.a] Melting dataframe data_pivot dengan value_vars\n",
        "# Dengan menspesifikasikan keyword argument value_vars yang digunakan untuk menampilkan variasi value apa saja yang perlu dimunculkan di kolom variable. \n",
        "data_melt_3a = pd.melt(data_pivot, value_vars=['math'])\n",
        "print('Melting dataframe dengan value_vars:\\n', data_melt_3a)\n",
        "# [3.b] Melting dataframe data_pivot dengan id_vars dan value_vars\n",
        "data_melt_3b = pd.melt(data_pivot, id_vars='kelas', value_vars=['math'])\n",
        "print('Melting dataframe dengan id_vars dan value_vars:\\n', data_melt_3b)\n",
        "# [4] Melting dataframe data_pivot dengan id_vars, value_vars, var_name. dan value_name\n",
        "# Dengan spesifikasikan keyword argument var_name dan value_name yang digunakan untuk menampilkan nama kolom untuk variable dan value\n",
        "data_melt_4 = pd.melt(data_pivot, id_vars='kelas', value_vars=['english', 'math'], var_name='pelajaran', value_name='nliai ') #var_name dan value_name = menentukan nama tabel\n",
        "print('Melting dataframe dengan id_vars, value_vars, var_name. dan value_name:\\n', data_melt_4)"
      ],
      "execution_count": null,
      "outputs": [
        {
          "output_type": "stream",
          "text": [
            "Pivoting dataframe:\n",
            " pelajaran kelas    english  math\n",
            "0             A  68.333333  70.0\n",
            "1             B  55.000000  85.0\n",
            "Melting dataframe:\n",
            "   pelajaran    value\n",
            "0     kelas        A\n",
            "1     kelas        B\n",
            "2   english  68.3333\n",
            "3   english       55\n",
            "4      math       70\n",
            "5      math       85\n",
            "Melting dataframe dengan idvars:\n",
            "   kelas pelajaran      value\n",
            "0     A   english  68.333333\n",
            "1     B   english  55.000000\n",
            "2     A      math  70.000000\n",
            "3     B      math  85.000000\n",
            "Melting dataframe dengan value_vars:\n",
            "   pelajaran  value\n",
            "0      math   70.0\n",
            "1      math   85.0\n",
            "Melting dataframe dengan id_vars dan value_vars:\n",
            "   kelas pelajaran  value\n",
            "0     A      math   70.0\n",
            "1     B      math   85.0\n",
            "Melting dataframe dengan id_vars, value_vars, var_name. dan value_name:\n",
            "   kelas pelajaran     nliai \n",
            "0     A   english  68.333333\n",
            "1     B   english  55.000000\n",
            "2     A      math  70.000000\n",
            "3     B      math  85.000000\n"
          ],
          "name": "stdout"
        }
      ]
    },
    {
      "cell_type": "markdown",
      "metadata": {
        "id": "2X3XBzrPoPhM"
      },
      "source": [
        "**STACK DAN UNSTACK**\n",
        "\n",
        "Konsep stacking dan unstacking sama dengan melt dan pivot secara berurutan, hanya saja tidak memasukkan index sebagai parameter di stack/unstack tapi harus set index terlebih dahulu, baru bisa melakukan stacking/unstacking dengan level yang bisa ditentukan sendiri."
      ]
    },
    {
      "cell_type": "code",
      "metadata": {
        "colab": {
          "base_uri": "https://localhost:8080/"
        },
        "id": "Up39Kt2loPNa",
        "outputId": "7694f8e8-ea52-4b31-ea64-5ea002503ead"
      },
      "source": [
        "#Unstack\n",
        "# Dataframe\n",
        "data = pd.DataFrame({\n",
        "  'kelas': 6*['A'] + 6*['B'],\n",
        "  'murid': 2*['A1'] + 2*['A2'] + 2*['A3'] + 2*['B1'] + 2*['B2'] + 2*['B3'],\n",
        "  'pelajaran': 6*['math','english'],\n",
        "  'nilai': [90,60,70,85,50,60,100,40,95,80,60,45]\n",
        "}, columns=['kelas','murid','pelajaran','nilai'])\n",
        "print('Dataframe:\\n', data)\n",
        "# Set index data untuk kolom kelas, murid, dan pelajaran\n",
        "data = data.set_index(['kelas', 'murid', 'pelajaran'])\n",
        "print('Dataframe multi index:\\n', data)\n",
        "# [1] Unstacking dataframe\n",
        "data_unstack_1 = data.unstack()\n",
        "print('Unstacking dataframe:\\n', data_unstack_1)\n",
        "# [2] Unstacking dengan specify level name\n",
        "data_unstack_2 = data.unstack(level='murid')\n",
        "print('Unstacking dataframe dengan level name:\\n', data_unstack_2)\n",
        "# [3] Unstacking dengan specify level position\n",
        "data_unstack_3 = data.unstack(level=1)\n",
        "print('Unstacking dataframe dengan level position:\\n', data_unstack_3)\n",
        "\n",
        "#Quiz\n",
        "print(\"\\nQuiz\")\n",
        "print(data.unstack())\n",
        "print(data.unstack([0,1])) #Berdasarkan urutan index nya, artinya index ke-0('kelas') dan index ke-1('murid') dipindahkan ke atas\n",
        "print(data.unstack([0,2]))\n",
        "print(data.unstack([1,2]))"
      ],
      "execution_count": null,
      "outputs": [
        {
          "output_type": "stream",
          "text": [
            "Dataframe:\n",
            "    kelas murid pelajaran  nilai\n",
            "0      A    A1      math     90\n",
            "1      A    A1   english     60\n",
            "2      A    A2      math     70\n",
            "3      A    A2   english     85\n",
            "4      A    A3      math     50\n",
            "5      A    A3   english     60\n",
            "6      B    B1      math    100\n",
            "7      B    B1   english     40\n",
            "8      B    B2      math     95\n",
            "9      B    B2   english     80\n",
            "10     B    B3      math     60\n",
            "11     B    B3   english     45\n",
            "Dataframe multi index:\n",
            "                        nilai\n",
            "kelas murid pelajaran       \n",
            "A     A1    math          90\n",
            "            english       60\n",
            "      A2    math          70\n",
            "            english       85\n",
            "      A3    math          50\n",
            "            english       60\n",
            "B     B1    math         100\n",
            "            english       40\n",
            "      B2    math          95\n",
            "            english       80\n",
            "      B3    math          60\n",
            "            english       45\n",
            "Unstacking dataframe:\n",
            "               nilai     \n",
            "pelajaran   english math\n",
            "kelas murid             \n",
            "A     A1         60   90\n",
            "      A2         85   70\n",
            "      A3         60   50\n",
            "B     B1         40  100\n",
            "      B2         80   95\n",
            "      B3         45   60\n",
            "Unstacking dataframe dengan level name:\n",
            "                 nilai                               \n",
            "murid              A1    A2    A3     B1    B2    B3\n",
            "kelas pelajaran                                     \n",
            "A     english    60.0  85.0  60.0    NaN   NaN   NaN\n",
            "      math       90.0  70.0  50.0    NaN   NaN   NaN\n",
            "B     english     NaN   NaN   NaN   40.0  80.0  45.0\n",
            "      math        NaN   NaN   NaN  100.0  95.0  60.0\n",
            "Unstacking dataframe dengan level position:\n",
            "                 nilai                               \n",
            "murid              A1    A2    A3     B1    B2    B3\n",
            "kelas pelajaran                                     \n",
            "A     english    60.0  85.0  60.0    NaN   NaN   NaN\n",
            "      math       90.0  70.0  50.0    NaN   NaN   NaN\n",
            "B     english     NaN   NaN   NaN   40.0  80.0  45.0\n",
            "      math        NaN   NaN   NaN  100.0  95.0  60.0\n",
            "\n",
            "Quiz\n",
            "              nilai     \n",
            "pelajaran   english math\n",
            "kelas murid             \n",
            "A     A1         60   90\n",
            "      A2         85   70\n",
            "      A3         60   50\n",
            "B     B1         40  100\n",
            "      B2         80   95\n",
            "      B3         45   60\n",
            "          nilai                     \n",
            "kelas         A            B        \n",
            "murid        A1  A2  A3   B1  B2  B3\n",
            "pelajaran                           \n",
            "english      60  85  60   40  80  45\n",
            "math         90  70  50  100  95  60\n",
            "          nilai                       \n",
            "kelas         A              B        \n",
            "pelajaran  math english   math english\n",
            "murid                                 \n",
            "A1         90.0    60.0    NaN     NaN\n",
            "A2         70.0    85.0    NaN     NaN\n",
            "A3         50.0    60.0    NaN     NaN\n",
            "B1          NaN     NaN  100.0    40.0\n",
            "B2          NaN     NaN   95.0    80.0\n",
            "B3          NaN     NaN   60.0    45.0\n",
            "          nilai                              ...                                    \n",
            "murid        A1            A2            A3  ...      B1    B2            B3        \n",
            "pelajaran  math english  math english  math  ... english  math english  math english\n",
            "kelas                                        ...                                    \n",
            "A          90.0    60.0  70.0    85.0  50.0  ...     NaN   NaN     NaN   NaN     NaN\n",
            "B           NaN     NaN   NaN     NaN   NaN  ...    40.0  95.0    80.0  60.0    45.0\n",
            "\n",
            "[2 rows x 12 columns]\n"
          ],
          "name": "stdout"
        }
      ]
    },
    {
      "cell_type": "code",
      "metadata": {
        "colab": {
          "base_uri": "https://localhost:8080/"
        },
        "id": "Z616RhnrqX6m",
        "outputId": "03ae8700-ec00-40ec-edbb-caffaf1bf74b"
      },
      "source": [
        "#Stack\n",
        "# Dataframe\n",
        "data = pd.DataFrame({\n",
        "  'kelas': 6*['A'] + 6*['B'],\n",
        "  'murid': 2*['A1'] + 2*['A2'] + 2*['A3'] + 2*['B1'] + 2*['B2'] + 2*['B3'],\n",
        "  'pelajaran': 6*['math','english'],\n",
        "  'nilai': [90,60,70,85,50,60,100,40,95,80,60,45]\n",
        "}, columns=['kelas','murid','pelajaran','nilai'])\n",
        "data = data.set_index(['kelas','murid','pelajaran'])\n",
        "data_unstack = data.unstack(level=1)\n",
        "print('Dataframe:\\n', data_unstack)\n",
        "# [1] Stacking dataframe\n",
        "data_stack = data_unstack.stack()\n",
        "print('Stacked dataframe:\\n', data_stack)\n",
        "# [2] Tukar posisi index setelah stacking dataframe\n",
        "data_swap = data_stack.swaplevel(1,2)\n",
        "print('Swapped data:\\n', data_swap)\n",
        "# [3] Melakukan sort_index pada stacking dataframe\n",
        "data_sort = data_swap.sort_index()\n",
        "print('Sorted data:\\n', data_sort)"
      ],
      "execution_count": null,
      "outputs": [
        {
          "output_type": "stream",
          "text": [
            "Dataframe:\n",
            "                 nilai                               \n",
            "murid              A1    A2    A3     B1    B2    B3\n",
            "kelas pelajaran                                     \n",
            "A     english    60.0  85.0  60.0    NaN   NaN   NaN\n",
            "      math       90.0  70.0  50.0    NaN   NaN   NaN\n",
            "B     english     NaN   NaN   NaN   40.0  80.0  45.0\n",
            "      math        NaN   NaN   NaN  100.0  95.0  60.0\n",
            "Stacked dataframe:\n",
            "                        nilai\n",
            "kelas pelajaran murid       \n",
            "A     english   A1      60.0\n",
            "                A2      85.0\n",
            "                A3      60.0\n",
            "      math      A1      90.0\n",
            "                A2      70.0\n",
            "                A3      50.0\n",
            "B     english   B1      40.0\n",
            "                B2      80.0\n",
            "                B3      45.0\n",
            "      math      B1     100.0\n",
            "                B2      95.0\n",
            "                B3      60.0\n",
            "Swapped data:\n",
            "                        nilai\n",
            "kelas murid pelajaran       \n",
            "A     A1    english     60.0\n",
            "      A2    english     85.0\n",
            "      A3    english     60.0\n",
            "      A1    math        90.0\n",
            "      A2    math        70.0\n",
            "      A3    math        50.0\n",
            "B     B1    english     40.0\n",
            "      B2    english     80.0\n",
            "      B3    english     45.0\n",
            "      B1    math       100.0\n",
            "      B2    math        95.0\n",
            "      B3    math        60.0\n",
            "Sorted data:\n",
            "                        nilai\n",
            "kelas murid pelajaran       \n",
            "A     A1    english     60.0\n",
            "            math        90.0\n",
            "      A2    english     85.0\n",
            "            math        70.0\n",
            "      A3    english     60.0\n",
            "            math        50.0\n",
            "B     B1    english     40.0\n",
            "            math       100.0\n",
            "      B2    english     80.0\n",
            "            math        95.0\n",
            "      B3    english     45.0\n",
            "            math        60.0\n"
          ],
          "name": "stdout"
        }
      ]
    },
    {
      "cell_type": "markdown",
      "metadata": {
        "id": "9zOLjzDZuKR9"
      },
      "source": [
        "**AGREGASI**\n",
        "\n",
        "Teknik agregasi diperlukan ketika mau melihat dataset dengan view yang berbeda, bisa set data tersebut akan dikelompokkan seperti apa, yang kemudian juga bisa menerapkan beberapa fungsi atau metode statistik ke hasil group dataset itu untuk mengetahui behavior dari data tersebut secara summary/overview.\n",
        "\n",
        "Groupby memiliki konsep untuk\n",
        "* Split: melakukan indexing/multi-indexing dengan apa yang di specify as groupby menjadi kelompok\n",
        "* Apply: menerapkan fungsi pada masing-masing kelompok tersebut\n",
        "* Combine: mengumpulkan semua hasil fungsi dari tiap kelompok kembali menjadi dataframe\n",
        "\n",
        "![Basic Concept of Groupby & Aggregation.png](data:image/png;base64,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)\n",
        "\n"
      ]
    },
    {
      "cell_type": "code",
      "metadata": {
        "colab": {
          "base_uri": "https://localhost:8080/"
        },
        "id": "zsx3altnuGEC",
        "outputId": "1eeab543-26a5-4633-b6c1-7c04fdb12956"
      },
      "source": [
        "# Load data global_air_quality.csv\n",
        "global_air_quality = pd.read_csv('https://storage.googleapis.com/dqlab-dataset/LO4/global_air_quality_4000rows.csv')\n",
        "print('Lima data teratas:\\n', global_air_quality.head())\n",
        "# Melakukan pengecekan terhadap data\n",
        "print('Info global_air_quality:\\n', global_air_quality.info())\n",
        "# Melakukan count tanpa groupby\n",
        "print('Count tanpa groupby:\\n', global_air_quality.count())\n",
        "# Melakukan count dengan groupby \n",
        "gaq_groupby_count = global_air_quality.groupby('source_name').count()\n",
        "print('Count dengan groupby (5 data teratas):\\n', gaq_groupby_count.head())\n",
        "print(global_air_quality.isnull().any())"
      ],
      "execution_count": null,
      "outputs": [
        {
          "output_type": "stream",
          "text": [
            "Lima data teratas:\n",
            "                           location  ... averaged_over_in_hours\n",
            "0                  MOBILE-KICKAPOO  ...                   1.00\n",
            "1                  Oxford St Ebbes  ...                   1.00\n",
            "2                 BROADWAY (South)  ...                   1.00\n",
            "3  Deen Dayal Nagar, Sagar - MPPCB  ...                   0.25\n",
            "4                        Manglerud  ...                   1.00\n",
            "\n",
            "[5 rows x 11 columns]\n",
            "<class 'pandas.core.frame.DataFrame'>\n",
            "RangeIndex: 4000 entries, 0 to 3999\n",
            "Data columns (total 11 columns):\n",
            " #   Column                  Non-Null Count  Dtype  \n",
            "---  ------                  --------------  -----  \n",
            " 0   location                3997 non-null   object \n",
            " 1   city                    3966 non-null   object \n",
            " 2   country                 4000 non-null   object \n",
            " 3   pollutant               4000 non-null   object \n",
            " 4   value                   4000 non-null   float64\n",
            " 5   timestamp               4000 non-null   object \n",
            " 6   unit                    4000 non-null   object \n",
            " 7   source_name             4000 non-null   object \n",
            " 8   latitude                4000 non-null   float64\n",
            " 9   longitude               4000 non-null   float64\n",
            " 10  averaged_over_in_hours  3634 non-null   float64\n",
            "dtypes: float64(4), object(7)\n",
            "memory usage: 343.9+ KB\n",
            "Info global_air_quality:\n",
            " None\n",
            "Count tanpa groupby:\n",
            " location                  3997\n",
            "city                      3966\n",
            "country                   4000\n",
            "pollutant                 4000\n",
            "value                     4000\n",
            "timestamp                 4000\n",
            "unit                      4000\n",
            "source_name               4000\n",
            "latitude                  4000\n",
            "longitude                 4000\n",
            "averaged_over_in_hours    3634\n",
            "dtype: int64\n",
            "Count dengan groupby (5 data teratas):\n",
            "              location  city  ...  longitude  averaged_over_in_hours\n",
            "source_name                  ...                                   \n",
            "ARPALAZIO          72    72  ...         72                      72\n",
            "Agaar.mn           27    27  ...         27                       0\n",
            "AirNow           1712  1681  ...       1715                    1715\n",
            "Andalucia          71    71  ...         71                      71\n",
            "Anqing              4     4  ...          4                       4\n",
            "\n",
            "[5 rows x 10 columns]\n",
            "location                   True\n",
            "city                       True\n",
            "country                   False\n",
            "pollutant                 False\n",
            "value                     False\n",
            "timestamp                 False\n",
            "unit                      False\n",
            "source_name               False\n",
            "latitude                  False\n",
            "longitude                 False\n",
            "averaged_over_in_hours     True\n",
            "dtype: bool\n"
          ],
          "name": "stdout"
        }
      ]
    },
    {
      "cell_type": "code",
      "metadata": {
        "colab": {
          "base_uri": "https://localhost:8080/"
        },
        "id": "8uqv3yMgxQOF",
        "outputId": "f9e67abc-5fe0-46d4-a6a4-c1dce2959d29"
      },
      "source": [
        "# Load data global_air_quality.csv\n",
        "gaq = pd.read_csv('https://storage.googleapis.com/dqlab-dataset/LO4/global_air_quality_4000rows.csv')\n",
        "# Create variabel pollutant \n",
        "pollutant = gaq[['country', 'city', 'pollutant', 'value']].pivot_table(index=['country', 'city'],columns='pollutant').fillna(0)\n",
        "print('Data pollutant (5 teratas):\\n', pollutant.head())\n",
        "# [1] Group berdasarkan country dan terapkan aggregasi mean\n",
        "pollutant_mean = pollutant.groupby('country').mean()\n",
        "print('Rata-rata pollutant (5 teratas):\\n', pollutant_mean.head())\n",
        "# [2] Group berdasarkan country dan terapkan aggregasi std\n",
        "pollutant_std = pollutant.groupby('country').std().fillna(0)\n",
        "print('Standar deviasi pollutant (5 teratas):\\n', pollutant_std.head())\n",
        "# [3] Group berdasarkan country dan terapkan aggregasi sum\n",
        "pollutant_sum = pollutant.groupby('country').sum()\n",
        "print('Total pollutant (5 teratas):\\n', pollutant_sum.head())\n",
        "# [4] Group berdasarkan country dan terapkan aggregasi nunique\n",
        "pollutant_nunique = pollutant.groupby('country').nunique()\n",
        "print('Jumlah unique value pollutant (5 teratas):\\n', pollutant_nunique.head())\n",
        "# [5] Group berdasarkan country dan terapkan aggregasi max\n",
        "pollutant_max = pollutant.groupby('country').max()\n",
        "print('Max value pollutant (5 teratas):\\n', pollutant_max.head())\n",
        "# [6] Group berdasarkan country dan terapkan aggregasi min\n",
        "pollutant_min = pollutant.groupby('country').min()\n",
        "print('Min value pollutant (5 teratas):\\n', pollutant_min.head())"
      ],
      "execution_count": null,
      "outputs": [
        {
          "output_type": "stream",
          "text": [
            "Data pollutant (5 teratas):\n",
            "                      value                                     \n",
            "pollutant               bc      co   no2   o3   pm10  pm25  so2\n",
            "country city                                                   \n",
            "AR      Buenos Aires   0.0     0.0   0.0  0.0    0.0  18.1  0.0\n",
            "AU      Townsville     0.0     0.0   0.0  0.0    0.0   3.9  0.0\n",
            "BA      Goražde        0.0   141.0  19.0  8.0    0.0   0.0  0.0\n",
            "        Ilijaš         0.0     0.0   0.0  0.0  100.0   0.0  0.0\n",
            "        Jajce          0.0  1508.0  25.0  6.0    9.0   0.0  0.0\n",
            "Rata-rata pollutant (5 teratas):\n",
            "           value                         ...                                 \n",
            "pollutant    bc          co        no2  ...       pm10       pm25        so2\n",
            "country                                 ...                                 \n",
            "AR          0.0    0.000000   0.000000  ...   0.000000  18.100000   0.000000\n",
            "AU          0.0    0.000000   0.000000  ...   0.000000   3.900000   0.000000\n",
            "BA          0.0  475.833333  19.500000  ...  40.333333   0.000000  18.000000\n",
            "CA          0.0    0.036818   0.000355  ...   0.836364   3.433601   0.000091\n",
            "CL          0.0    0.000000  21.000000  ...   0.000000   0.000000   0.000000\n",
            "\n",
            "[5 rows x 7 columns]\n",
            "Standar deviasi pollutant (5 teratas):\n",
            "         value                                                                 \n",
            "           bc          co        no2        o3       pm10      pm25        so2\n",
            "country                                                                       \n",
            "AR        0.0    0.000000   0.000000  0.000000   0.000000  0.000000   0.000000\n",
            "AU        0.0    0.000000   0.000000  0.000000   0.000000  0.000000   0.000000\n",
            "BA        0.0  536.925476  11.945711  8.207720  46.701891  0.000000  30.403947\n",
            "CA        0.0    0.089841   0.000750  0.019323   1.713052  2.286509   0.000302\n",
            "CL        0.0    0.000000   0.000000  0.000000   0.000000  0.000000   0.000000\n",
            "Total pollutant (5 teratas):\n",
            "           value                                                          \n",
            "pollutant    bc        co       no2         o3   pm10       pm25      so2\n",
            "country                                                                  \n",
            "AR          0.0     0.000    0.0000   0.000000    0.0  18.100000    0.000\n",
            "AU          0.0     0.000    0.0000   0.000000    0.0   3.900000    0.000\n",
            "BA          0.0  2855.000  117.0000  35.000000  242.0   0.000000  108.000\n",
            "CA          0.0     0.405    0.0039   0.285593    9.2  37.769608    0.001\n",
            "CL          0.0     0.000   21.0000   0.000000    0.0   0.000000    0.000\n",
            "Jumlah unique value pollutant (5 teratas):\n",
            "           value                        \n",
            "pollutant    bc co no2 o3 pm10 pm25 so2\n",
            "country                                \n",
            "AR            1  1   1  1    1    1   1\n",
            "AU            1  1   1  1    1    1   1\n",
            "BA            1  6   6  4    5    1   4\n",
            "CA            1  3   4  9    4   10   2\n",
            "CL            1  1   1  1    1    1   1\n",
            "Max value pollutant (5 teratas):\n",
            "           value                                                   \n",
            "pollutant    bc        co      no2         o3   pm10  pm25     so2\n",
            "country                                                           \n",
            "AR          0.0     0.000   0.0000   0.000000    0.0  18.1   0.000\n",
            "AU          0.0     0.000   0.0000   0.000000    0.0   3.9   0.000\n",
            "BA          0.0  1508.000  32.0000  21.000000  100.0   0.0  78.000\n",
            "CA          0.0     0.285   0.0024   0.048333    5.2   6.0   0.001\n",
            "CL          0.0     0.000  21.0000   0.000000    0.0   0.0   0.000\n",
            "Min value pollutant (5 teratas):\n",
            "           value                                \n",
            "pollutant    bc   co   no2   o3 pm10  pm25  so2\n",
            "country                                        \n",
            "AR          0.0  0.0   0.0  0.0  0.0  18.1  0.0\n",
            "AU          0.0  0.0   0.0  0.0  0.0   3.9  0.0\n",
            "BA          0.0  0.0   0.0  0.0  0.0   0.0  0.0\n",
            "CA          0.0  0.0   0.0  0.0  0.0   0.0  0.0\n",
            "CL          0.0  0.0  21.0  0.0  0.0   0.0  0.0\n"
          ],
          "name": "stdout"
        }
      ]
    },
    {
      "cell_type": "code",
      "metadata": {
        "colab": {
          "base_uri": "https://localhost:8080/"
        },
        "id": "cwI7wbvi3yHO",
        "outputId": "88aed26f-b373-4200-e000-c665a297c725"
      },
      "source": [
        "# Group berdasarkan country dan terapkan aggregasi first (Data pertama yang keluar)\n",
        "pollutant_first = pollutant.groupby('country').first()\n",
        "print('Item pertama pollutant (5 teratas):\\n', pollutant_first.head())\n",
        "# Group berdasarkan country dan terapkan aggregasi last (Data terakhir yang keluar)\n",
        "pollutant_last = pollutant.groupby('country').last()\n",
        "print('Item terakhir pollutant (5 teratas):\\n', pollutant_last.head())"
      ],
      "execution_count": null,
      "outputs": [
        {
          "output_type": "stream",
          "text": [
            "Item pertama pollutant (5 teratas):\n",
            "           value                                            \n",
            "pollutant    bc       co      no2        o3 pm10  pm25  so2\n",
            "country                                                    \n",
            "AR          0.0    0.000   0.0000  0.000000  0.0  18.1  0.0\n",
            "AU          0.0    0.000   0.0000  0.000000  0.0   3.9  0.0\n",
            "BA          0.0  141.000  19.0000  8.000000  0.0   0.0  0.0\n",
            "CA          0.0    0.285   0.0024  0.048333  0.0   3.9  0.0\n",
            "CL          0.0    0.000  21.0000  0.000000  0.0   0.0  0.0\n",
            "Item terakhir pollutant (5 teratas):\n",
            "           value                                      \n",
            "pollutant    bc     co   no2     o3  pm10  pm25   so2\n",
            "country                                              \n",
            "AR          0.0    0.0   0.0  0.000   0.0  18.1   0.0\n",
            "AU          0.0    0.0   0.0  0.000   0.0   3.9   0.0\n",
            "BA          0.0  292.0  29.0  0.000  96.0   0.0  78.0\n",
            "CA          0.0    0.0   0.0  0.036   3.0   0.0   0.0\n",
            "CL          0.0    0.0  21.0  0.000   0.0   0.0   0.0\n"
          ],
          "name": "stdout"
        }
      ]
    },
    {
      "cell_type": "code",
      "metadata": {
        "colab": {
          "base_uri": "https://localhost:8080/",
          "height": 530
        },
        "id": "aFq7NMCa37sf",
        "outputId": "5c996470-7012-49fc-c023-32f45a6be12d"
      },
      "source": [
        "#Multi Agregrasi\n",
        "# Group berdasarkan country dan terapkan aggregasi: min, median, mean, max\n",
        "multiagg = pollutant.groupby('country').agg(['min', 'median', 'mean', 'max'])\n",
        "print('Multiple aggregations (5 teratas):\\n', multiagg.head())\n",
        "multiagg.head()"
      ],
      "execution_count": null,
      "outputs": [
        {
          "output_type": "stream",
          "text": [
            "Multiple aggregations (5 teratas):\n",
            "         value                        ...                                     \n",
            "           bc                    co  ...  pm25  so2                          \n",
            "          min median mean  max  min  ...   max  min median       mean     max\n",
            "country                              ...                                     \n",
            "AR        0.0    0.0  0.0  0.0  0.0  ...  18.1  0.0    0.0   0.000000   0.000\n",
            "AU        0.0    0.0  0.0  0.0  0.0  ...   3.9  0.0    0.0   0.000000   0.000\n",
            "BA        0.0    0.0  0.0  0.0  0.0  ...   0.0  0.0    5.5  18.000000  78.000\n",
            "CA        0.0    0.0  0.0  0.0  0.0  ...   6.0  0.0    0.0   0.000091   0.001\n",
            "CL        0.0    0.0  0.0  0.0  0.0  ...   0.0  0.0    0.0   0.000000   0.000\n",
            "\n",
            "[5 rows x 28 columns]\n"
          ],
          "name": "stdout"
        },
        {
          "output_type": "execute_result",
          "data": {
            "text/html": [
              "<div>\n",
              "<style scoped>\n",
              "    .dataframe tbody tr th:only-of-type {\n",
              "        vertical-align: middle;\n",
              "    }\n",
              "\n",
              "    .dataframe tbody tr th {\n",
              "        vertical-align: top;\n",
              "    }\n",
              "\n",
              "    .dataframe thead tr th {\n",
              "        text-align: left;\n",
              "    }\n",
              "\n",
              "    .dataframe thead tr:last-of-type th {\n",
              "        text-align: right;\n",
              "    }\n",
              "</style>\n",
              "<table border=\"1\" class=\"dataframe\">\n",
              "  <thead>\n",
              "    <tr>\n",
              "      <th></th>\n",
              "      <th colspan=\"28\" halign=\"left\">value</th>\n",
              "    </tr>\n",
              "    <tr>\n",
              "      <th></th>\n",
              "      <th colspan=\"4\" halign=\"left\">bc</th>\n",
              "      <th colspan=\"4\" halign=\"left\">co</th>\n",
              "      <th colspan=\"4\" halign=\"left\">no2</th>\n",
              "      <th colspan=\"4\" halign=\"left\">o3</th>\n",
              "      <th colspan=\"4\" halign=\"left\">pm10</th>\n",
              "      <th colspan=\"4\" halign=\"left\">pm25</th>\n",
              "      <th colspan=\"4\" halign=\"left\">so2</th>\n",
              "    </tr>\n",
              "    <tr>\n",
              "      <th></th>\n",
              "      <th>min</th>\n",
              "      <th>median</th>\n",
              "      <th>mean</th>\n",
              "      <th>max</th>\n",
              "      <th>min</th>\n",
              "      <th>median</th>\n",
              "      <th>mean</th>\n",
              "      <th>max</th>\n",
              "      <th>min</th>\n",
              "      <th>median</th>\n",
              "      <th>mean</th>\n",
              "      <th>max</th>\n",
              "      <th>min</th>\n",
              "      <th>median</th>\n",
              "      <th>mean</th>\n",
              "      <th>max</th>\n",
              "      <th>min</th>\n",
              "      <th>median</th>\n",
              "      <th>mean</th>\n",
              "      <th>max</th>\n",
              "      <th>min</th>\n",
              "      <th>median</th>\n",
              "      <th>mean</th>\n",
              "      <th>max</th>\n",
              "      <th>min</th>\n",
              "      <th>median</th>\n",
              "      <th>mean</th>\n",
              "      <th>max</th>\n",
              "    </tr>\n",
              "    <tr>\n",
              "      <th>country</th>\n",
              "      <th></th>\n",
              "      <th></th>\n",
              "      <th></th>\n",
              "      <th></th>\n",
              "      <th></th>\n",
              "      <th></th>\n",
              "      <th></th>\n",
              "      <th></th>\n",
              "      <th></th>\n",
              "      <th></th>\n",
              "      <th></th>\n",
              "      <th></th>\n",
              "      <th></th>\n",
              "      <th></th>\n",
              "      <th></th>\n",
              "      <th></th>\n",
              "      <th></th>\n",
              "      <th></th>\n",
              "      <th></th>\n",
              "      <th></th>\n",
              "      <th></th>\n",
              "      <th></th>\n",
              "      <th></th>\n",
              "      <th></th>\n",
              "      <th></th>\n",
              "      <th></th>\n",
              "      <th></th>\n",
              "      <th></th>\n",
              "    </tr>\n",
              "  </thead>\n",
              "  <tbody>\n",
              "    <tr>\n",
              "      <th>AR</th>\n",
              "      <td>0.0</td>\n",
              "      <td>0.0</td>\n",
              "      <td>0.0</td>\n",
              "      <td>0.0</td>\n",
              "      <td>0.0</td>\n",
              "      <td>0.0</td>\n",
              "      <td>0.000000</td>\n",
              "      <td>0.000</td>\n",
              "      <td>0.0</td>\n",
              "      <td>0.0</td>\n",
              "      <td>0.000000</td>\n",
              "      <td>0.0000</td>\n",
              "      <td>0.0</td>\n",
              "      <td>0.000000</td>\n",
              "      <td>0.000000</td>\n",
              "      <td>0.000000</td>\n",
              "      <td>0.0</td>\n",
              "      <td>0.0</td>\n",
              "      <td>0.000000</td>\n",
              "      <td>0.0</td>\n",
              "      <td>18.1</td>\n",
              "      <td>18.1</td>\n",
              "      <td>18.100000</td>\n",
              "      <td>18.1</td>\n",
              "      <td>0.0</td>\n",
              "      <td>0.0</td>\n",
              "      <td>0.000000</td>\n",
              "      <td>0.000</td>\n",
              "    </tr>\n",
              "    <tr>\n",
              "      <th>AU</th>\n",
              "      <td>0.0</td>\n",
              "      <td>0.0</td>\n",
              "      <td>0.0</td>\n",
              "      <td>0.0</td>\n",
              "      <td>0.0</td>\n",
              "      <td>0.0</td>\n",
              "      <td>0.000000</td>\n",
              "      <td>0.000</td>\n",
              "      <td>0.0</td>\n",
              "      <td>0.0</td>\n",
              "      <td>0.000000</td>\n",
              "      <td>0.0000</td>\n",
              "      <td>0.0</td>\n",
              "      <td>0.000000</td>\n",
              "      <td>0.000000</td>\n",
              "      <td>0.000000</td>\n",
              "      <td>0.0</td>\n",
              "      <td>0.0</td>\n",
              "      <td>0.000000</td>\n",
              "      <td>0.0</td>\n",
              "      <td>3.9</td>\n",
              "      <td>3.9</td>\n",
              "      <td>3.900000</td>\n",
              "      <td>3.9</td>\n",
              "      <td>0.0</td>\n",
              "      <td>0.0</td>\n",
              "      <td>0.000000</td>\n",
              "      <td>0.000</td>\n",
              "    </tr>\n",
              "    <tr>\n",
              "      <th>BA</th>\n",
              "      <td>0.0</td>\n",
              "      <td>0.0</td>\n",
              "      <td>0.0</td>\n",
              "      <td>0.0</td>\n",
              "      <td>0.0</td>\n",
              "      <td>355.0</td>\n",
              "      <td>475.833333</td>\n",
              "      <td>1508.000</td>\n",
              "      <td>0.0</td>\n",
              "      <td>22.0</td>\n",
              "      <td>19.500000</td>\n",
              "      <td>32.0000</td>\n",
              "      <td>0.0</td>\n",
              "      <td>3.000000</td>\n",
              "      <td>5.833333</td>\n",
              "      <td>21.000000</td>\n",
              "      <td>0.0</td>\n",
              "      <td>23.0</td>\n",
              "      <td>40.333333</td>\n",
              "      <td>100.0</td>\n",
              "      <td>0.0</td>\n",
              "      <td>0.0</td>\n",
              "      <td>0.000000</td>\n",
              "      <td>0.0</td>\n",
              "      <td>0.0</td>\n",
              "      <td>5.5</td>\n",
              "      <td>18.000000</td>\n",
              "      <td>78.000</td>\n",
              "    </tr>\n",
              "    <tr>\n",
              "      <th>CA</th>\n",
              "      <td>0.0</td>\n",
              "      <td>0.0</td>\n",
              "      <td>0.0</td>\n",
              "      <td>0.0</td>\n",
              "      <td>0.0</td>\n",
              "      <td>0.0</td>\n",
              "      <td>0.036818</td>\n",
              "      <td>0.285</td>\n",
              "      <td>0.0</td>\n",
              "      <td>0.0</td>\n",
              "      <td>0.000355</td>\n",
              "      <td>0.0024</td>\n",
              "      <td>0.0</td>\n",
              "      <td>0.035455</td>\n",
              "      <td>0.025963</td>\n",
              "      <td>0.048333</td>\n",
              "      <td>0.0</td>\n",
              "      <td>0.0</td>\n",
              "      <td>0.836364</td>\n",
              "      <td>5.2</td>\n",
              "      <td>0.0</td>\n",
              "      <td>4.0</td>\n",
              "      <td>3.433601</td>\n",
              "      <td>6.0</td>\n",
              "      <td>0.0</td>\n",
              "      <td>0.0</td>\n",
              "      <td>0.000091</td>\n",
              "      <td>0.001</td>\n",
              "    </tr>\n",
              "    <tr>\n",
              "      <th>CL</th>\n",
              "      <td>0.0</td>\n",
              "      <td>0.0</td>\n",
              "      <td>0.0</td>\n",
              "      <td>0.0</td>\n",
              "      <td>0.0</td>\n",
              "      <td>0.0</td>\n",
              "      <td>0.000000</td>\n",
              "      <td>0.000</td>\n",
              "      <td>21.0</td>\n",
              "      <td>21.0</td>\n",
              "      <td>21.000000</td>\n",
              "      <td>21.0000</td>\n",
              "      <td>0.0</td>\n",
              "      <td>0.000000</td>\n",
              "      <td>0.000000</td>\n",
              "      <td>0.000000</td>\n",
              "      <td>0.0</td>\n",
              "      <td>0.0</td>\n",
              "      <td>0.000000</td>\n",
              "      <td>0.0</td>\n",
              "      <td>0.0</td>\n",
              "      <td>0.0</td>\n",
              "      <td>0.000000</td>\n",
              "      <td>0.0</td>\n",
              "      <td>0.0</td>\n",
              "      <td>0.0</td>\n",
              "      <td>0.000000</td>\n",
              "      <td>0.000</td>\n",
              "    </tr>\n",
              "  </tbody>\n",
              "</table>\n",
              "</div>"
            ],
            "text/plain": [
              "        value                        ...                                     \n",
              "           bc                    co  ...  pm25  so2                          \n",
              "          min median mean  max  min  ...   max  min median       mean     max\n",
              "country                              ...                                     \n",
              "AR        0.0    0.0  0.0  0.0  0.0  ...  18.1  0.0    0.0   0.000000   0.000\n",
              "AU        0.0    0.0  0.0  0.0  0.0  ...   3.9  0.0    0.0   0.000000   0.000\n",
              "BA        0.0    0.0  0.0  0.0  0.0  ...   0.0  0.0    5.5  18.000000  78.000\n",
              "CA        0.0    0.0  0.0  0.0  0.0  ...   6.0  0.0    0.0   0.000091   0.001\n",
              "CL        0.0    0.0  0.0  0.0  0.0  ...   0.0  0.0    0.0   0.000000   0.000\n",
              "\n",
              "[5 rows x 28 columns]"
            ]
          },
          "metadata": {
            "tags": []
          },
          "execution_count": 15
        }
      ]
    },
    {
      "cell_type": "code",
      "metadata": {
        "colab": {
          "base_uri": "https://localhost:8080/"
        },
        "id": "7OBBxKlP4jw8",
        "outputId": "a9394d40-0564-44c0-c710-8f190dc60dce"
      },
      "source": [
        "#Custom Agregasi\n",
        "\n",
        "# Create sebuah function: iqr\n",
        "def iqr(series):\n",
        "\tQ1 = series.quantile(0.25)\n",
        "\tQ3 = series.quantile(0.75)\n",
        "\treturn Q3-Q1\n",
        "# Group berdasarkan country dan terapkan aggregasi dari function: iqr\n",
        "custom_agg = pollutant.groupby('country').agg(iqr)\n",
        "print('Custom aggregation (5 teratas):\\n', custom_agg.head())"
      ],
      "execution_count": null,
      "outputs": [
        {
          "output_type": "stream",
          "text": [
            "Custom aggregation (5 teratas):\n",
            "         value                                                  \n",
            "           bc      co       no2        o3  pm10      pm25   so2\n",
            "country                                                        \n",
            "AR        0.0    0.00   0.00000  0.000000   0.0  0.000000   0.0\n",
            "AU        0.0    0.00   0.00000  0.000000   0.0  0.000000   0.0\n",
            "BA        0.0  297.75  14.25000  7.500000  79.0  0.000000  17.0\n",
            "CA        0.0    0.00   0.00025  0.035708   0.5  3.876471   0.0\n",
            "CL        0.0    0.00   0.00000  0.000000   0.0  0.000000   0.0\n"
          ],
          "name": "stdout"
        }
      ]
    },
    {
      "cell_type": "code",
      "metadata": {
        "colab": {
          "base_uri": "https://localhost:8080/"
        },
        "id": "ggByQivh6iWn",
        "outputId": "8c2ebc69-b144-46c4-cd2e-6da7dea9b3cf"
      },
      "source": [
        "#Custom agregasi dengan dict\n",
        "\n",
        "# Function IQR\n",
        "def iqr(series):\n",
        "\treturn series.quantile(0.75) - series.quantile(0.25)\n",
        "# Create custom aggregation using dict\n",
        "custom_agg_dict = pollutant['value'][['pm10','pm25','so2']].groupby('country').agg({\n",
        "   'pm10':'median',\n",
        "   'pm25':iqr,\n",
        "   'so2':iqr\n",
        "})\n",
        "print('\\nCetak 5 data teratas custom_agg_dict:\\n', custom_agg_dict.head())"
      ],
      "execution_count": null,
      "outputs": [
        {
          "output_type": "stream",
          "text": [
            "\n",
            "Cetak 5 data teratas custom_agg_dict:\n",
            "          pm10      pm25   so2\n",
            "country                      \n",
            "AR        0.0  0.000000   0.0\n",
            "AU        0.0  0.000000   0.0\n",
            "BA       23.0  0.000000  17.0\n",
            "CA        0.0  3.876471   0.0\n",
            "CL        0.0  0.000000   0.0\n"
          ],
          "name": "stdout"
        }
      ]
    },
    {
      "cell_type": "markdown",
      "metadata": {
        "id": "N4xrXb4r7Bzf"
      },
      "source": [
        "**TIME SERIES**\n",
        "\n",
        "* Ketika berurusan dengan big data, biasanya akan selalu terdapat entitas waktu kapan suatu event itu terjadi, waktu ini digunakan untuk mengenali event itu terjadi pada suatu frame tertentu dan dapat dijadikan index yang membuat setiap event menjadi unique.\n",
        "\n",
        "* Terkadang Pandas salah mengenali object datetime menjadi object string dan pandas menjadi tidak bisa memanfaatkan full benefit dari time index.\n",
        "\n",
        "* Basic format datetime menurut ISO 8601: YYYY-mm-dd HH:MM:SS.\n",
        "\n",
        "* Terdapat beberapa cara untuk mengubah kolom waktu menjadi format yang benar as datetime object di Pandas. \n",
        "\n"
      ]
    },
    {
      "cell_type": "code",
      "metadata": {
        "colab": {
          "base_uri": "https://localhost:8080/"
        },
        "id": "Tf2NjvGF7GDp",
        "outputId": "6edf657d-29d3-4876-dcf4-4e95dfc6c605"
      },
      "source": [
        "# Load dataset https://storage.googleapis.com/dqlab-dataset/LO4/global_air_quality_4000rows.csv\n",
        "# [1] Gunakan parse_date saat read_csv\n",
        "gaq = pd.read_csv('https://storage.googleapis.com/dqlab-dataset/LO4/global_air_quality_4000rows.csv', parse_dates=True, index_col='timestamp')\n",
        "# Cetak 5 data teratas\n",
        "print(gaq.head())\n",
        "# Cetak info dari dataframe gaq\n",
        "print('info')\n",
        "print(gaq.info())"
      ],
      "execution_count": null,
      "outputs": [
        {
          "output_type": "stream",
          "text": [
            "                                                  location  ... averaged_over_in_hours\n",
            "timestamp                                                   ...                       \n",
            "2017-01-18 16:00:00+00:00                  MOBILE-KICKAPOO  ...                   1.00\n",
            "2020-04-07 20:00:00+00:00                  Oxford St Ebbes  ...                   1.00\n",
            "2020-04-07 19:00:00+00:00                 BROADWAY (South)  ...                   1.00\n",
            "2020-04-07 18:30:00+00:00  Deen Dayal Nagar, Sagar - MPPCB  ...                   0.25\n",
            "2020-04-07 20:00:00+00:00                        Manglerud  ...                   1.00\n",
            "\n",
            "[5 rows x 10 columns]\n",
            "info\n",
            "<class 'pandas.core.frame.DataFrame'>\n",
            "DatetimeIndex: 4000 entries, 2017-01-18 16:00:00+00:00 to 2017-01-08 08:00:00+00:00\n",
            "Data columns (total 10 columns):\n",
            " #   Column                  Non-Null Count  Dtype  \n",
            "---  ------                  --------------  -----  \n",
            " 0   location                3997 non-null   object \n",
            " 1   city                    3966 non-null   object \n",
            " 2   country                 4000 non-null   object \n",
            " 3   pollutant               4000 non-null   object \n",
            " 4   value                   4000 non-null   float64\n",
            " 5   unit                    4000 non-null   object \n",
            " 6   source_name             4000 non-null   object \n",
            " 7   latitude                4000 non-null   float64\n",
            " 8   longitude               4000 non-null   float64\n",
            " 9   averaged_over_in_hours  3634 non-null   float64\n",
            "dtypes: float64(4), object(6)\n",
            "memory usage: 343.8+ KB\n",
            "None\n"
          ],
          "name": "stdout"
        }
      ]
    },
    {
      "cell_type": "code",
      "metadata": {
        "colab": {
          "base_uri": "https://localhost:8080/"
        },
        "id": "WBjrbDNYEFQu",
        "outputId": "1b84b3ab-ba10-4244-9fe2-901ffcafdbc8"
      },
      "source": [
        "# [2] Gunakan pd.to_datetime\n",
        "gaq = pd.read_csv('https://storage.googleapis.com/dqlab-dataset/LO4/global_air_quality_4000rows.csv')\n",
        "# Cetak 5 data teratas\n",
        "print('Sebelum diubah dalam format datetime:\\n', gaq.head())\n",
        "# Ubah menjadi datetime\n",
        "gaq['timestamp'] = pd.to_datetime(gaq['timestamp'])\n",
        "gaq = gaq.set_index('timestamp')\n",
        "# Cetak 5 data teratas\n",
        "print('Sesudah diubah dalam format datetime:\\n', gaq.head())"
      ],
      "execution_count": null,
      "outputs": [
        {
          "output_type": "stream",
          "text": [
            "Sebelum diubah dalam format datetime:\n",
            "                           location  ... averaged_over_in_hours\n",
            "0                  MOBILE-KICKAPOO  ...                   1.00\n",
            "1                  Oxford St Ebbes  ...                   1.00\n",
            "2                 BROADWAY (South)  ...                   1.00\n",
            "3  Deen Dayal Nagar, Sagar - MPPCB  ...                   0.25\n",
            "4                        Manglerud  ...                   1.00\n",
            "\n",
            "[5 rows x 11 columns]\n",
            "Sesudah diubah dalam format datetime:\n",
            "                                                   location  ... averaged_over_in_hours\n",
            "timestamp                                                   ...                       \n",
            "2017-01-18 16:00:00+00:00                  MOBILE-KICKAPOO  ...                   1.00\n",
            "2020-04-07 20:00:00+00:00                  Oxford St Ebbes  ...                   1.00\n",
            "2020-04-07 19:00:00+00:00                 BROADWAY (South)  ...                   1.00\n",
            "2020-04-07 18:30:00+00:00  Deen Dayal Nagar, Sagar - MPPCB  ...                   0.25\n",
            "2020-04-07 20:00:00+00:00                        Manglerud  ...                   1.00\n",
            "\n",
            "[5 rows x 10 columns]\n"
          ],
          "name": "stdout"
        }
      ]
    },
    {
      "cell_type": "markdown",
      "metadata": {
        "id": "iJmVxGc5EhkL"
      },
      "source": [
        "RESAMPLING TIME SERIES\n",
        "\n",
        "[1] Downsampling\n",
        "\n",
        "Mengurangi baris datetime menjadi frekuensi yang lebih lambat, bisa dibilang juga mengurangi rows dataset menjadi lebih sedikit\n",
        "\n",
        "* Contoh: mengubah kolom datetime yang awalnya daily menjadi monthly\n",
        "\n",
        "[2] Upsampling\n",
        "\n",
        "Kebalikan dari downsampling, menambah baris datetime menjadi frekuensi yang lebih cepat, menambah rows dataset dengan membuat kolom datetime menjadi lebih detail\n",
        "\n",
        "* Contoh: mengubah kolom datetime yang awalnya daily menjadi hourly\n",
        "\n",
        "Dari Resampling ini, kemudian dapat menerapkan metode statistik untuk transform value data yang ada (ex: mean, sum, count, etc)\n",
        "\n",
        "![Resampling Time Series.png](data:image/png;base64,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)"
      ]
    },
    {
      "cell_type": "code",
      "metadata": {
        "colab": {
          "base_uri": "https://localhost:8080/"
        },
        "id": "N_ucHiQKE7Iy",
        "outputId": "343f1fa5-cc3a-461a-95ba-07dcdd232899"
      },
      "source": [
        "gaq = pd.read_csv('https://storage.googleapis.com/dqlab-dataset/LO4/global_air_quality_4000rows.csv')\n",
        "gaq['timestamp'] = pd.to_datetime(gaq['timestamp'])\n",
        "gaq = gaq.set_index('timestamp')\n",
        "print('Dataset sebelum di-downsampling (5 teratas):\\n', gaq.head())\n",
        "# [1] Downsampling dari daily to weekly dan kita hitung mean untuk seminggu\n",
        "gaq_weekly = gaq.resample('W').mean()\n",
        "print('Downsampling daily to weekly - mean (5 teratas):\\n', gaq_weekly.head())\n",
        "# [2] Downsampling dari daily to quaterly dan kita hitung jumlah untuk tiap quarter\n",
        "gaq_quaterly = gaq.resample('Q').sum()\n",
        "print('Downsampling daily to quaterly - sum (5 teratas):\\n', gaq_quaterly.head())\n",
        "# [3] Downsampling dari daily to monthly dan kita hitung mean untuk tiap bulan\n",
        "gaq_monthly = gaq.resample('M').mean()\n",
        "print('Downsampling daily to monthly - mean (5 teratas):\\n', gaq_monthly.head())\n",
        "# [4] Downsampling dari daily to yearly dan kita hitung jumlah untuk tiap tahun\n",
        "gaq_quaterly = gaq.resample('A').sum()\n",
        "print('Downsampling daily to yearly - sum (5 teratas):\\n', gaq_quaterly.head())"
      ],
      "execution_count": null,
      "outputs": [
        {
          "output_type": "stream",
          "text": [
            "Dataset sebelum di-downsampling (5 teratas):\n",
            "                                                   location  ... averaged_over_in_hours\n",
            "timestamp                                                   ...                       \n",
            "2017-01-18 16:00:00+00:00                  MOBILE-KICKAPOO  ...                   1.00\n",
            "2020-04-07 20:00:00+00:00                  Oxford St Ebbes  ...                   1.00\n",
            "2020-04-07 19:00:00+00:00                 BROADWAY (South)  ...                   1.00\n",
            "2020-04-07 18:30:00+00:00  Deen Dayal Nagar, Sagar - MPPCB  ...                   0.25\n",
            "2020-04-07 20:00:00+00:00                        Manglerud  ...                   1.00\n",
            "\n",
            "[5 rows x 10 columns]\n",
            "Downsampling daily to weekly - mean (5 teratas):\n",
            "                            value  latitude  longitude  averaged_over_in_hours\n",
            "timestamp                                                                    \n",
            "2014-05-18 00:00:00+00:00    9.7    14.635     121.08                     1.0\n",
            "2014-05-25 00:00:00+00:00    NaN       NaN        NaN                     NaN\n",
            "2014-06-01 00:00:00+00:00    NaN       NaN        NaN                     NaN\n",
            "2014-06-08 00:00:00+00:00    NaN       NaN        NaN                     NaN\n",
            "2014-06-15 00:00:00+00:00    NaN       NaN        NaN                     NaN\n",
            "Downsampling daily to quaterly - sum (5 teratas):\n",
            "                            value  latitude  longitude  averaged_over_in_hours\n",
            "timestamp                                                                    \n",
            "2014-06-30 00:00:00+00:00    9.7    14.635    121.080                     1.0\n",
            "2014-09-30 00:00:00+00:00    7.1    37.132    -86.148                     1.0\n",
            "2014-12-31 00:00:00+00:00    0.0     0.000      0.000                     0.0\n",
            "2015-03-31 00:00:00+00:00    0.0     0.000      0.000                     0.0\n",
            "2015-06-30 00:00:00+00:00   18.1   -34.560    -58.506                     1.0\n",
            "Downsampling daily to monthly - mean (5 teratas):\n",
            "                            value  latitude  longitude  averaged_over_in_hours\n",
            "timestamp                                                                    \n",
            "2014-05-31 00:00:00+00:00    9.7    14.635    121.080                     1.0\n",
            "2014-06-30 00:00:00+00:00    NaN       NaN        NaN                     NaN\n",
            "2014-07-31 00:00:00+00:00    NaN       NaN        NaN                     NaN\n",
            "2014-08-31 00:00:00+00:00    7.1    37.132    -86.148                     1.0\n",
            "2014-09-30 00:00:00+00:00    NaN       NaN        NaN                     NaN\n",
            "Downsampling daily to yearly - sum (5 teratas):\n",
            "                                    value  ...  averaged_over_in_hours\n",
            "timestamp                                 ...                        \n",
            "2014-12-31 00:00:00+00:00      16.800000  ...                    2.00\n",
            "2015-12-31 00:00:00+00:00     319.209800  ...                   30.00\n",
            "2016-12-31 00:00:00+00:00   11356.389400  ...                  172.25\n",
            "2017-12-31 00:00:00+00:00   20181.246425  ...                  147.75\n",
            "2018-12-31 00:00:00+00:00 -282811.729944  ...                 1284.50\n",
            "\n",
            "[5 rows x 4 columns]\n"
          ],
          "name": "stdout"
        }
      ]
    },
    {
      "cell_type": "code",
      "metadata": {
        "colab": {
          "base_uri": "https://localhost:8080/"
        },
        "id": "L1GaZ4LRJpXB",
        "outputId": "4c7187c1-b704-4696-9c19-dc2614053c6c"
      },
      "source": [
        "# Upsampling dari daily to hourly dan kita hitung reratanya\n",
        "gaq_hourly = gaq.resample('H').mean()\n",
        "print('Upsampling daily to hourly - mean (5 teratas):\\n', gaq_hourly.head())"
      ],
      "execution_count": null,
      "outputs": [
        {
          "output_type": "stream",
          "text": [
            "Upsampling daily to hourly - mean (5 teratas):\n",
            "                            value  latitude  longitude  averaged_over_in_hours\n",
            "timestamp                                                                    \n",
            "2014-05-13 03:00:00+00:00    9.7    14.635     121.08                     1.0\n",
            "2014-05-13 04:00:00+00:00    NaN       NaN        NaN                     NaN\n",
            "2014-05-13 05:00:00+00:00    NaN       NaN        NaN                     NaN\n",
            "2014-05-13 06:00:00+00:00    NaN       NaN        NaN                     NaN\n",
            "2014-05-13 07:00:00+00:00    NaN       NaN        NaN                     NaN\n"
          ],
          "name": "stdout"
        }
      ]
    },
    {
      "cell_type": "code",
      "metadata": {
        "colab": {
          "base_uri": "https://localhost:8080/"
        },
        "id": "CSnS-laJL5i0",
        "outputId": "cef85277-ae33-4a11-dcc3-b4b282ecba93"
      },
      "source": [
        "# Resample dari daily to 2 monthly, hitung reratanya, dan fillna = 'bfill'\n",
        "gaq_2monthly = gaq.resample('2M').mean().fillna(method='bfill')\n",
        "print('Resampling daily to 2 monthly - mean - ffill (5 teratas):\\n', gaq_2monthly.head())"
      ],
      "execution_count": null,
      "outputs": [
        {
          "output_type": "stream",
          "text": [
            "Resampling daily to 2 monthly - mean - ffill (5 teratas):\n",
            "                            value  latitude  longitude  averaged_over_in_hours\n",
            "timestamp                                                                    \n",
            "2014-05-31 00:00:00+00:00    9.7    14.635    121.080                     1.0\n",
            "2014-07-31 00:00:00+00:00    7.1    37.132    -86.148                     1.0\n",
            "2014-09-30 00:00:00+00:00    7.1    37.132    -86.148                     1.0\n",
            "2014-11-30 00:00:00+00:00   18.1   -34.560    -58.506                     1.0\n",
            "2015-01-31 00:00:00+00:00   18.1   -34.560    -58.506                     1.0\n"
          ],
          "name": "stdout"
        }
      ]
    },
    {
      "cell_type": "markdown",
      "metadata": {
        "id": "8WOvX5wRL6tm"
      },
      "source": [
        "VISUALISASI TIME SERIES\n",
        "\n",
        "![Plot Style Time Series.png](data:image/png;base64,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)"
      ]
    },
    {
      "cell_type": "code",
      "metadata": {
        "colab": {
          "base_uri": "https://localhost:8080/",
          "height": 777
        },
        "id": "WDceKIx9MaFD",
        "outputId": "4cca64e2-3c05-4c97-9cd7-42bf64453d24"
      },
      "source": [
        "import matplotlib.pyplot as plt\n",
        "# Load dataset https://storage.googleapis.com/dqlab-dataset/LO4/global_air_quality_4000rows.csv\n",
        "gaq = pd.read_csv('https://storage.googleapis.com/dqlab-dataset/LO4/global_air_quality_4000rows.csv')\n",
        "gaq['timestamp'] = pd.to_datetime(gaq['timestamp'])\n",
        "gaq = gaq.set_index('timestamp')\n",
        "# [1] Membuat pivot table yang menunjukkan waktu di baris nya dan masing-masing value dari pollutant nya dalam kolom\n",
        "gaq_viz = gaq[['pollutant', 'value']].reset_index().set_index(['timestamp', 'pollutant'])\n",
        "gaq_viz = gaq_viz.pivot_table(index='timestamp', columns='pollutant',aggfunc='mean').fillna(0)\n",
        "gaq_viz.columns = gaq_viz.columns.droplevel(0)\n",
        "print('Data (5 teratas):\\n', gaq_viz.head())\n",
        "# [2] Membuat fungsi yang memberikan default value 0 ketika value nya di bawah 0 dan apply ke setiap elemen dari dataset tersebut, kemudian menampilkannya sebagai chart\n",
        "def default_val(val):\n",
        " if val < 0:\n",
        "   return 0\n",
        " else:\n",
        "   return val\n",
        "line1 = gaq_viz.resample('M').mean().ffill().applymap(lambda x: default_val(x)).apply(lambda x: x/x.max()) # default value if value < 0 then 0, kemudian menghasilkan % value = value/max(value)\n",
        "line1.plot(\n",
        "   title = 'average value of each pollutant over months',\n",
        "   figsize = (10,10), #ukuran canvas 10px x 10px\n",
        "   ylim = (0,1.25), #memberikan batas tampilan y-axis hanya 0 sampai 125%\n",
        "   subplots =True #memecah plot menjadi beberapa bagian sesuai dengan jumlah kolom\n",
        ")\n",
        "plt.ylabel('avg pollutant (%)')\n",
        "plt.xlabel('month')\n",
        "plt.show()"
      ],
      "execution_count": null,
      "outputs": [
        {
          "output_type": "stream",
          "text": [
            "Data (5 teratas):\n",
            " pollutant                   bc   co  no2   o3  pm10  pm25  so2\n",
            "timestamp                                                     \n",
            "2014-05-13 03:00:00+00:00  0.0  0.0  0.0  0.0   0.0   9.7  0.0\n",
            "2014-08-12 20:00:00+00:00  0.0  0.0  0.0  0.0   0.0   7.1  0.0\n",
            "2015-04-15 00:00:00+00:00  0.0  0.0  0.0  0.0   0.0  18.1  0.0\n",
            "2015-08-21 01:00:00+00:00  0.0  0.0  0.0  0.0   0.0  36.9  0.0\n",
            "2015-09-13 01:00:00+00:00  0.0  0.0  0.0  0.0   0.0   8.8  0.0\n"
          ],
          "name": "stdout"
        },
        {
          "output_type": "display_data",
          "data": {
            "image/png": "[encoded data removed]",
            "text/plain": [
              "<Figure size 720x720 with 7 Axes>"
            ]
          },
          "metadata": {
            "tags": [],
            "needs_background": "light"
          }
        }
      ]
    },
    {
      "cell_type": "markdown",
      "metadata": {
        "id": "E6Sof0AYQjeV"
      },
      "source": [
        "**PROJECT**\n",
        "\n",
        "**PERFORMA PENJUALAN SETIAP CABANG**\n",
        "\n"
      ]
    },
    {
      "cell_type": "code",
      "metadata": {
        "id": "a1wgGkDaQzRg",
        "colab": {
          "base_uri": "https://localhost:8080/"
        },
        "outputId": "ae00f800-3d3f-418f-e6cd-156efb5b3376"
      },
      "source": [
        "import pandas as pd\n",
        "import matplotlib.pyplot as plt\n",
        "\n",
        "# [1]. Load masing-masing data dengan pandas\n",
        "retail_data1 = pd.read_csv('https://storage.googleapis.com/dqlab-dataset/LO4/retail_data_from_1_until_3.csv') #Kuartal 1\n",
        "retail_data2 = pd.read_csv('https://storage.googleapis.com/dqlab-dataset/LO4/retail_data_from_4_until_6.csv') #Kuartal 2\n",
        "retail_data3 = pd.read_csv('https://storage.googleapis.com/dqlab-dataset/LO4/retail_data_from_7_until_9.csv') #Kuartal 3\n",
        "retail_data4 = pd.read_csv('https://storage.googleapis.com/dqlab-dataset/LO4/retail_data_from_10_until_12.csv') #Kuartal 4\n",
        "\n",
        "# [2]. Pengecekan Data\n",
        "print('PENGECEKAN DATA\\n\\n')\n",
        "#      Cek data sekilas (tampilkan 5 baris teratas)\n",
        "print(retail_data1.head())\n",
        "print(retail_data2.head())\n",
        "print(retail_data3.head())\n",
        "print(retail_data4.head())\n",
        "#      Cek list kolom untuk semua dataframe\n",
        "print('Kolom retail_data1: %s' %retail_data1.columns)\n",
        "print('Kolom retail_data2: %s' %retail_data2.columns)\n",
        "print('Kolom retail_data3: %s' %retail_data3.columns)\n",
        "print('Kolom retail_data4: %s' %retail_data4.columns)\n",
        "#      Concat multiple dataframe menjadi 1 dataframe\n",
        "retail_table = pd.concat([retail_data1, retail_data2, retail_data3, retail_data4])\n",
        "print('\\nJumlah baris:', retail_table.shape[0]) #Karena return dari .shape adalah tuple (baris, kolom). Untuk mengakses baris gunakan .shape[0]\n",
        "#      Pengecekan dataframe info\n",
        "print('\\nInfo:')\n",
        "print(retail_table.info())\n",
        "#      Pengecekan statistik deskriptif\n",
        "print('\\nStatistik deskriptif:\\n', retail_table.describe())"
      ],
      "execution_count": null,
      "outputs": [
        {
          "output_type": "stream",
          "text": [
            "/usr/local/lib/python3.7/dist-packages/IPython/core/interactiveshell.py:2718: DtypeWarning: Columns (0) have mixed types.Specify dtype option on import or set low_memory=False.\n",
            "  interactivity=interactivity, compiler=compiler, result=result)\n"
          ],
          "name": "stderr"
        },
        {
          "output_type": "stream",
          "text": [
            "PENGECEKAN DATA\n",
            "\n",
            "\n",
            "   order_id order_date  customer_id  ... quantity item_price total_price\n",
            "0   1612339   01-01-19        18055  ...        4    1934000     7736000\n",
            "1   1612339   01-01-19        18055  ...        8     604000     4832000\n",
            "2   1612339   01-01-19        18055  ...       12     747000     8964000\n",
            "3   1612339   01-01-19        18055  ...       12     450000     5400000\n",
            "4   1612339   01-01-19        18055  ...        3    1500000     4500000\n",
            "\n",
            "[5 rows x 10 columns]\n",
            "   order_id order_date  customer_id  ... quantity item_price total_price\n",
            "0   1637113   01-04-19        16638  ...        4    2987000    11948000\n",
            "1   1637113   01-04-19        16638  ...        2   20995000    41990000\n",
            "2   1637113   01-04-19        16638  ...        6    1045000     6270000\n",
            "3   1637113   01-04-19        16638  ...        6    1045000     6270000\n",
            "4   1637113   01-04-19        16638  ...        2    2375000     4750000\n",
            "\n",
            "[5 rows x 10 columns]\n",
            "  order_id order_date  customer_id  ... quantity item_price total_price\n",
            "0  1666744   01-07-19        13865  ...        2    2095000     4190000\n",
            "1  1666744   01-07-19        13865  ...        3    2200000     6600000\n",
            "2  1666744   01-07-19        13865  ...        8     604000     4832000\n",
            "3  1666744   01-07-19        13865  ...        2    1745000     3490000\n",
            "4  1666744   01-07-19        13865  ...       10     590000     5900000\n",
            "\n",
            "[5 rows x 10 columns]\n",
            "   order_id order_date  customer_id  ... quantity item_price total_price\n",
            "0   1697002   01-10-19        17449  ...       12     590000     7080000\n",
            "1   1697002   01-10-19        17449  ...        8    1164000     9312000\n",
            "2   1697002   01-10-19        17449  ...        2    2375000     4750000\n",
            "3   1697002   01-10-19        17449  ...       12     450000     5400000\n",
            "4   1697002   01-10-19        17449  ...       16     149000     2384000\n",
            "\n",
            "[5 rows x 10 columns]\n",
            "Kolom retail_data1: Index(['order_id', 'order_date', 'customer_id', 'city', 'province',\n",
            "       'product_id', 'brand', 'quantity', 'item_price', 'total_price'],\n",
            "      dtype='object')\n",
            "Kolom retail_data2: Index(['order_id', 'order_date', 'customer_id', 'city', 'province',\n",
            "       'product_id', 'brand', 'quantity', 'item_price', 'total_price'],\n",
            "      dtype='object')\n",
            "Kolom retail_data3: Index(['order_id', 'order_date', 'customer_id', 'city', 'province',\n",
            "       'product_id', 'brand', 'quantity', 'item_price', 'total_price'],\n",
            "      dtype='object')\n",
            "Kolom retail_data4: Index(['order_id', 'order_date', 'customer_id', 'city', 'province',\n",
            "       'product_id', 'brand', 'quantity', 'item_price', 'total_price'],\n",
            "      dtype='object')\n",
            "\n",
            "Jumlah baris: 508557\n",
            "\n",
            "Info:\n",
            "<class 'pandas.core.frame.DataFrame'>\n",
            "Int64Index: 508557 entries, 0 to 201825\n",
            "Data columns (total 10 columns):\n",
            " #   Column       Non-Null Count   Dtype \n",
            "---  ------       --------------   ----- \n",
            " 0   order_id     508557 non-null  object\n",
            " 1   order_date   508557 non-null  object\n",
            " 2   customer_id  508557 non-null  int64 \n",
            " 3   city         508557 non-null  object\n",
            " 4   province     508557 non-null  object\n",
            " 5   product_id   508557 non-null  object\n",
            " 6   brand        508557 non-null  object\n",
            " 7   quantity     508557 non-null  int64 \n",
            " 8   item_price   508557 non-null  int64 \n",
            " 9   total_price  508557 non-null  int64 \n",
            "dtypes: int64(4), object(6)\n",
            "memory usage: 42.7+ MB\n",
            "None\n",
            "\n",
            "Statistik deskriptif:\n",
            "          customer_id       quantity    item_price   total_price\n",
            "count  508557.000000  508557.000000  5.085570e+05  5.085570e+05\n",
            "mean    11509.957582      10.571326  1.357347e+06  7.043305e+06\n",
            "std      6758.489806     112.805119  1.481544e+07  5.135112e+07\n",
            "min         0.000000       1.000000 -3.871709e+09 -3.871709e+09\n",
            "25%     12370.000000       1.000000  4.500000e+05  1.356000e+06\n",
            "50%     14388.000000       4.000000  7.400000e+05  3.498000e+06\n",
            "75%     16261.000000      11.000000  1.458000e+06  6.270000e+06\n",
            "max     18287.000000   74215.000000  4.739478e+09  2.790484e+10\n"
          ],
          "name": "stdout"
        }
      ]
    },
    {
      "cell_type": "markdown",
      "metadata": {
        "id": "uEamngom8w6u"
      },
      "source": [
        "Catatan :\n",
        "\n",
        "> (Perbedaan penggunaan operator pada pandas. | dan &)\n",
        "\n",
        "\n",
        "\n",
        "This is because numpy arrays and pandas series use the bitwise operators rather than logical as you are comparing every element in the array/series with another. It therefore does not make sense to use the logical operator in this situation."
      ]
    },
    {
      "cell_type": "code",
      "metadata": {
        "colab": {
          "base_uri": "https://localhost:8080/"
        },
        "id": "rc-kjq4B2r-h",
        "outputId": "56eb8b90-0c7b-4f0d-b4fc-9e16082c95e2"
      },
      "source": [
        "# [3]. Transformasi Data\n",
        "print('TRANSFORMASI DATA\\n\\n')\n",
        "#      Memastikan data yang memiliki item_price < 0 atau total_price < 0\n",
        "cek = retail_table.loc[(retail_table['item_price'] < 0) | (retail_table['total_price'] < 0) ] #Penggunaan syntax or berebeda, penjelasan ada di catatan.\n",
        "print('\\nitem_price < 0 atau total_price < 0:\\n', cek)\n",
        "#      Jika tidak masuk akal datanya dapat dibuang\n",
        "if cek.shape[0] != 0:\n",
        "\tretail_table = retail_table.loc[(retail_table['item_price'] > 0) & (retail_table['total_price'] > 0)] #Penggunaan syntax and berbeda, penjelasan ada di catatan.\n",
        "#      Cek apakah masih ada order_id yang bernilai undefined dan delete row tersebut\n",
        "cek = retail_table.loc[retail_table['order_id'] == 'undefined']\n",
        "print('\\norder_id yang bernilai undefined:\\n', cek)\n",
        "#      Jika ada maka buang baris tersebut\n",
        "if cek.shape[0] != 0:\n",
        "  retail_table.loc[retail_table['order_id'] != 'undefined']\n",
        "\n",
        "#      Transform order_id menjadi int64\n",
        "retail_table['order_id'] = retail_table['order_id'].astype('int64')\n",
        "#      Transform order_date menjadi datetime Pandas\n",
        "retail_table['order_date'] = pd.to_datetime(retail_table['order_date'])\n",
        "#      Cek dataframe info kembali untuk memastikan\n",
        "print('\\nInfo:')\n",
        "print(retail_table.info())\n",
        "#      Cek statistik deskriptif kembali, untuk memastikan\n",
        "print('\\nStatistik deskriptif:\\n', retail_table.describe())"
      ],
      "execution_count": null,
      "outputs": [
        {
          "output_type": "stream",
          "text": [
            "TRANSFORMASI DATA\n",
            "\n",
            "\n",
            "\n",
            "item_price < 0 atau total_price < 0:\n",
            " Empty DataFrame\n",
            "Columns: [order_id, order_date, customer_id, city, province, product_id, brand, quantity, item_price, total_price]\n",
            "Index: []\n",
            "\n",
            "order_id yang bernilai undefined:\n",
            " Empty DataFrame\n",
            "Columns: [order_id, order_date, customer_id, city, province, product_id, brand, quantity, item_price, total_price]\n",
            "Index: []\n",
            "\n",
            "Info:\n",
            "<class 'pandas.core.frame.DataFrame'>\n",
            "Int64Index: 326318 entries, 0 to 201825\n",
            "Data columns (total 10 columns):\n",
            " #   Column       Non-Null Count   Dtype         \n",
            "---  ------       --------------   -----         \n",
            " 0   order_id     326318 non-null  int64         \n",
            " 1   order_date   326318 non-null  datetime64[ns]\n",
            " 2   customer_id  326318 non-null  int64         \n",
            " 3   city         326318 non-null  object        \n",
            " 4   province     326318 non-null  object        \n",
            " 5   product_id   326318 non-null  object        \n",
            " 6   brand        326318 non-null  object        \n",
            " 7   quantity     326318 non-null  int64         \n",
            " 8   item_price   326318 non-null  int64         \n",
            " 9   total_price  326318 non-null  int64         \n",
            "dtypes: datetime64[ns](1), int64(5), object(4)\n",
            "memory usage: 27.4+ MB\n",
            "None\n",
            "\n",
            "Statistik deskriptif:\n",
            "            order_id    customer_id       quantity    item_price   total_price\n",
            "count  3.263180e+05  326318.000000  326318.000000  3.263180e+05  3.263180e+05\n",
            "mean   1.683163e+06   15521.112994      11.817957  1.052207e+06  7.214354e+06\n",
            "std    3.788873e+04    1587.787834     136.647803  6.499663e+06  6.010779e+07\n",
            "min    1.612339e+06   12346.000000       1.000000  1.200000e+04  1.200000e+04\n",
            "25%    1.650103e+06   14179.000000       2.000000  4.500000e+05  1.480000e+06\n",
            "50%    1.686661e+06   15478.000000       4.000000  6.950000e+05  3.795000e+06\n",
            "75%    1.716658e+06   16905.000000      12.000000  1.325000e+06  6.270000e+06\n",
            "max    1.742998e+06   18287.000000   74215.000000  2.849975e+09  2.790484e+10\n"
          ],
          "name": "stdout"
        }
      ]
    },
    {
      "cell_type": "code",
      "metadata": {
        "colab": {
          "base_uri": "https://localhost:8080/"
        },
        "id": "DJh41DSIFtMW",
        "outputId": "c716f3d5-e354-4060-b1b4-624d69b1a68b"
      },
      "source": [
        "# [4]. Filter hanya 5 province terbesar di pulau Jawa\n",
        "print('\\nFILTER 5 PROVINCE TERBESAR DI PULAU JAWA\\n')\n",
        "java = ['DKI Jakarta','Jawa Barat','Jawa Tengah','Jawa Timur','Yogyakarta']\n",
        "retail_table = retail_table.loc[retail_table['province'].isin(java)]\n",
        "#      Untuk memastikan kolom provinsi isinya sudah sama dengan java\n",
        "print(retail_table['province'].unique())\n",
        "\n",
        "# [5]. Kelompokkan sesuai dengan order_date dan province kemudian aggregasikan\n",
        "groupby_city_province = retail_table.groupby(['order_date','province']).agg({\n",
        "   'order_id': 'nunique',\n",
        "   'customer_id': 'nunique',\n",
        "   'product_id': 'nunique',\n",
        "   'brand': 'nunique',\n",
        "   'total_price': sum\n",
        "})\n",
        "#      Ubah nama kolomnya menjadi 'order','customer','product','brand','GMV'\n",
        "groupby_city_province.columns = ['order','customer','product','brand','GMV']\n",
        "print('\\ngroupby_city_province (10 data teratas):\\n', groupby_city_province.head(10))\n",
        "\n",
        "# [6]. Unstack untuk mendapatkan order_date di bagian baris dan province di bagian column\n",
        "unstack_city_province = groupby_city_province.unstack('province').fillna(0)\n",
        "print('\\nunstack_city_province (5 data teratas):\\n', unstack_city_province.head())"
      ],
      "execution_count": null,
      "outputs": [
        {
          "output_type": "stream",
          "text": [
            "\n",
            "FILTER 5 PROVINCE TERBESAR DI PULAU JAWA\n",
            "\n",
            "['DKI Jakarta' 'Jawa Barat' 'Jawa Timur' 'Yogyakarta' 'Jawa Tengah']\n",
            "\n",
            "groupby_city_province (10 data teratas):\n",
            "                         order  customer  product  brand         GMV\n",
            "order_date province                                                \n",
            "2019-01-01 DKI Jakarta     34        33      328     22  4717083000\n",
            "           Jawa Barat      11         9      136     18  1557289000\n",
            "           Jawa Tengah      4         4      116     20   352052000\n",
            "           Jawa Timur       6         6       83     15  1106603000\n",
            "           Yogyakarta       7         4       88     16  9454007000\n",
            "2019-01-02 DKI Jakarta     17        17      259     22  1877858000\n",
            "           Jawa Barat      10         9      194     22  1290147000\n",
            "           Jawa Tengah      4         3       49     15  1813991000\n",
            "           Jawa Timur       6         6       63     19   663106000\n",
            "           Yogyakarta       2         2       56     19   549622000\n",
            "\n",
            "unstack_city_province (5 data teratas):\n",
            "                  order             ...           GMV              \n",
            "province   DKI Jakarta Jawa Barat  ...    Jawa Timur    Yogyakarta\n",
            "order_date                         ...                            \n",
            "2019-01-01        34.0       11.0  ...  1.106603e+09  9.454007e+09\n",
            "2019-01-02        17.0       10.0  ...  6.631060e+08  5.496220e+08\n",
            "2019-01-03        11.0        4.0  ...  6.567010e+08  7.444940e+08\n",
            "2019-01-04        30.0        7.0  ...  2.110220e+08  7.368640e+08\n",
            "2019-01-05        21.0        8.0  ...  2.119120e+08  1.359550e+08\n",
            "\n",
            "[5 rows x 25 columns]\n"
          ],
          "name": "stdout"
        }
      ]
    },
    {
      "cell_type": "code",
      "metadata": {
        "colab": {
          "base_uri": "https://localhost:8080/"
        },
        "id": "keCQ5BHXk-zp",
        "outputId": "1d8f65d4-1958-4d0b-9898-dc183061d6c9"
      },
      "source": [
        "# [7]. Slicing data untuk masing-masing measurement, misal: order\n",
        "idx = pd.IndexSlice\n",
        "by_order = unstack_city_province.loc[:,'order']\n",
        "print('\\nby order (5 data teratas):\\n', by_order.head())\n",
        "\n",
        "# [8]. Lakukan resampling pada data tersebut untuk dilakukan perhitungan rata-rata bulanan \n",
        "by_order_monthly_mean = by_order.resample('M').mean()\n",
        "print('\\nby_order_monthly_mean (5 data teratas):\\n', by_order_monthly_mean.head())"
      ],
      "execution_count": null,
      "outputs": [
        {
          "output_type": "stream",
          "text": [
            "\n",
            "by order (5 data teratas):\n",
            " province    DKI Jakarta  Jawa Barat  Jawa Tengah  Jawa Timur  Yogyakarta\n",
            "order_date                                                              \n",
            "2019-01-01         34.0        11.0          4.0         6.0         7.0\n",
            "2019-01-02         17.0        10.0          4.0         6.0         2.0\n",
            "2019-01-03         11.0         4.0         10.0         5.0         6.0\n",
            "2019-01-04         30.0         7.0          8.0         1.0         8.0\n",
            "2019-01-05         21.0         8.0          2.0         3.0         2.0\n",
            "\n",
            "by_order_monthly_mean (5 data teratas):\n",
            " province    DKI Jakarta  Jawa Barat  Jawa Tengah  Jawa Timur  Yogyakarta\n",
            "order_date                                                              \n",
            "2019-01-31    21.526316    8.684211     4.421053    3.473684    4.368421\n",
            "2019-02-28    24.391304    8.173913     3.652174    3.869565    4.130435\n",
            "2019-03-31    25.111111    7.481481     3.703704    4.370370    3.740741\n",
            "2019-04-30    25.884615    9.807692     4.538462    4.000000    3.846154\n",
            "2019-05-31    28.409091   10.045455     4.409091    5.272727    4.772727\n"
          ],
          "name": "stdout"
        }
      ]
    }
  ]
}