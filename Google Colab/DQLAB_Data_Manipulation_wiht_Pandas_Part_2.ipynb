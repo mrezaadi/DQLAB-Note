{
  "nbformat": 4,
  "nbformat_minor": 0,
  "metadata": {
    "colab": {
      "name": "DQLAB - Data Manipulation wiht Pandas - Part 2.ipynb",
      "provenance": [],
      "collapsed_sections": [],
      "authorship_tag": "ABX9TyP9RJNvuJNK5IPJk57GGDV8",
      "include_colab_link": true
    },
    "kernelspec": {
      "name": "python3",
      "display_name": "Python 3"
    },
    "language_info": {
      "name": "python"
    }
  },
  "cells": [
    {
      "cell_type": "markdown",
      "metadata": {
        "id": "view-in-github",
        "colab_type": "text"
      },
      "source": [
        "<a href=\"https://colab.research.google.com/github/mrezaadi/DQLAB-Note/blob/main/Google%20Colab/DQLAB_Data_Manipulation_wiht_Pandas_Part_2.ipynb\" target=\"_parent\"><img src=\"https://colab.research.google.com/assets/colab-badge.svg\" alt=\"Open In Colab\"/></a>"
      ]
    },
    {
      "cell_type": "code",
      "metadata": {
        "id": "S2c_27wETTvD"
      },
      "source": [
        "import pandas as pd\n",
        "import numpy as np"
      ],
      "execution_count": 2,
      "outputs": []
    },
    {
      "cell_type": "markdown",
      "metadata": {
        "id": "dKIVdmMRVWh-"
      },
      "source": [
        "**APPEND**"
      ]
    },
    {
      "cell_type": "code",
      "metadata": {
        "colab": {
          "base_uri": "https://localhost:8080/"
        },
        "id": "IIsBLPbdTyQS",
        "outputId": "f240583d-65ee-45a6-bd17-66bbd30a75b2"
      },
      "source": [
        "# Buat series of int (s1) dan series of string (s2)\n",
        "s1 = pd.Series([1,2,3,4,5,6])\n",
        "s2 = pd.Series([\"a\", \"b\", \"c\", \"d\", \"e\", \"f\"])\n",
        "# Terapkan method append\n",
        "s2_append_s1 = s2.append(s1)\n",
        "print(\"Series - append:\\n\", s2_append_s1)\n",
        "# Buat dataframe df1 dan df2\n",
        "df1 = pd.DataFrame({'a':[1,2],\n",
        "\t\t   'b':[3,4]})\n",
        "df2 = pd.DataFrame({'b':[1,2],\n",
        "\t\t   'a':[3,4]})\n",
        "# Terapkan method append\n",
        "df2_append_df1 = df2.append(df1)\n",
        "print(\"Dataframe - append:\\n\", df2_append_df1)"
      ],
      "execution_count": 3,
      "outputs": [
        {
          "output_type": "stream",
          "text": [
            "Series - append:\n",
            " 0    a\n",
            "1    b\n",
            "2    c\n",
            "3    d\n",
            "4    e\n",
            "5    f\n",
            "0    1\n",
            "1    2\n",
            "2    3\n",
            "3    4\n",
            "4    5\n",
            "5    6\n",
            "dtype: object\n",
            "Dataframe - append:\n",
            "    b  a\n",
            "0  1  3\n",
            "1  2  4\n",
            "0  3  1\n",
            "1  4  2\n"
          ],
          "name": "stdout"
        }
      ]
    },
    {
      "cell_type": "markdown",
      "metadata": {
        "id": "HbO06XVKWQS4"
      },
      "source": [
        "**CONCAT**"
      ]
    },
    {
      "cell_type": "code",
      "metadata": {
        "colab": {
          "base_uri": "https://localhost:8080/"
        },
        "id": "GF7lP0xOWP_q",
        "outputId": "1a2715d2-cd91-4b89-8611-fe0e4d4417a2"
      },
      "source": [
        "# Buat dataframe df1 dan df2\n",
        "df1 = pd.DataFrame({'a':[1,2],\n",
        "\t\t\t\t\t'b':[3,4]})\n",
        "df2 = pd.DataFrame({'b':[1,2],\n",
        "\t\t\t\t\t'a':[3,4]})\n",
        "# Terapkan method concat row-wise\n",
        "row_wise_concat = pd.concat([df1,df2])\n",
        "print(\"Row-wise - concat:\\n\", row_wise_concat)\n",
        "# Terapkan method concat column-wise\n",
        "col_wise_concat = pd.concat([df1,df2], axis=1)\n",
        "print(\"Column-wise - concat:\\n\", col_wise_concat)\n",
        "# Penambahan identifier --> membentuk hasil penggabungan multiindex\n",
        "multiindex_concat = pd.concat([df1,df2], axis=0, keys=['df1', 'df2'])\n",
        "print(\"Multiindex - concat:\\n\", multiindex_concat)"
      ],
      "execution_count": 4,
      "outputs": [
        {
          "output_type": "stream",
          "text": [
            "Row-wise - concat:\n",
            "    a  b\n",
            "0  1  3\n",
            "1  2  4\n",
            "0  3  1\n",
            "1  4  2\n",
            "Column-wise - concat:\n",
            "    a  b  b  a\n",
            "0  1  3  1  3\n",
            "1  2  4  2  4\n",
            "Multiindex - concat:\n",
            "        a  b\n",
            "df1 0  1  3\n",
            "    1  2  4\n",
            "df2 0  3  1\n",
            "    1  4  2\n"
          ],
          "name": "stdout"
        }
      ]
    },
    {
      "cell_type": "markdown",
      "metadata": {
        "id": "tnGwSD0TaWRM"
      },
      "source": [
        "**MERGE**"
      ]
    },
    {
      "cell_type": "code",
      "metadata": {
        "colab": {
          "base_uri": "https://localhost:8080/"
        },
        "id": "xl-AIYlAaZQb",
        "outputId": "52597ea0-4203-4e7d-b481-1f2f25989651"
      },
      "source": [
        "# Untuk index tunggal\n",
        "\n",
        "# Buat dataframe df1 dan df2\n",
        "df1 = pd.DataFrame({\n",
        "   'key':['k1','k2','k3','k4','k5'],\n",
        "   'val1':[200, 500, 0, 500, 100],\n",
        "   'val2':[30, 50, 100, 20, 10]\n",
        "})\n",
        "df2 = pd.DataFrame({\n",
        "   'key':['k1','k3','k5','k7','k10'],\n",
        "   'val3':[1,2,3,4,5],\n",
        "   'val4':[6,7,8,8,10]\n",
        "})\n",
        "# Merge yang ekivalen dengan SQL left join\n",
        "merge_df_left = pd.merge(left=df1, right=df2, how='left', left_on='key', right_on='key') #Berdasarkan key yang sama. right_on dan key_on menunjukkan pada 'key' yang sama.\n",
        "print('Merge - Left:\\n', merge_df_left)\n",
        "# Merge yang ekivalen dengan SQL right join\n",
        "merge_df_right = pd.merge(left=df1, right=df2, how='right', left_on='key', right_on='key')\n",
        "print('Merge - Right:\\n', merge_df_right)\n",
        "# Merge yang ekivalen dengan SQL inner join\n",
        "merge_df_inner = pd.merge(left=df1, right=df2, how='inner', left_on='key', right_on='key')\n",
        "print('Merge - Inner:\\n', merge_df_inner)\n",
        "# Merge yang ekivalen dengan SQL outer join\n",
        "merge_df_outer = pd.merge(left=df1, right=df2, how='outer', left_on ='key', right_on='key')\n",
        "print('Merge - Outer:\\n', merge_df_outer)"
      ],
      "execution_count": 5,
      "outputs": [
        {
          "output_type": "stream",
          "text": [
            "Merge - Left:\n",
            "   key  val1  val2  val3  val4\n",
            "0  k1   200    30   1.0   6.0\n",
            "1  k2   500    50   NaN   NaN\n",
            "2  k3     0   100   2.0   7.0\n",
            "3  k4   500    20   NaN   NaN\n",
            "4  k5   100    10   3.0   8.0\n",
            "Merge - Right:\n",
            "    key   val1   val2  val3  val4\n",
            "0   k1  200.0   30.0     1     6\n",
            "1   k3    0.0  100.0     2     7\n",
            "2   k5  100.0   10.0     3     8\n",
            "3   k7    NaN    NaN     4     8\n",
            "4  k10    NaN    NaN     5    10\n",
            "Merge - Inner:\n",
            "   key  val1  val2  val3  val4\n",
            "0  k1   200    30     1     6\n",
            "1  k3     0   100     2     7\n",
            "2  k5   100    10     3     8\n",
            "Merge - Outer:\n",
            "    key   val1   val2  val3  val4\n",
            "0   k1  200.0   30.0   1.0   6.0\n",
            "1   k2  500.0   50.0   NaN   NaN\n",
            "2   k3    0.0  100.0   2.0   7.0\n",
            "3   k4  500.0   20.0   NaN   NaN\n",
            "4   k5  100.0   10.0   3.0   8.0\n",
            "5   k7    NaN    NaN   4.0   8.0\n",
            "6  k10    NaN    NaN   5.0  10.0\n"
          ],
          "name": "stdout"
        }
      ]
    },
    {
      "cell_type": "code",
      "metadata": {
        "colab": {
          "base_uri": "https://localhost:8080/"
        },
        "id": "3um1nZHic9Wh",
        "outputId": "e1f85ca7-5c72-402f-a000-847e9c439bfa"
      },
      "source": [
        "#Multi Index\n",
        "\n",
        "# Buat dataframe df1 dan df2\n",
        "df1 = pd.DataFrame({\n",
        "   'key':['k1','k2','k3','k4','k5'],\n",
        "   'val1':[200, 500, 0, 500, 100],\n",
        "   'val2':[30, 50, 100, 20, 10]\n",
        "}).set_index(['key', 'val2'])\n",
        "print('Dataframe 1:\\n', df1)\n",
        "df2 = pd.DataFrame({\n",
        "   'key':['k1','k3','k5','k7','k10'],\n",
        "   'val3':[1,2,3,4,5],\n",
        "   'val4':[6,7,8,8,10]\n",
        "}).set_index(['key', 'val3'])\n",
        "print('Dataframe 2:\\n', df2)\n",
        "# Merge dataframe yang memiliki multi index\n",
        "df_merge = pd.merge(df1.reset_index(), df2.reset_index())\n",
        "print('Merging dataframe:\\n', df_merge)"
      ],
      "execution_count": 6,
      "outputs": [
        {
          "output_type": "stream",
          "text": [
            "Dataframe 1:\n",
            "           val1\n",
            "key val2      \n",
            "k1  30     200\n",
            "k2  50     500\n",
            "k3  100      0\n",
            "k4  20     500\n",
            "k5  10     100\n",
            "Dataframe 2:\n",
            "           val4\n",
            "key val3      \n",
            "k1  1        6\n",
            "k3  2        7\n",
            "k5  3        8\n",
            "k7  4        8\n",
            "k10 5       10\n",
            "Merging dataframe:\n",
            "   key  val2  val1  val3  val4\n",
            "0  k1    30   200     1     6\n",
            "1  k3   100     0     2     7\n",
            "2  k5    10   100     3     8\n"
          ],
          "name": "stdout"
        }
      ]
    },
    {
      "cell_type": "markdown",
      "metadata": {
        "id": "wzbKqPCGeQuV"
      },
      "source": [
        "**JOIN**"
      ]
    },
    {
      "cell_type": "code",
      "metadata": {
        "colab": {
          "base_uri": "https://localhost:8080/"
        },
        "id": "Ii0ppSp5eQWL",
        "outputId": "39fedf68-8ef7-43fb-ec2f-58bc8819fdfd"
      },
      "source": [
        "df1 = pd.DataFrame({\n",
        "   'key':['k1','k2','k3','k4','k5'],\n",
        "   'val1':[200, 500, 0, 500, 100],\n",
        "   'val2':[30, 50, 100, 20, 10]\n",
        "})\n",
        "df2 = pd.DataFrame({\n",
        "   'key':['k1','k3','k5','k7','k10'],\n",
        "   'val3':[1,2,3,4,5],\n",
        "   'val4':[6,7,8,8,10]\n",
        "})\n",
        "# Penerapan join dengan menggunakan set_index dan keyword how\n",
        "join_df = df1.set_index('key').join(df2.set_index('key'), how='outer')\n",
        "print(join_df)"
      ],
      "execution_count": 7,
      "outputs": [
        {
          "output_type": "stream",
          "text": [
            "      val1   val2  val3  val4\n",
            "key                          \n",
            "k1   200.0   30.0   1.0   6.0\n",
            "k10    NaN    NaN   5.0  10.0\n",
            "k2   500.0   50.0   NaN   NaN\n",
            "k3     0.0  100.0   2.0   7.0\n",
            "k4   500.0   20.0   NaN   NaN\n",
            "k5   100.0   10.0   3.0   8.0\n",
            "k7     NaN    NaN   4.0   8.0\n"
          ],
          "name": "stdout"
        }
      ]
    },
    {
      "cell_type": "markdown",
      "metadata": {
        "id": "ilfUopJ0jinl"
      },
      "source": [
        "**PIVOT**"
      ]
    },
    {
      "cell_type": "code",
      "metadata": {
        "id": "eIJdZOzmjMn4"
      },
      "source": [
        "# Dataframe\n",
        "data = pd.DataFrame({\n",
        "  'kelas': 6*['A'] + 6*['B'],\n",
        "  'murid': 2*['A1'] + 2*['A2'] + 2*['A3'] + 2*['B1'] + 2*['B2'] + 2*['B3'],\n",
        "  'pelajaran': 6*['math','english'],\n",
        "  'nilai': [90,60,70,85,50,60,100,40,95,80,60,45]\n",
        "}, columns=['kelas', 'murid', 'pelajaran', 'nilai'])\n",
        "# Unique value pada setiap kolom data\n",
        "for column in data.columns:\n",
        "    print('Unique value %s: %s' % (column, data[column].unique()))\n",
        "\n",
        "# Pivoting with single column measurement\n",
        "pivot1 = data.pivot(index='murid', columns='pelajaran', values='nilai')\n",
        "print('Pivoting with single column measurement:\\n', pivot1)\n",
        "# Pivoting with multiple column measurement\n",
        "pivot2 = data.pivot(index='murid', columns='pelajaran')\n",
        "print('Pivoting with multiple column measurement:\\n', pivot2)\n",
        "data"
      ],
      "execution_count": null,
      "outputs": []
    },
    {
      "cell_type": "markdown",
      "metadata": {
        "id": "5uWMt_TxaaVp"
      },
      "source": [
        "**PIVOT TABLE**\n",
        "\n",
        "* Index di dataframe adalah unique identifier untuk setiap row, jadi tidak boleh ada duplikat dan setiap membuat pivot tabel, harus specify index as kolom yang mana dan columns nya memakai kolom yang mana.\n",
        "\n",
        "* Hal ini dapat diatasi dengan melakukan method .pivot_table() pada dataframe. Metode ini sama seperti melakukan pivot pada tabel tapi juga melakukan groupby dan aggregation (aggfunc) pada level rows sehingga dipastikan tidak ada duplicate index di rows (secara default aggfunc = 'mean')."
      ]
    },
    {
      "cell_type": "code",
      "metadata": {
        "colab": {
          "base_uri": "https://localhost:8080/"
        },
        "id": "nk4okXE1Xt9Q",
        "outputId": "efc06aa4-08de-4888-c273-aff8dd8310c8"
      },
      "source": [
        "# Dataframe\n",
        "data = pd.DataFrame({\n",
        "  'kelas': 6*['A'] + 6*['B'],\n",
        "  'murid': 2*['A1'] + 2*['A2'] + 2*['A3'] + 2*['B1'] + 2*['B2'] + 2*['B3'],\n",
        "  'pelajaran': 6*['math','english'],\n",
        "  'nilai': [90,60,70,85,50,60,100,40,95,80,60,45]\n",
        "}, columns=['kelas', 'murid', 'pelajaran', 'nilai'])\n",
        "# Creating pivot and assign pivot_tab dengan menggunakan keyword aggfunc=sum\n",
        "pivot_tab_sum = data.pivot_table(index='kelas', columns='pelajaran', values='nilai',aggfunc=sum)\n",
        "print('Creating pivot table -- aggfunc sum:\\n', pivot_tab_sum)\n",
        "# Creating pivot and assign pivot_tab dengan menggunakan keyword aggfunc='mean'\n",
        "pivot_tab_mean = data.pivot_table(index='kelas', columns='pelajaran', values='nilai', aggfunc='mean')\n",
        "print('Creating pivot table -- aggfunc mean:\\n', pivot_tab_mean)\n",
        "# Creating pivot and assign pivot_tab dengan menggunakan keyword aggfunc='median'\n",
        "pivot_tab_median = data.pivot_table(index='kelas', columns='pelajaran', values='nilai',aggfunc='median')\n",
        "print('Creating pivot table -- aggfunc median:\\n', pivot_tab_median)"
      ],
      "execution_count": 21,
      "outputs": [
        {
          "output_type": "stream",
          "text": [
            "Creating pivot table -- aggfunc sum:\n",
            " pelajaran  english  math\n",
            "kelas                   \n",
            "A              205   210\n",
            "B              165   255\n",
            "Creating pivot table -- aggfunc mean:\n",
            " pelajaran    english  math\n",
            "kelas                     \n",
            "A          68.333333  70.0\n",
            "B          55.000000  85.0\n",
            "Creating pivot table -- aggfunc median:\n",
            " pelajaran  english  math\n",
            "kelas                   \n",
            "A               60    70\n",
            "B               45    95\n"
          ],
          "name": "stdout"
        }
      ]
    },
    {
      "cell_type": "markdown",
      "metadata": {
        "id": "nxOjHTLeeHDL"
      },
      "source": [
        "**MELT**\n",
        "\n",
        "Teknik melt melalui pd.melt() digunakan untuk mengembalikan kondisi data yang sudah dilakukan pivot menjadi sebelum pivot."
      ]
    },
    {
      "cell_type": "code",
      "metadata": {
        "colab": {
          "base_uri": "https://localhost:8080/"
        },
        "id": "Kelv-zMneLFE",
        "outputId": "15a7678a-4920-4e56-c210-11353e1bf9de"
      },
      "source": [
        "# Dataframe\n",
        "data = pd.DataFrame({\n",
        "  'kelas': 6*['A'] + 6*['B'],\n",
        "  'murid': 2*['A1'] + 2*['A2'] + 2*['A3'] + 2*['B1'] + 2*['B2'] + 2*['B3'],\n",
        "  'pelajaran': 6*['math','english'],\n",
        "  'nilai': [90,60,70,85,50,60,100,40,95,80,60,45]\n",
        "}, columns=['kelas','murid','pelajaran','nilai'])\n",
        "# Pivoting dataframe\n",
        "data_pivot = data.pivot_table(index='kelas', columns='pelajaran', values='nilai',aggfunc='mean').reset_index()\n",
        "print('Pivoting dataframe:\\n', data_pivot)\n",
        "# [1] Melting dataframe data_pivot\n",
        "data_melt_1 = pd.melt(data_pivot)\n",
        "print('Melting dataframe:\\n', data_melt_1)\n",
        "# [2] Melting dataframe data_pivot dengan id_vars\n",
        "# Dengan menspesifikasi keyword argument id_vars yang ditujukan untuk membuat fix kolom yang sebagai id tiap barisnya\n",
        "data_melt_2 = pd.melt(data_pivot, id_vars='kelas')\n",
        "print('Melting dataframe dengan idvars:\\n', data_melt_2)\n",
        "# [3.a] Melting dataframe data_pivot dengan value_vars\n",
        "# Dengan menspesifikasikan keyword argument value_vars yang digunakan untuk menampilkan variasi value apa saja yang perlu dimunculkan di kolom variable. \n",
        "data_melt_3a = pd.melt(data_pivot, value_vars=['math'])\n",
        "print('Melting dataframe dengan value_vars:\\n', data_melt_3a)\n",
        "# [3.b] Melting dataframe data_pivot dengan id_vars dan value_vars\n",
        "data_melt_3b = pd.melt(data_pivot, id_vars='kelas', value_vars=['math'])\n",
        "print('Melting dataframe dengan id_vars dan value_vars:\\n', data_melt_3b)\n",
        "# [4] Melting dataframe data_pivot dengan id_vars, value_vars, var_name. dan value_name\n",
        "# Dengan spesifikasikan keyword argument var_name dan value_name yang digunakan untuk menampilkan nama kolom untuk variable dan value\n",
        "data_melt_4 = pd.melt(data_pivot, id_vars='kelas', value_vars=['english', 'math'], var_name='pelajaran', value_name='nliai ') #var_name dan value_name = menentukan nama tabel\n",
        "print('Melting dataframe dengan id_vars, value_vars, var_name. dan value_name:\\n', data_melt_4)"
      ],
      "execution_count": 26,
      "outputs": [
        {
          "output_type": "stream",
          "text": [
            "Pivoting dataframe:\n",
            " pelajaran kelas    english  math\n",
            "0             A  68.333333  70.0\n",
            "1             B  55.000000  85.0\n",
            "Melting dataframe:\n",
            "   pelajaran    value\n",
            "0     kelas        A\n",
            "1     kelas        B\n",
            "2   english  68.3333\n",
            "3   english       55\n",
            "4      math       70\n",
            "5      math       85\n",
            "Melting dataframe dengan idvars:\n",
            "   kelas pelajaran      value\n",
            "0     A   english  68.333333\n",
            "1     B   english  55.000000\n",
            "2     A      math  70.000000\n",
            "3     B      math  85.000000\n",
            "Melting dataframe dengan value_vars:\n",
            "   pelajaran  value\n",
            "0      math   70.0\n",
            "1      math   85.0\n",
            "Melting dataframe dengan id_vars dan value_vars:\n",
            "   kelas pelajaran  value\n",
            "0     A      math   70.0\n",
            "1     B      math   85.0\n",
            "Melting dataframe dengan id_vars, value_vars, var_name. dan value_name:\n",
            "   kelas pelajaran      nliai\n",
            "0     A   english  68.333333\n",
            "1     B   english  55.000000\n",
            "2     A      math  70.000000\n",
            "3     B      math  85.000000\n"
          ],
          "name": "stdout"
        }
      ]
    },
    {
      "cell_type": "markdown",
      "metadata": {
        "id": "2X3XBzrPoPhM"
      },
      "source": [
        "**STACK DAN UNSTACK**\n",
        "\n",
        "Konsep stacking dan unstacking sama dengan melt dan pivot secara berurutan, hanya saja tidak memasukkan index sebagai parameter di stack/unstack tapi harus set index terlebih dahulu, baru bisa melakukan stacking/unstacking dengan level yang bisa ditentukan sendiri."
      ]
    },
    {
      "cell_type": "code",
      "metadata": {
        "colab": {
          "base_uri": "https://localhost:8080/"
        },
        "id": "Up39Kt2loPNa",
        "outputId": "e2ebbbe5-ee37-4f49-8dc4-6aa2bef33ea5"
      },
      "source": [
        "#Unstack\n",
        "# Dataframe\n",
        "data = pd.DataFrame({\n",
        "  'kelas': 6*['A'] + 6*['B'],\n",
        "  'murid': 2*['A1'] + 2*['A2'] + 2*['A3'] + 2*['B1'] + 2*['B2'] + 2*['B3'],\n",
        "  'pelajaran': 6*['math','english'],\n",
        "  'nilai': [90,60,70,85,50,60,100,40,95,80,60,45]\n",
        "}, columns=['kelas','murid','pelajaran','nilai'])\n",
        "print('Dataframe:\\n', data)\n",
        "# Set index data untuk kolom kelas, murid, dan pelajaran\n",
        "data = data.set_index(['kelas', 'murid', 'pelajaran'])\n",
        "print('Dataframe multi index:\\n', data)\n",
        "# [1] Unstacking dataframe\n",
        "data_unstack_1 = data.unstack()\n",
        "print('Unstacking dataframe:\\n', data_unstack_1)\n",
        "# [2] Unstacking dengan specify level name\n",
        "data_unstack_2 = data.unstack(level='murid')\n",
        "print('Unstacking dataframe dengan level name:\\n', data_unstack_2)\n",
        "# [3] Unstacking dengan specify level position\n",
        "data_unstack_3 = data.unstack(level=1)\n",
        "print('Unstacking dataframe dengan level position:\\n', data_unstack_3)\n",
        "\n",
        "#Quiz\n",
        "print(\"\\nQuiz\")\n",
        "print(data.unstack())\n",
        "print(data.unstack([0,1])) #Berdasarkan urutan index nya, artinya index ke-0('kelas') dan index ke-1('murid') dipindahkan ke atas\n",
        "print(data.unstack([0,2]))\n",
        "print(data.unstack([1,2]))"
      ],
      "execution_count": 42,
      "outputs": [
        {
          "output_type": "stream",
          "text": [
            "Dataframe:\n",
            "    kelas murid pelajaran  nilai\n",
            "0      A    A1      math     90\n",
            "1      A    A1   english     60\n",
            "2      A    A2      math     70\n",
            "3      A    A2   english     85\n",
            "4      A    A3      math     50\n",
            "5      A    A3   english     60\n",
            "6      B    B1      math    100\n",
            "7      B    B1   english     40\n",
            "8      B    B2      math     95\n",
            "9      B    B2   english     80\n",
            "10     B    B3      math     60\n",
            "11     B    B3   english     45\n",
            "Dataframe multi index:\n",
            "                        nilai\n",
            "kelas murid pelajaran       \n",
            "A     A1    math          90\n",
            "            english       60\n",
            "      A2    math          70\n",
            "            english       85\n",
            "      A3    math          50\n",
            "            english       60\n",
            "B     B1    math         100\n",
            "            english       40\n",
            "      B2    math          95\n",
            "            english       80\n",
            "      B3    math          60\n",
            "            english       45\n",
            "Unstacking dataframe:\n",
            "               nilai     \n",
            "pelajaran   english math\n",
            "kelas murid             \n",
            "A     A1         60   90\n",
            "      A2         85   70\n",
            "      A3         60   50\n",
            "B     B1         40  100\n",
            "      B2         80   95\n",
            "      B3         45   60\n",
            "Unstacking dataframe dengan level name:\n",
            "                 nilai                               \n",
            "murid              A1    A2    A3     B1    B2    B3\n",
            "kelas pelajaran                                     \n",
            "A     english    60.0  85.0  60.0    NaN   NaN   NaN\n",
            "      math       90.0  70.0  50.0    NaN   NaN   NaN\n",
            "B     english     NaN   NaN   NaN   40.0  80.0  45.0\n",
            "      math        NaN   NaN   NaN  100.0  95.0  60.0\n",
            "Unstacking dataframe dengan level position:\n",
            "                 nilai                               \n",
            "murid              A1    A2    A3     B1    B2    B3\n",
            "kelas pelajaran                                     \n",
            "A     english    60.0  85.0  60.0    NaN   NaN   NaN\n",
            "      math       90.0  70.0  50.0    NaN   NaN   NaN\n",
            "B     english     NaN   NaN   NaN   40.0  80.0  45.0\n",
            "      math        NaN   NaN   NaN  100.0  95.0  60.0\n",
            "\n",
            "Quiz\n",
            "              nilai     \n",
            "pelajaran   english math\n",
            "kelas murid             \n",
            "A     A1         60   90\n",
            "      A2         85   70\n",
            "      A3         60   50\n",
            "B     B1         40  100\n",
            "      B2         80   95\n",
            "      B3         45   60\n",
            "          nilai                     \n",
            "kelas         A            B        \n",
            "murid        A1  A2  A3   B1  B2  B3\n",
            "pelajaran                           \n",
            "english      60  85  60   40  80  45\n",
            "math         90  70  50  100  95  60\n",
            "          nilai                       \n",
            "kelas         A              B        \n",
            "pelajaran  math english   math english\n",
            "murid                                 \n",
            "A1         90.0    60.0    NaN     NaN\n",
            "A2         70.0    85.0    NaN     NaN\n",
            "A3         50.0    60.0    NaN     NaN\n",
            "B1          NaN     NaN  100.0    40.0\n",
            "B2          NaN     NaN   95.0    80.0\n",
            "B3          NaN     NaN   60.0    45.0\n",
            "          nilai                              ...                                    \n",
            "murid        A1            A2            A3  ...      B1    B2            B3        \n",
            "pelajaran  math english  math english  math  ... english  math english  math english\n",
            "kelas                                        ...                                    \n",
            "A          90.0    60.0  70.0    85.0  50.0  ...     NaN   NaN     NaN   NaN     NaN\n",
            "B           NaN     NaN   NaN     NaN   NaN  ...    40.0  95.0    80.0  60.0    45.0\n",
            "\n",
            "[2 rows x 12 columns]\n"
          ],
          "name": "stdout"
        }
      ]
    },
    {
      "cell_type": "code",
      "metadata": {
        "colab": {
          "base_uri": "https://localhost:8080/"
        },
        "id": "Z616RhnrqX6m",
        "outputId": "9aa10d94-18b2-4d46-db04-fdc285bf000d"
      },
      "source": [
        "#Stack\n",
        "# Dataframe\n",
        "data = pd.DataFrame({\n",
        "  'kelas': 6*['A'] + 6*['B'],\n",
        "  'murid': 2*['A1'] + 2*['A2'] + 2*['A3'] + 2*['B1'] + 2*['B2'] + 2*['B3'],\n",
        "  'pelajaran': 6*['math','english'],\n",
        "  'nilai': [90,60,70,85,50,60,100,40,95,80,60,45]\n",
        "}, columns=['kelas','murid','pelajaran','nilai'])\n",
        "data = data.set_index(['kelas','murid','pelajaran'])\n",
        "data_unstack = data.unstack(level=1)\n",
        "print('Dataframe:\\n', data_unstack)\n",
        "# [1] Stacking dataframe\n",
        "data_stack = data_unstack.stack()\n",
        "print('Stacked dataframe:\\n', data_stack)\n",
        "# [2] Tukar posisi index setelah stacking dataframe\n",
        "data_swap = data_stack.swaplevel(1,2)\n",
        "print('Swapped data:\\n', data_swap)\n",
        "# [3] Melakukan sort_index pada stacking dataframe\n",
        "data_sort = data_swap.sort_index()\n",
        "print('Sorted data:\\n', data_sort)"
      ],
      "execution_count": 29,
      "outputs": [
        {
          "output_type": "stream",
          "text": [
            "Dataframe:\n",
            "                 nilai                               \n",
            "murid              A1    A2    A3     B1    B2    B3\n",
            "kelas pelajaran                                     \n",
            "A     english    60.0  85.0  60.0    NaN   NaN   NaN\n",
            "      math       90.0  70.0  50.0    NaN   NaN   NaN\n",
            "B     english     NaN   NaN   NaN   40.0  80.0  45.0\n",
            "      math        NaN   NaN   NaN  100.0  95.0  60.0\n",
            "Stacked dataframe:\n",
            "                        nilai\n",
            "kelas pelajaran murid       \n",
            "A     english   A1      60.0\n",
            "                A2      85.0\n",
            "                A3      60.0\n",
            "      math      A1      90.0\n",
            "                A2      70.0\n",
            "                A3      50.0\n",
            "B     english   B1      40.0\n",
            "                B2      80.0\n",
            "                B3      45.0\n",
            "      math      B1     100.0\n",
            "                B2      95.0\n",
            "                B3      60.0\n",
            "Swapped data:\n",
            "                        nilai\n",
            "kelas murid pelajaran       \n",
            "A     A1    english     60.0\n",
            "      A2    english     85.0\n",
            "      A3    english     60.0\n",
            "      A1    math        90.0\n",
            "      A2    math        70.0\n",
            "      A3    math        50.0\n",
            "B     B1    english     40.0\n",
            "      B2    english     80.0\n",
            "      B3    english     45.0\n",
            "      B1    math       100.0\n",
            "      B2    math        95.0\n",
            "      B3    math        60.0\n",
            "Sorted data:\n",
            "                        nilai\n",
            "kelas murid pelajaran       \n",
            "A     A1    english     60.0\n",
            "            math        90.0\n",
            "      A2    english     85.0\n",
            "            math        70.0\n",
            "      A3    english     60.0\n",
            "            math        50.0\n",
            "B     B1    english     40.0\n",
            "            math       100.0\n",
            "      B2    english     80.0\n",
            "            math        95.0\n",
            "      B3    english     45.0\n",
            "            math        60.0\n"
          ],
          "name": "stdout"
        }
      ]
    },
    {
      "cell_type": "markdown",
      "metadata": {
        "id": "9zOLjzDZuKR9"
      },
      "source": [
        "**AGREGASI**\n",
        "\n",
        "Teknik agregasi diperlukan ketika mau melihat dataset dengan view yang berbeda, bisa set data tersebut akan dikelompokkan seperti apa, yang kemudian juga bisa menerapkan beberapa fungsi atau metode statistik ke hasil group dataset itu untuk mengetahui behavior dari data tersebut secara summary/overview.\n",
        "\n",
        "Groupby memiliki konsep untuk\n",
        "* Split: melakukan indexing/multi-indexing dengan apa yang di specify as groupby menjadi kelompok\n",
        "* Apply: menerapkan fungsi pada masing-masing kelompok tersebut\n",
        "* Combine: mengumpulkan semua hasil fungsi dari tiap kelompok kembali menjadi dataframe\n",
        "\n",
        "![Basic Concept of Groupby & Aggregation.png](data:image/png;base64,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)\n",
        "\n"
      ]
    },
    {
      "cell_type": "code",
      "metadata": {
        "id": "zsx3altnuGEC"
      },
      "source": [
        ""
      ],
      "execution_count": null,
      "outputs": []
    }
  ]
}